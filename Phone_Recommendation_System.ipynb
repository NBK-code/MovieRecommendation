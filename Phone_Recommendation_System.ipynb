{
  "nbformat": 4,
  "nbformat_minor": 0,
  "metadata": {
    "colab": {
      "name": "Phone_Recommendation_System.ipynb",
      "provenance": [],
      "collapsed_sections": [],
      "authorship_tag": "ABX9TyN4pxs/JYT39TAacbMW/Koi",
      "include_colab_link": true
    },
    "kernelspec": {
      "name": "python3",
      "display_name": "Python 3"
    },
    "language_info": {
      "name": "python"
    }
  },
  "cells": [
    {
      "cell_type": "markdown",
      "metadata": {
        "id": "view-in-github",
        "colab_type": "text"
      },
      "source": [
        "<a href=\"https://colab.research.google.com/github/NBK-code/MovieRecommendation/blob/main/Phone_Recommendation_System.ipynb\" target=\"_parent\"><img src=\"https://colab.research.google.com/assets/colab-badge.svg\" alt=\"Open In Colab\"/></a>"
      ]
    },
    {
      "cell_type": "markdown",
      "source": [
        "#1. Import Neccessary Libraries"
      ],
      "metadata": {
        "id": "VCMf145WhA4J"
      }
    },
    {
      "cell_type": "code",
      "execution_count": 4,
      "metadata": {
        "id": "wkakAERPEaMF"
      },
      "outputs": [],
      "source": [
        "import pandas as pd\n",
        "import numpy as np\n",
        "import matplotlib.pyplot as plt\n",
        "import tensorflow as tf"
      ]
    },
    {
      "cell_type": "markdown",
      "source": [
        "#2. Data Preprocessing"
      ],
      "metadata": {
        "id": "XvGIEsMUhUjt"
      }
    },
    {
      "cell_type": "markdown",
      "source": [
        "###2.1. Import data as Pandas Dataframes"
      ],
      "metadata": {
        "id": "Y5csKQwohgtI"
      }
    },
    {
      "cell_type": "code",
      "source": [
        "df_manual_rankings = pd.read_csv('/content/Manual_Rankings.csv')\n",
        "df_manual_scorings = pd.read_csv('/content/Manual_Scorings.csv')\n",
        "df_phone_data = pd.read_csv('/content/Phone_Data.csv')"
      ],
      "metadata": {
        "id": "sIDD2KFQEkQC"
      },
      "execution_count": 5,
      "outputs": []
    },
    {
      "cell_type": "code",
      "source": [
        "df_manual_scorings.head()"
      ],
      "metadata": {
        "colab": {
          "base_uri": "https://localhost:8080/",
          "height": 438
        },
        "id": "9Zp8-oJGEmoj",
        "outputId": "3d70d841-ad01-418e-b78a-cfd463172b75"
      },
      "execution_count": 6,
      "outputs": [
        {
          "output_type": "execute_result",
          "data": {
            "text/plain": [
              "              OS    Budget           Size Camera Importance     Usage  \\\n",
              "0  No Preference       NaN  No preference             A lot     0 - 4   \n",
              "1  No Preference       NaN          Large          A little     4 - 8   \n",
              "2  No Preference       NaN            NaN             A lot     4 - 8   \n",
              "3  No Preference  Not sure  No preference             A lot  Not sure   \n",
              "4  No Preference    $1000+          Large               NaN     0 - 4   \n",
              "\n",
              "  Pay More For Performance?  Apple iPhone 11  Apple iPhone 12  \\\n",
              "0                        No                2                0   \n",
              "1                       NaN                0                0   \n",
              "2                       Yes                0                3   \n",
              "3                        No                2                0   \n",
              "4                        No                0                0   \n",
              "\n",
              "   Apple iPhone 12 mini  Apple iPhone 13  ...  Samsung Galaxy A32  \\\n",
              "0                     0                0  ...                   0   \n",
              "1                     0                0  ...                   0   \n",
              "2                     2                4  ...                   0   \n",
              "3                     0                0  ...                   0   \n",
              "4                     0                0  ...                   0   \n",
              "\n",
              "   Samsung Galaxy A42  Samsung Galaxy A53  Samsung Galaxy S20 FE  \\\n",
              "0                   1                   2                      3   \n",
              "1                   0                   0                      1   \n",
              "2                   0                   0                      3   \n",
              "3                   1                   2                      3   \n",
              "4                   0                   0                      1   \n",
              "\n",
              "   Samsung Galaxy S21 FE  Samsung Galaxy S22  Samsung Galaxy S22 Ultra  \\\n",
              "0                      3                   0                         0   \n",
              "1                      0                   0                         4   \n",
              "2                      4                   3                         4   \n",
              "3                      3                   0                         0   \n",
              "4                      0                   0                         4   \n",
              "\n",
              "   Samsung Galaxy S22+  Sony Xperia 1 III  Sony Xperia 5 III  \n",
              "0                    0                  0                  0  \n",
              "1                    2                  0                  0  \n",
              "2                    4                  0                  0  \n",
              "3                    0                  0                  0  \n",
              "4                    2                  0                  0  \n",
              "\n",
              "[5 rows x 36 columns]"
            ],
            "text/html": [
              "\n",
              "  <div id=\"df-7b2e3270-a087-4fb3-b051-60df619318b2\">\n",
              "    <div class=\"colab-df-container\">\n",
              "      <div>\n",
              "<style scoped>\n",
              "    .dataframe tbody tr th:only-of-type {\n",
              "        vertical-align: middle;\n",
              "    }\n",
              "\n",
              "    .dataframe tbody tr th {\n",
              "        vertical-align: top;\n",
              "    }\n",
              "\n",
              "    .dataframe thead th {\n",
              "        text-align: right;\n",
              "    }\n",
              "</style>\n",
              "<table border=\"1\" class=\"dataframe\">\n",
              "  <thead>\n",
              "    <tr style=\"text-align: right;\">\n",
              "      <th></th>\n",
              "      <th>OS</th>\n",
              "      <th>Budget</th>\n",
              "      <th>Size</th>\n",
              "      <th>Camera Importance</th>\n",
              "      <th>Usage</th>\n",
              "      <th>Pay More For Performance?</th>\n",
              "      <th>Apple iPhone 11</th>\n",
              "      <th>Apple iPhone 12</th>\n",
              "      <th>Apple iPhone 12 mini</th>\n",
              "      <th>Apple iPhone 13</th>\n",
              "      <th>...</th>\n",
              "      <th>Samsung Galaxy A32</th>\n",
              "      <th>Samsung Galaxy A42</th>\n",
              "      <th>Samsung Galaxy A53</th>\n",
              "      <th>Samsung Galaxy S20 FE</th>\n",
              "      <th>Samsung Galaxy S21 FE</th>\n",
              "      <th>Samsung Galaxy S22</th>\n",
              "      <th>Samsung Galaxy S22 Ultra</th>\n",
              "      <th>Samsung Galaxy S22+</th>\n",
              "      <th>Sony Xperia 1 III</th>\n",
              "      <th>Sony Xperia 5 III</th>\n",
              "    </tr>\n",
              "  </thead>\n",
              "  <tbody>\n",
              "    <tr>\n",
              "      <th>0</th>\n",
              "      <td>No Preference</td>\n",
              "      <td>NaN</td>\n",
              "      <td>No preference</td>\n",
              "      <td>A lot</td>\n",
              "      <td>0 - 4</td>\n",
              "      <td>No</td>\n",
              "      <td>2</td>\n",
              "      <td>0</td>\n",
              "      <td>0</td>\n",
              "      <td>0</td>\n",
              "      <td>...</td>\n",
              "      <td>0</td>\n",
              "      <td>1</td>\n",
              "      <td>2</td>\n",
              "      <td>3</td>\n",
              "      <td>3</td>\n",
              "      <td>0</td>\n",
              "      <td>0</td>\n",
              "      <td>0</td>\n",
              "      <td>0</td>\n",
              "      <td>0</td>\n",
              "    </tr>\n",
              "    <tr>\n",
              "      <th>1</th>\n",
              "      <td>No Preference</td>\n",
              "      <td>NaN</td>\n",
              "      <td>Large</td>\n",
              "      <td>A little</td>\n",
              "      <td>4 - 8</td>\n",
              "      <td>NaN</td>\n",
              "      <td>0</td>\n",
              "      <td>0</td>\n",
              "      <td>0</td>\n",
              "      <td>0</td>\n",
              "      <td>...</td>\n",
              "      <td>0</td>\n",
              "      <td>0</td>\n",
              "      <td>0</td>\n",
              "      <td>1</td>\n",
              "      <td>0</td>\n",
              "      <td>0</td>\n",
              "      <td>4</td>\n",
              "      <td>2</td>\n",
              "      <td>0</td>\n",
              "      <td>0</td>\n",
              "    </tr>\n",
              "    <tr>\n",
              "      <th>2</th>\n",
              "      <td>No Preference</td>\n",
              "      <td>NaN</td>\n",
              "      <td>NaN</td>\n",
              "      <td>A lot</td>\n",
              "      <td>4 - 8</td>\n",
              "      <td>Yes</td>\n",
              "      <td>0</td>\n",
              "      <td>3</td>\n",
              "      <td>2</td>\n",
              "      <td>4</td>\n",
              "      <td>...</td>\n",
              "      <td>0</td>\n",
              "      <td>0</td>\n",
              "      <td>0</td>\n",
              "      <td>3</td>\n",
              "      <td>4</td>\n",
              "      <td>3</td>\n",
              "      <td>4</td>\n",
              "      <td>4</td>\n",
              "      <td>0</td>\n",
              "      <td>0</td>\n",
              "    </tr>\n",
              "    <tr>\n",
              "      <th>3</th>\n",
              "      <td>No Preference</td>\n",
              "      <td>Not sure</td>\n",
              "      <td>No preference</td>\n",
              "      <td>A lot</td>\n",
              "      <td>Not sure</td>\n",
              "      <td>No</td>\n",
              "      <td>2</td>\n",
              "      <td>0</td>\n",
              "      <td>0</td>\n",
              "      <td>0</td>\n",
              "      <td>...</td>\n",
              "      <td>0</td>\n",
              "      <td>1</td>\n",
              "      <td>2</td>\n",
              "      <td>3</td>\n",
              "      <td>3</td>\n",
              "      <td>0</td>\n",
              "      <td>0</td>\n",
              "      <td>0</td>\n",
              "      <td>0</td>\n",
              "      <td>0</td>\n",
              "    </tr>\n",
              "    <tr>\n",
              "      <th>4</th>\n",
              "      <td>No Preference</td>\n",
              "      <td>$1000+</td>\n",
              "      <td>Large</td>\n",
              "      <td>NaN</td>\n",
              "      <td>0 - 4</td>\n",
              "      <td>No</td>\n",
              "      <td>0</td>\n",
              "      <td>0</td>\n",
              "      <td>0</td>\n",
              "      <td>0</td>\n",
              "      <td>...</td>\n",
              "      <td>0</td>\n",
              "      <td>0</td>\n",
              "      <td>0</td>\n",
              "      <td>1</td>\n",
              "      <td>0</td>\n",
              "      <td>0</td>\n",
              "      <td>4</td>\n",
              "      <td>2</td>\n",
              "      <td>0</td>\n",
              "      <td>0</td>\n",
              "    </tr>\n",
              "  </tbody>\n",
              "</table>\n",
              "<p>5 rows × 36 columns</p>\n",
              "</div>\n",
              "      <button class=\"colab-df-convert\" onclick=\"convertToInteractive('df-7b2e3270-a087-4fb3-b051-60df619318b2')\"\n",
              "              title=\"Convert this dataframe to an interactive table.\"\n",
              "              style=\"display:none;\">\n",
              "        \n",
              "  <svg xmlns=\"http://www.w3.org/2000/svg\" height=\"24px\"viewBox=\"0 0 24 24\"\n",
              "       width=\"24px\">\n",
              "    <path d=\"M0 0h24v24H0V0z\" fill=\"none\"/>\n",
              "    <path d=\"M18.56 5.44l.94 2.06.94-2.06 2.06-.94-2.06-.94-.94-2.06-.94 2.06-2.06.94zm-11 1L8.5 8.5l.94-2.06 2.06-.94-2.06-.94L8.5 2.5l-.94 2.06-2.06.94zm10 10l.94 2.06.94-2.06 2.06-.94-2.06-.94-.94-2.06-.94 2.06-2.06.94z\"/><path d=\"M17.41 7.96l-1.37-1.37c-.4-.4-.92-.59-1.43-.59-.52 0-1.04.2-1.43.59L10.3 9.45l-7.72 7.72c-.78.78-.78 2.05 0 2.83L4 21.41c.39.39.9.59 1.41.59.51 0 1.02-.2 1.41-.59l7.78-7.78 2.81-2.81c.8-.78.8-2.07 0-2.86zM5.41 20L4 18.59l7.72-7.72 1.47 1.35L5.41 20z\"/>\n",
              "  </svg>\n",
              "      </button>\n",
              "      \n",
              "  <style>\n",
              "    .colab-df-container {\n",
              "      display:flex;\n",
              "      flex-wrap:wrap;\n",
              "      gap: 12px;\n",
              "    }\n",
              "\n",
              "    .colab-df-convert {\n",
              "      background-color: #E8F0FE;\n",
              "      border: none;\n",
              "      border-radius: 50%;\n",
              "      cursor: pointer;\n",
              "      display: none;\n",
              "      fill: #1967D2;\n",
              "      height: 32px;\n",
              "      padding: 0 0 0 0;\n",
              "      width: 32px;\n",
              "    }\n",
              "\n",
              "    .colab-df-convert:hover {\n",
              "      background-color: #E2EBFA;\n",
              "      box-shadow: 0px 1px 2px rgba(60, 64, 67, 0.3), 0px 1px 3px 1px rgba(60, 64, 67, 0.15);\n",
              "      fill: #174EA6;\n",
              "    }\n",
              "\n",
              "    [theme=dark] .colab-df-convert {\n",
              "      background-color: #3B4455;\n",
              "      fill: #D2E3FC;\n",
              "    }\n",
              "\n",
              "    [theme=dark] .colab-df-convert:hover {\n",
              "      background-color: #434B5C;\n",
              "      box-shadow: 0px 1px 3px 1px rgba(0, 0, 0, 0.15);\n",
              "      filter: drop-shadow(0px 1px 2px rgba(0, 0, 0, 0.3));\n",
              "      fill: #FFFFFF;\n",
              "    }\n",
              "  </style>\n",
              "\n",
              "      <script>\n",
              "        const buttonEl =\n",
              "          document.querySelector('#df-7b2e3270-a087-4fb3-b051-60df619318b2 button.colab-df-convert');\n",
              "        buttonEl.style.display =\n",
              "          google.colab.kernel.accessAllowed ? 'block' : 'none';\n",
              "\n",
              "        async function convertToInteractive(key) {\n",
              "          const element = document.querySelector('#df-7b2e3270-a087-4fb3-b051-60df619318b2');\n",
              "          const dataTable =\n",
              "            await google.colab.kernel.invokeFunction('convertToInteractive',\n",
              "                                                     [key], {});\n",
              "          if (!dataTable) return;\n",
              "\n",
              "          const docLinkHtml = 'Like what you see? Visit the ' +\n",
              "            '<a target=\"_blank\" href=https://colab.research.google.com/notebooks/data_table.ipynb>data table notebook</a>'\n",
              "            + ' to learn more about interactive tables.';\n",
              "          element.innerHTML = '';\n",
              "          dataTable['output_type'] = 'display_data';\n",
              "          await google.colab.output.renderOutput(dataTable, element);\n",
              "          const docLink = document.createElement('div');\n",
              "          docLink.innerHTML = docLinkHtml;\n",
              "          element.appendChild(docLink);\n",
              "        }\n",
              "      </script>\n",
              "    </div>\n",
              "  </div>\n",
              "  "
            ]
          },
          "metadata": {},
          "execution_count": 6
        }
      ]
    },
    {
      "cell_type": "code",
      "source": [
        "df_manual_scorings.columns"
      ],
      "metadata": {
        "colab": {
          "base_uri": "https://localhost:8080/"
        },
        "id": "pdACHSJHEtm8",
        "outputId": "0e446451-91e6-413b-9e6e-44a671549c25"
      },
      "execution_count": 7,
      "outputs": [
        {
          "output_type": "execute_result",
          "data": {
            "text/plain": [
              "Index(['OS', 'Budget', 'Size', 'Camera Importance', 'Usage',\n",
              "       'Pay More For Performance?', 'Apple iPhone 11', 'Apple iPhone 12',\n",
              "       'Apple iPhone 12 mini', 'Apple iPhone 13', 'Apple iPhone 13 mini',\n",
              "       'Apple iPhone 13 Pro', 'Apple iPhone 13 Pro Max',\n",
              "       'Apple iPhone SE (2022)', 'Google Pixel 5a', 'Google Pixel 6',\n",
              "       'Google Pixel 6 Pro', 'Motorola Edge (2021)', 'Motorola Edge 30 Pro',\n",
              "       'Motorola Moto G Stylus', 'Motorola Moto G100', 'OnePlus 8T',\n",
              "       'OnePlus 9', 'OnePlus 9 Pro', 'OnePlus Nord N200', 'Samsung Galaxy A13',\n",
              "       'Samsung Galaxy A32', 'Samsung Galaxy A42', 'Samsung Galaxy A53',\n",
              "       'Samsung Galaxy S20 FE', 'Samsung Galaxy S21 FE', 'Samsung Galaxy S22',\n",
              "       'Samsung Galaxy S22 Ultra', 'Samsung Galaxy S22+', 'Sony Xperia 1 III',\n",
              "       'Sony Xperia 5 III'],\n",
              "      dtype='object')"
            ]
          },
          "metadata": {},
          "execution_count": 7
        }
      ]
    },
    {
      "cell_type": "code",
      "source": [
        "df_manual_scorings.shape"
      ],
      "metadata": {
        "colab": {
          "base_uri": "https://localhost:8080/"
        },
        "id": "HU0kJrqmFZK3",
        "outputId": "12e14f69-a7e5-454b-da9b-4fb9d6cadb31"
      },
      "execution_count": 8,
      "outputs": [
        {
          "output_type": "execute_result",
          "data": {
            "text/plain": [
              "(100, 36)"
            ]
          },
          "metadata": {},
          "execution_count": 8
        }
      ]
    },
    {
      "cell_type": "markdown",
      "source": [
        "### 2.2. Check for missing values"
      ],
      "metadata": {
        "id": "D0hOTOJshwbm"
      }
    },
    {
      "cell_type": "code",
      "source": [
        "df_manual_scorings['OS'].value_counts(dropna=False)"
      ],
      "metadata": {
        "colab": {
          "base_uri": "https://localhost:8080/"
        },
        "id": "uqsZIPLNFuy9",
        "outputId": "ddc7ae16-e184-4af0-a084-21b800224fd2"
      },
      "execution_count": 9,
      "outputs": [
        {
          "output_type": "execute_result",
          "data": {
            "text/plain": [
              "Must be Android    36\n",
              "No Preference      35\n",
              "Must be iPhone     29\n",
              "Name: OS, dtype: int64"
            ]
          },
          "metadata": {},
          "execution_count": 9
        }
      ]
    },
    {
      "cell_type": "code",
      "source": [
        "df_manual_scorings['Budget'].value_counts(dropna=False)"
      ],
      "metadata": {
        "colab": {
          "base_uri": "https://localhost:8080/"
        },
        "id": "ANimg19BGfFG",
        "outputId": "22ad9286-3f68-4e5d-a0b5-1ef0b07dfbc4"
      },
      "execution_count": 10,
      "outputs": [
        {
          "output_type": "execute_result",
          "data": {
            "text/plain": [
              "$800        22\n",
              "$1000+      19\n",
              "$600        18\n",
              "$400        17\n",
              "NaN         14\n",
              "Not sure    10\n",
              "Name: Budget, dtype: int64"
            ]
          },
          "metadata": {},
          "execution_count": 10
        }
      ]
    },
    {
      "cell_type": "code",
      "source": [
        "df_manual_scorings['Size'].value_counts(dropna=False)"
      ],
      "metadata": {
        "colab": {
          "base_uri": "https://localhost:8080/"
        },
        "id": "Rq4ZL7oaGxbl",
        "outputId": "791c1383-6add-4d4f-d8e4-c843ffb35fe6"
      },
      "execution_count": 11,
      "outputs": [
        {
          "output_type": "execute_result",
          "data": {
            "text/plain": [
              "NaN              27\n",
              "No preference    20\n",
              "Small            19\n",
              "Medium           19\n",
              "Large            15\n",
              "Name: Size, dtype: int64"
            ]
          },
          "metadata": {},
          "execution_count": 11
        }
      ]
    },
    {
      "cell_type": "code",
      "source": [
        "df_manual_scorings['Camera Importance'].value_counts(dropna=False)"
      ],
      "metadata": {
        "colab": {
          "base_uri": "https://localhost:8080/"
        },
        "id": "hz6kJqmhG4fO",
        "outputId": "f0d0241a-f6ab-4530-a4c4-2f80687c2e03"
      },
      "execution_count": 12,
      "outputs": [
        {
          "output_type": "execute_result",
          "data": {
            "text/plain": [
              "A lot       24\n",
              "NaN         23\n",
              "A little    19\n",
              "A ton       19\n",
              "Somewhat    15\n",
              "Name: Camera Importance, dtype: int64"
            ]
          },
          "metadata": {},
          "execution_count": 12
        }
      ]
    },
    {
      "cell_type": "code",
      "source": [
        "df_manual_scorings['Usage'].value_counts(dropna=False)"
      ],
      "metadata": {
        "colab": {
          "base_uri": "https://localhost:8080/"
        },
        "id": "KnUQ5usUHGTJ",
        "outputId": "dff970bd-07c4-49c5-b750-31d2c370125b"
      },
      "execution_count": 13,
      "outputs": [
        {
          "output_type": "execute_result",
          "data": {
            "text/plain": [
              "Not sure    24\n",
              "4 - 8       23\n",
              "0 - 4       22\n",
              "NaN         19\n",
              "8+          12\n",
              "Name: Usage, dtype: int64"
            ]
          },
          "metadata": {},
          "execution_count": 13
        }
      ]
    },
    {
      "cell_type": "code",
      "source": [
        "df_manual_scorings['Pay More For Performance?'].value_counts(dropna=False)"
      ],
      "metadata": {
        "colab": {
          "base_uri": "https://localhost:8080/"
        },
        "id": "jYpQkYoOHRAH",
        "outputId": "872c5ecd-5aa5-4574-d705-1e43f86f29d0"
      },
      "execution_count": 14,
      "outputs": [
        {
          "output_type": "execute_result",
          "data": {
            "text/plain": [
              "A little        24\n",
              "No              20\n",
              "NaN             20\n",
              "Yes             19\n",
              "I need speed    17\n",
              "Name: Pay More For Performance?, dtype: int64"
            ]
          },
          "metadata": {},
          "execution_count": 14
        }
      ]
    },
    {
      "cell_type": "markdown",
      "source": [
        "### 2.3. Fill NaN Values and Preprocess Categorical Variables"
      ],
      "metadata": {
        "id": "Hoibez7yJ1Rk"
      }
    },
    {
      "cell_type": "code",
      "source": [
        "df_manual_scorings['Budget'].value_counts(dropna=False)"
      ],
      "metadata": {
        "colab": {
          "base_uri": "https://localhost:8080/"
        },
        "id": "GUC6pOK7J1ec",
        "outputId": "5f9f4779-b3bb-4f53-828e-63a97c97d29e"
      },
      "execution_count": 15,
      "outputs": [
        {
          "output_type": "execute_result",
          "data": {
            "text/plain": [
              "$800        22\n",
              "$1000+      19\n",
              "$600        18\n",
              "$400        17\n",
              "NaN         14\n",
              "Not sure    10\n",
              "Name: Budget, dtype: int64"
            ]
          },
          "metadata": {},
          "execution_count": 15
        }
      ]
    },
    {
      "cell_type": "markdown",
      "source": [
        "Replace NaN with 'Not sure'."
      ],
      "metadata": {
        "id": "Xza7cClliDnX"
      }
    },
    {
      "cell_type": "code",
      "source": [
        "df_manual_scorings['Budget'] = df_manual_scorings['Budget'].fillna('Not sure')"
      ],
      "metadata": {
        "id": "QtoBvJJkMoUe"
      },
      "execution_count": 16,
      "outputs": []
    },
    {
      "cell_type": "markdown",
      "source": [
        "Convert Budget to a ordinal categorical variable.\n",
        "\n"
      ],
      "metadata": {
        "id": "0tAJbYsri5V6"
      }
    },
    {
      "cell_type": "code",
      "source": [
        "Budget_categories = {'Not sure':0, '$400':1, '$600':2, '$800':3, '$1000+':4}\n",
        "df_manual_scorings['Budget_categorical'] = df_manual_scorings['Budget'].map(str).map(lambda x : Budget_categories[x])"
      ],
      "metadata": {
        "id": "qlk_3Im4J8Bc"
      },
      "execution_count": 17,
      "outputs": []
    },
    {
      "cell_type": "code",
      "source": [
        "df_manual_scorings['Size'].value_counts(dropna=False)"
      ],
      "metadata": {
        "colab": {
          "base_uri": "https://localhost:8080/"
        },
        "id": "hUlxDuTvLus_",
        "outputId": "a8092f74-3859-4970-d76b-3e2bce2ccc78"
      },
      "execution_count": 18,
      "outputs": [
        {
          "output_type": "execute_result",
          "data": {
            "text/plain": [
              "NaN              27\n",
              "No preference    20\n",
              "Small            19\n",
              "Medium           19\n",
              "Large            15\n",
              "Name: Size, dtype: int64"
            ]
          },
          "metadata": {},
          "execution_count": 18
        }
      ]
    },
    {
      "cell_type": "markdown",
      "source": [
        "Replace NaN with 'No preference'."
      ],
      "metadata": {
        "id": "6xGhgxHiiO9n"
      }
    },
    {
      "cell_type": "code",
      "source": [
        "df_manual_scorings['Size'] = df_manual_scorings['Size'].fillna('No preference')"
      ],
      "metadata": {
        "id": "dt0L3LpQNbwm"
      },
      "execution_count": 19,
      "outputs": []
    },
    {
      "cell_type": "markdown",
      "source": [
        "Convert Size to a ordinal categorical variable."
      ],
      "metadata": {
        "id": "rlqDwLBFjH2E"
      }
    },
    {
      "cell_type": "code",
      "source": [
        "Size_categories = {'No preference':0, 'Small':1, 'Medium':2, 'Large':3}\n",
        "df_manual_scorings['Size_categorical'] = df_manual_scorings['Size'].map(str).map(lambda x : Size_categories[x])"
      ],
      "metadata": {
        "id": "4zlqrctGNnad"
      },
      "execution_count": 20,
      "outputs": []
    },
    {
      "cell_type": "code",
      "source": [
        "df_manual_scorings['Camera Importance'].value_counts(dropna=False)"
      ],
      "metadata": {
        "colab": {
          "base_uri": "https://localhost:8080/"
        },
        "id": "a2tHYeNuPVJk",
        "outputId": "1f10bbe0-6c6d-4637-de52-dd21c866fe18"
      },
      "execution_count": 21,
      "outputs": [
        {
          "output_type": "execute_result",
          "data": {
            "text/plain": [
              "A lot       24\n",
              "NaN         23\n",
              "A little    19\n",
              "A ton       19\n",
              "Somewhat    15\n",
              "Name: Camera Importance, dtype: int64"
            ]
          },
          "metadata": {},
          "execution_count": 21
        }
      ]
    },
    {
      "cell_type": "markdown",
      "source": [
        "Replace NaN with 'No preference'"
      ],
      "metadata": {
        "id": "qm0nLoN6iUXD"
      }
    },
    {
      "cell_type": "code",
      "source": [
        "df_manual_scorings['Camera Importance'] = df_manual_scorings['Camera Importance'].fillna('No preference')"
      ],
      "metadata": {
        "id": "LVf2bOzpQDfA"
      },
      "execution_count": 22,
      "outputs": []
    },
    {
      "cell_type": "markdown",
      "source": [
        "Convert Camera Importance to a ordinal categorical variable."
      ],
      "metadata": {
        "id": "XzsbPQAAjMVH"
      }
    },
    {
      "cell_type": "code",
      "source": [
        "Camera_Importance_categories = {'No preference':0, 'A little':1, 'Somewhat':2, 'A lot':3, 'A ton':4}\n",
        "df_manual_scorings['Camera_Importance_categorical'] = df_manual_scorings['Camera Importance'].map(str).map(lambda x : Camera_Importance_categories[x])"
      ],
      "metadata": {
        "id": "mhMVKamDQN65"
      },
      "execution_count": 23,
      "outputs": []
    },
    {
      "cell_type": "code",
      "source": [
        "df_manual_scorings['Usage'].value_counts(dropna=False)"
      ],
      "metadata": {
        "colab": {
          "base_uri": "https://localhost:8080/"
        },
        "id": "OhTGuHN8Q-iP",
        "outputId": "50337fa1-b62a-4346-9667-28e74fd3a9a1"
      },
      "execution_count": 24,
      "outputs": [
        {
          "output_type": "execute_result",
          "data": {
            "text/plain": [
              "Not sure    24\n",
              "4 - 8       23\n",
              "0 - 4       22\n",
              "NaN         19\n",
              "8+          12\n",
              "Name: Usage, dtype: int64"
            ]
          },
          "metadata": {},
          "execution_count": 24
        }
      ]
    },
    {
      "cell_type": "markdown",
      "source": [
        "Replace NaN with 'Not sure'"
      ],
      "metadata": {
        "id": "YnG7o1kJidd7"
      }
    },
    {
      "cell_type": "code",
      "source": [
        "df_manual_scorings['Usage'] = df_manual_scorings['Usage'].fillna('Not sure')"
      ],
      "metadata": {
        "id": "YGhe4Ub1RsVc"
      },
      "execution_count": 25,
      "outputs": []
    },
    {
      "cell_type": "markdown",
      "source": [
        "Convert Usage to a ordinal categorical variable."
      ],
      "metadata": {
        "id": "DhJlyfYDjRqA"
      }
    },
    {
      "cell_type": "code",
      "source": [
        "Usage_categories = {'Not sure':0, '0 - 4':1, '4 - 8':2, '8+':3}\n",
        "df_manual_scorings['Usage_categorical'] = df_manual_scorings['Usage'].map(str).map(lambda x : Usage_categories[x])"
      ],
      "metadata": {
        "id": "ypzxiFPKR7d7"
      },
      "execution_count": 26,
      "outputs": []
    },
    {
      "cell_type": "code",
      "source": [
        "df_manual_scorings['Pay More For Performance?'].value_counts(dropna=False)"
      ],
      "metadata": {
        "colab": {
          "base_uri": "https://localhost:8080/"
        },
        "id": "twNqWiZTSfLx",
        "outputId": "3cbfab05-a63f-424b-f786-76731448608b"
      },
      "execution_count": 27,
      "outputs": [
        {
          "output_type": "execute_result",
          "data": {
            "text/plain": [
              "A little        24\n",
              "No              20\n",
              "NaN             20\n",
              "Yes             19\n",
              "I need speed    17\n",
              "Name: Pay More For Performance?, dtype: int64"
            ]
          },
          "metadata": {},
          "execution_count": 27
        }
      ]
    },
    {
      "cell_type": "markdown",
      "source": [
        "Replace NaN with 'A little'."
      ],
      "metadata": {
        "id": "ljTtcy93iiIl"
      }
    },
    {
      "cell_type": "code",
      "source": [
        "df_manual_scorings['Pay More For Performance?'] = df_manual_scorings['Pay More For Performance?'].fillna('A little')"
      ],
      "metadata": {
        "id": "TwiO6Zo2TEx1"
      },
      "execution_count": 28,
      "outputs": []
    },
    {
      "cell_type": "markdown",
      "source": [
        "Convert Pay More For Performance to a ordinal categorical variable."
      ],
      "metadata": {
        "id": "Ai_2XsIqjVlC"
      }
    },
    {
      "cell_type": "code",
      "source": [
        "Pay_More_For_Performance_categories = {'No':0, 'A little':1, 'Yes':2, 'I need speed':3}\n",
        "df_manual_scorings['Pay_More_For_Performance_categorical'] = df_manual_scorings['Pay More For Performance?'].map(str).map(lambda x : Pay_More_For_Performance_categories[x])"
      ],
      "metadata": {
        "id": "66gvI0kmTcNq"
      },
      "execution_count": 29,
      "outputs": []
    },
    {
      "cell_type": "code",
      "source": [
        "df_manual_scorings.columns"
      ],
      "metadata": {
        "colab": {
          "base_uri": "https://localhost:8080/"
        },
        "id": "hUhir1Y-WRhI",
        "outputId": "ad98ca4a-6027-4227-fcbc-4e542a78e6e2"
      },
      "execution_count": 30,
      "outputs": [
        {
          "output_type": "execute_result",
          "data": {
            "text/plain": [
              "Index(['OS', 'Budget', 'Size', 'Camera Importance', 'Usage',\n",
              "       'Pay More For Performance?', 'Apple iPhone 11', 'Apple iPhone 12',\n",
              "       'Apple iPhone 12 mini', 'Apple iPhone 13', 'Apple iPhone 13 mini',\n",
              "       'Apple iPhone 13 Pro', 'Apple iPhone 13 Pro Max',\n",
              "       'Apple iPhone SE (2022)', 'Google Pixel 5a', 'Google Pixel 6',\n",
              "       'Google Pixel 6 Pro', 'Motorola Edge (2021)', 'Motorola Edge 30 Pro',\n",
              "       'Motorola Moto G Stylus', 'Motorola Moto G100', 'OnePlus 8T',\n",
              "       'OnePlus 9', 'OnePlus 9 Pro', 'OnePlus Nord N200', 'Samsung Galaxy A13',\n",
              "       'Samsung Galaxy A32', 'Samsung Galaxy A42', 'Samsung Galaxy A53',\n",
              "       'Samsung Galaxy S20 FE', 'Samsung Galaxy S21 FE', 'Samsung Galaxy S22',\n",
              "       'Samsung Galaxy S22 Ultra', 'Samsung Galaxy S22+', 'Sony Xperia 1 III',\n",
              "       'Sony Xperia 5 III', 'Budget_categorical', 'Size_categorical',\n",
              "       'Camera_Importance_categorical', 'Usage_categorical',\n",
              "       'Pay_More_For_Performance_categorical'],\n",
              "      dtype='object')"
            ]
          },
          "metadata": {},
          "execution_count": 30
        }
      ]
    },
    {
      "cell_type": "markdown",
      "source": [
        "Drop columns."
      ],
      "metadata": {
        "id": "dmvO0Znbiq-k"
      }
    },
    {
      "cell_type": "code",
      "source": [
        "df_manual_scorings.drop(columns = ['Budget', 'Size', 'Camera Importance', 'Usage', 'Pay More For Performance?'], inplace = True )"
      ],
      "metadata": {
        "id": "qVfK-Ep2YKpx"
      },
      "execution_count": 31,
      "outputs": []
    },
    {
      "cell_type": "code",
      "source": [
        "df_manual_scorings.columns"
      ],
      "metadata": {
        "colab": {
          "base_uri": "https://localhost:8080/"
        },
        "id": "cPTvN60GYd3b",
        "outputId": "99e216d8-b9ed-4cd5-d092-cd825f1299ac"
      },
      "execution_count": 32,
      "outputs": [
        {
          "output_type": "execute_result",
          "data": {
            "text/plain": [
              "Index(['OS', 'Apple iPhone 11', 'Apple iPhone 12', 'Apple iPhone 12 mini',\n",
              "       'Apple iPhone 13', 'Apple iPhone 13 mini', 'Apple iPhone 13 Pro',\n",
              "       'Apple iPhone 13 Pro Max', 'Apple iPhone SE (2022)', 'Google Pixel 5a',\n",
              "       'Google Pixel 6', 'Google Pixel 6 Pro', 'Motorola Edge (2021)',\n",
              "       'Motorola Edge 30 Pro', 'Motorola Moto G Stylus', 'Motorola Moto G100',\n",
              "       'OnePlus 8T', 'OnePlus 9', 'OnePlus 9 Pro', 'OnePlus Nord N200',\n",
              "       'Samsung Galaxy A13', 'Samsung Galaxy A32', 'Samsung Galaxy A42',\n",
              "       'Samsung Galaxy A53', 'Samsung Galaxy S20 FE', 'Samsung Galaxy S21 FE',\n",
              "       'Samsung Galaxy S22', 'Samsung Galaxy S22 Ultra', 'Samsung Galaxy S22+',\n",
              "       'Sony Xperia 1 III', 'Sony Xperia 5 III', 'Budget_categorical',\n",
              "       'Size_categorical', 'Camera_Importance_categorical',\n",
              "       'Usage_categorical', 'Pay_More_For_Performance_categorical'],\n",
              "      dtype='object')"
            ]
          },
          "metadata": {},
          "execution_count": 32
        }
      ]
    },
    {
      "cell_type": "markdown",
      "source": [
        "Rearrage Columns."
      ],
      "metadata": {
        "id": "SUoXTQdDjfIC"
      }
    },
    {
      "cell_type": "code",
      "source": [
        "cols = df_manual_scorings.columns.tolist()"
      ],
      "metadata": {
        "id": "EhIlqM7yYgOw"
      },
      "execution_count": 33,
      "outputs": []
    },
    {
      "cell_type": "code",
      "source": [
        "cols = cols[-5:] + cols[:-5]"
      ],
      "metadata": {
        "id": "pXFBV10xZW-m"
      },
      "execution_count": 34,
      "outputs": []
    },
    {
      "cell_type": "code",
      "source": [
        "cols"
      ],
      "metadata": {
        "colab": {
          "base_uri": "https://localhost:8080/"
        },
        "id": "QWuCES_mZuCW",
        "outputId": "47bcdf0b-1b9a-4b24-f63f-c761e043910e"
      },
      "execution_count": 35,
      "outputs": [
        {
          "output_type": "execute_result",
          "data": {
            "text/plain": [
              "['Budget_categorical',\n",
              " 'Size_categorical',\n",
              " 'Camera_Importance_categorical',\n",
              " 'Usage_categorical',\n",
              " 'Pay_More_For_Performance_categorical',\n",
              " 'OS',\n",
              " 'Apple iPhone 11',\n",
              " 'Apple iPhone 12',\n",
              " 'Apple iPhone 12 mini',\n",
              " 'Apple iPhone 13',\n",
              " 'Apple iPhone 13 mini',\n",
              " 'Apple iPhone 13 Pro',\n",
              " 'Apple iPhone 13 Pro Max',\n",
              " 'Apple iPhone SE (2022)',\n",
              " 'Google Pixel 5a',\n",
              " 'Google Pixel 6',\n",
              " 'Google Pixel 6 Pro',\n",
              " 'Motorola Edge (2021)',\n",
              " 'Motorola Edge 30 Pro',\n",
              " 'Motorola Moto G Stylus',\n",
              " 'Motorola Moto G100',\n",
              " 'OnePlus 8T',\n",
              " 'OnePlus 9',\n",
              " 'OnePlus 9 Pro',\n",
              " 'OnePlus Nord N200',\n",
              " 'Samsung Galaxy A13',\n",
              " 'Samsung Galaxy A32',\n",
              " 'Samsung Galaxy A42',\n",
              " 'Samsung Galaxy A53',\n",
              " 'Samsung Galaxy S20 FE',\n",
              " 'Samsung Galaxy S21 FE',\n",
              " 'Samsung Galaxy S22',\n",
              " 'Samsung Galaxy S22 Ultra',\n",
              " 'Samsung Galaxy S22+',\n",
              " 'Sony Xperia 1 III',\n",
              " 'Sony Xperia 5 III']"
            ]
          },
          "metadata": {},
          "execution_count": 35
        }
      ]
    },
    {
      "cell_type": "code",
      "source": [
        "df_manual_scorings = df_manual_scorings[cols]"
      ],
      "metadata": {
        "id": "j93YAx0MZumc"
      },
      "execution_count": 36,
      "outputs": []
    },
    {
      "cell_type": "markdown",
      "source": [
        "Convert OS to categorical variables."
      ],
      "metadata": {
        "id": "NvIGAHZCjjJJ"
      }
    },
    {
      "cell_type": "code",
      "source": [
        "df_final = pd.concat([pd.get_dummies(df_manual_scorings['OS'])[['Must be Android','Must be iPhone','No Preference']], \n",
        "                      df_manual_scorings.drop('OS', axis = 1)], axis = 1)"
      ],
      "metadata": {
        "id": "sl-N-YHlaHYq"
      },
      "execution_count": 37,
      "outputs": []
    },
    {
      "cell_type": "markdown",
      "source": [
        "The final dataframe is shown below."
      ],
      "metadata": {
        "id": "W9iMXMuejqih"
      }
    },
    {
      "cell_type": "code",
      "source": [
        "df_final.head()"
      ],
      "metadata": {
        "colab": {
          "base_uri": "https://localhost:8080/",
          "height": 352
        },
        "id": "BgEgllUta_vq",
        "outputId": "4feadc22-c32b-4eb0-b5d2-4f89bad4e179"
      },
      "execution_count": 38,
      "outputs": [
        {
          "output_type": "execute_result",
          "data": {
            "text/plain": [
              "   Must be Android  Must be iPhone  No Preference  Budget_categorical  \\\n",
              "0                0               0              1                   0   \n",
              "1                0               0              1                   0   \n",
              "2                0               0              1                   0   \n",
              "3                0               0              1                   0   \n",
              "4                0               0              1                   4   \n",
              "\n",
              "   Size_categorical  Camera_Importance_categorical  Usage_categorical  \\\n",
              "0                 0                              3                  1   \n",
              "1                 3                              1                  2   \n",
              "2                 0                              3                  2   \n",
              "3                 0                              3                  0   \n",
              "4                 3                              0                  1   \n",
              "\n",
              "   Pay_More_For_Performance_categorical  Apple iPhone 11  Apple iPhone 12  \\\n",
              "0                                     0                2                0   \n",
              "1                                     1                0                0   \n",
              "2                                     2                0                3   \n",
              "3                                     0                2                0   \n",
              "4                                     0                0                0   \n",
              "\n",
              "   ...  Samsung Galaxy A32  Samsung Galaxy A42  Samsung Galaxy A53  \\\n",
              "0  ...                   0                   1                   2   \n",
              "1  ...                   0                   0                   0   \n",
              "2  ...                   0                   0                   0   \n",
              "3  ...                   0                   1                   2   \n",
              "4  ...                   0                   0                   0   \n",
              "\n",
              "   Samsung Galaxy S20 FE  Samsung Galaxy S21 FE  Samsung Galaxy S22  \\\n",
              "0                      3                      3                   0   \n",
              "1                      1                      0                   0   \n",
              "2                      3                      4                   3   \n",
              "3                      3                      3                   0   \n",
              "4                      1                      0                   0   \n",
              "\n",
              "   Samsung Galaxy S22 Ultra  Samsung Galaxy S22+  Sony Xperia 1 III  \\\n",
              "0                         0                    0                  0   \n",
              "1                         4                    2                  0   \n",
              "2                         4                    4                  0   \n",
              "3                         0                    0                  0   \n",
              "4                         4                    2                  0   \n",
              "\n",
              "   Sony Xperia 5 III  \n",
              "0                  0  \n",
              "1                  0  \n",
              "2                  0  \n",
              "3                  0  \n",
              "4                  0  \n",
              "\n",
              "[5 rows x 38 columns]"
            ],
            "text/html": [
              "\n",
              "  <div id=\"df-e7174079-c3b7-4d45-a30f-39b6277ccb74\">\n",
              "    <div class=\"colab-df-container\">\n",
              "      <div>\n",
              "<style scoped>\n",
              "    .dataframe tbody tr th:only-of-type {\n",
              "        vertical-align: middle;\n",
              "    }\n",
              "\n",
              "    .dataframe tbody tr th {\n",
              "        vertical-align: top;\n",
              "    }\n",
              "\n",
              "    .dataframe thead th {\n",
              "        text-align: right;\n",
              "    }\n",
              "</style>\n",
              "<table border=\"1\" class=\"dataframe\">\n",
              "  <thead>\n",
              "    <tr style=\"text-align: right;\">\n",
              "      <th></th>\n",
              "      <th>Must be Android</th>\n",
              "      <th>Must be iPhone</th>\n",
              "      <th>No Preference</th>\n",
              "      <th>Budget_categorical</th>\n",
              "      <th>Size_categorical</th>\n",
              "      <th>Camera_Importance_categorical</th>\n",
              "      <th>Usage_categorical</th>\n",
              "      <th>Pay_More_For_Performance_categorical</th>\n",
              "      <th>Apple iPhone 11</th>\n",
              "      <th>Apple iPhone 12</th>\n",
              "      <th>...</th>\n",
              "      <th>Samsung Galaxy A32</th>\n",
              "      <th>Samsung Galaxy A42</th>\n",
              "      <th>Samsung Galaxy A53</th>\n",
              "      <th>Samsung Galaxy S20 FE</th>\n",
              "      <th>Samsung Galaxy S21 FE</th>\n",
              "      <th>Samsung Galaxy S22</th>\n",
              "      <th>Samsung Galaxy S22 Ultra</th>\n",
              "      <th>Samsung Galaxy S22+</th>\n",
              "      <th>Sony Xperia 1 III</th>\n",
              "      <th>Sony Xperia 5 III</th>\n",
              "    </tr>\n",
              "  </thead>\n",
              "  <tbody>\n",
              "    <tr>\n",
              "      <th>0</th>\n",
              "      <td>0</td>\n",
              "      <td>0</td>\n",
              "      <td>1</td>\n",
              "      <td>0</td>\n",
              "      <td>0</td>\n",
              "      <td>3</td>\n",
              "      <td>1</td>\n",
              "      <td>0</td>\n",
              "      <td>2</td>\n",
              "      <td>0</td>\n",
              "      <td>...</td>\n",
              "      <td>0</td>\n",
              "      <td>1</td>\n",
              "      <td>2</td>\n",
              "      <td>3</td>\n",
              "      <td>3</td>\n",
              "      <td>0</td>\n",
              "      <td>0</td>\n",
              "      <td>0</td>\n",
              "      <td>0</td>\n",
              "      <td>0</td>\n",
              "    </tr>\n",
              "    <tr>\n",
              "      <th>1</th>\n",
              "      <td>0</td>\n",
              "      <td>0</td>\n",
              "      <td>1</td>\n",
              "      <td>0</td>\n",
              "      <td>3</td>\n",
              "      <td>1</td>\n",
              "      <td>2</td>\n",
              "      <td>1</td>\n",
              "      <td>0</td>\n",
              "      <td>0</td>\n",
              "      <td>...</td>\n",
              "      <td>0</td>\n",
              "      <td>0</td>\n",
              "      <td>0</td>\n",
              "      <td>1</td>\n",
              "      <td>0</td>\n",
              "      <td>0</td>\n",
              "      <td>4</td>\n",
              "      <td>2</td>\n",
              "      <td>0</td>\n",
              "      <td>0</td>\n",
              "    </tr>\n",
              "    <tr>\n",
              "      <th>2</th>\n",
              "      <td>0</td>\n",
              "      <td>0</td>\n",
              "      <td>1</td>\n",
              "      <td>0</td>\n",
              "      <td>0</td>\n",
              "      <td>3</td>\n",
              "      <td>2</td>\n",
              "      <td>2</td>\n",
              "      <td>0</td>\n",
              "      <td>3</td>\n",
              "      <td>...</td>\n",
              "      <td>0</td>\n",
              "      <td>0</td>\n",
              "      <td>0</td>\n",
              "      <td>3</td>\n",
              "      <td>4</td>\n",
              "      <td>3</td>\n",
              "      <td>4</td>\n",
              "      <td>4</td>\n",
              "      <td>0</td>\n",
              "      <td>0</td>\n",
              "    </tr>\n",
              "    <tr>\n",
              "      <th>3</th>\n",
              "      <td>0</td>\n",
              "      <td>0</td>\n",
              "      <td>1</td>\n",
              "      <td>0</td>\n",
              "      <td>0</td>\n",
              "      <td>3</td>\n",
              "      <td>0</td>\n",
              "      <td>0</td>\n",
              "      <td>2</td>\n",
              "      <td>0</td>\n",
              "      <td>...</td>\n",
              "      <td>0</td>\n",
              "      <td>1</td>\n",
              "      <td>2</td>\n",
              "      <td>3</td>\n",
              "      <td>3</td>\n",
              "      <td>0</td>\n",
              "      <td>0</td>\n",
              "      <td>0</td>\n",
              "      <td>0</td>\n",
              "      <td>0</td>\n",
              "    </tr>\n",
              "    <tr>\n",
              "      <th>4</th>\n",
              "      <td>0</td>\n",
              "      <td>0</td>\n",
              "      <td>1</td>\n",
              "      <td>4</td>\n",
              "      <td>3</td>\n",
              "      <td>0</td>\n",
              "      <td>1</td>\n",
              "      <td>0</td>\n",
              "      <td>0</td>\n",
              "      <td>0</td>\n",
              "      <td>...</td>\n",
              "      <td>0</td>\n",
              "      <td>0</td>\n",
              "      <td>0</td>\n",
              "      <td>1</td>\n",
              "      <td>0</td>\n",
              "      <td>0</td>\n",
              "      <td>4</td>\n",
              "      <td>2</td>\n",
              "      <td>0</td>\n",
              "      <td>0</td>\n",
              "    </tr>\n",
              "  </tbody>\n",
              "</table>\n",
              "<p>5 rows × 38 columns</p>\n",
              "</div>\n",
              "      <button class=\"colab-df-convert\" onclick=\"convertToInteractive('df-e7174079-c3b7-4d45-a30f-39b6277ccb74')\"\n",
              "              title=\"Convert this dataframe to an interactive table.\"\n",
              "              style=\"display:none;\">\n",
              "        \n",
              "  <svg xmlns=\"http://www.w3.org/2000/svg\" height=\"24px\"viewBox=\"0 0 24 24\"\n",
              "       width=\"24px\">\n",
              "    <path d=\"M0 0h24v24H0V0z\" fill=\"none\"/>\n",
              "    <path d=\"M18.56 5.44l.94 2.06.94-2.06 2.06-.94-2.06-.94-.94-2.06-.94 2.06-2.06.94zm-11 1L8.5 8.5l.94-2.06 2.06-.94-2.06-.94L8.5 2.5l-.94 2.06-2.06.94zm10 10l.94 2.06.94-2.06 2.06-.94-2.06-.94-.94-2.06-.94 2.06-2.06.94z\"/><path d=\"M17.41 7.96l-1.37-1.37c-.4-.4-.92-.59-1.43-.59-.52 0-1.04.2-1.43.59L10.3 9.45l-7.72 7.72c-.78.78-.78 2.05 0 2.83L4 21.41c.39.39.9.59 1.41.59.51 0 1.02-.2 1.41-.59l7.78-7.78 2.81-2.81c.8-.78.8-2.07 0-2.86zM5.41 20L4 18.59l7.72-7.72 1.47 1.35L5.41 20z\"/>\n",
              "  </svg>\n",
              "      </button>\n",
              "      \n",
              "  <style>\n",
              "    .colab-df-container {\n",
              "      display:flex;\n",
              "      flex-wrap:wrap;\n",
              "      gap: 12px;\n",
              "    }\n",
              "\n",
              "    .colab-df-convert {\n",
              "      background-color: #E8F0FE;\n",
              "      border: none;\n",
              "      border-radius: 50%;\n",
              "      cursor: pointer;\n",
              "      display: none;\n",
              "      fill: #1967D2;\n",
              "      height: 32px;\n",
              "      padding: 0 0 0 0;\n",
              "      width: 32px;\n",
              "    }\n",
              "\n",
              "    .colab-df-convert:hover {\n",
              "      background-color: #E2EBFA;\n",
              "      box-shadow: 0px 1px 2px rgba(60, 64, 67, 0.3), 0px 1px 3px 1px rgba(60, 64, 67, 0.15);\n",
              "      fill: #174EA6;\n",
              "    }\n",
              "\n",
              "    [theme=dark] .colab-df-convert {\n",
              "      background-color: #3B4455;\n",
              "      fill: #D2E3FC;\n",
              "    }\n",
              "\n",
              "    [theme=dark] .colab-df-convert:hover {\n",
              "      background-color: #434B5C;\n",
              "      box-shadow: 0px 1px 3px 1px rgba(0, 0, 0, 0.15);\n",
              "      filter: drop-shadow(0px 1px 2px rgba(0, 0, 0, 0.3));\n",
              "      fill: #FFFFFF;\n",
              "    }\n",
              "  </style>\n",
              "\n",
              "      <script>\n",
              "        const buttonEl =\n",
              "          document.querySelector('#df-e7174079-c3b7-4d45-a30f-39b6277ccb74 button.colab-df-convert');\n",
              "        buttonEl.style.display =\n",
              "          google.colab.kernel.accessAllowed ? 'block' : 'none';\n",
              "\n",
              "        async function convertToInteractive(key) {\n",
              "          const element = document.querySelector('#df-e7174079-c3b7-4d45-a30f-39b6277ccb74');\n",
              "          const dataTable =\n",
              "            await google.colab.kernel.invokeFunction('convertToInteractive',\n",
              "                                                     [key], {});\n",
              "          if (!dataTable) return;\n",
              "\n",
              "          const docLinkHtml = 'Like what you see? Visit the ' +\n",
              "            '<a target=\"_blank\" href=https://colab.research.google.com/notebooks/data_table.ipynb>data table notebook</a>'\n",
              "            + ' to learn more about interactive tables.';\n",
              "          element.innerHTML = '';\n",
              "          dataTable['output_type'] = 'display_data';\n",
              "          await google.colab.output.renderOutput(dataTable, element);\n",
              "          const docLink = document.createElement('div');\n",
              "          docLink.innerHTML = docLinkHtml;\n",
              "          element.appendChild(docLink);\n",
              "        }\n",
              "      </script>\n",
              "    </div>\n",
              "  </div>\n",
              "  "
            ]
          },
          "metadata": {},
          "execution_count": 38
        }
      ]
    },
    {
      "cell_type": "markdown",
      "source": [
        "Shuffle the dataframe."
      ],
      "metadata": {
        "id": "mGRN9vRDj0mm"
      }
    },
    {
      "cell_type": "code",
      "source": [
        "df_final = df_final.sample(frac=1).reset_index(drop=True)"
      ],
      "metadata": {
        "id": "6L1ZPtpCdXEE"
      },
      "execution_count": 39,
      "outputs": []
    },
    {
      "cell_type": "code",
      "source": [
        "cols_final = df_final.columns.tolist()"
      ],
      "metadata": {
        "id": "egcGQDu9b71U"
      },
      "execution_count": 40,
      "outputs": []
    },
    {
      "cell_type": "code",
      "source": [
        "cols_final"
      ],
      "metadata": {
        "colab": {
          "base_uri": "https://localhost:8080/"
        },
        "id": "ztT0Hnscc9py",
        "outputId": "1917646a-35ff-4fcf-c2d3-1bb08e0f44f6"
      },
      "execution_count": 41,
      "outputs": [
        {
          "output_type": "execute_result",
          "data": {
            "text/plain": [
              "['Must be Android',\n",
              " 'Must be iPhone',\n",
              " 'No Preference',\n",
              " 'Budget_categorical',\n",
              " 'Size_categorical',\n",
              " 'Camera_Importance_categorical',\n",
              " 'Usage_categorical',\n",
              " 'Pay_More_For_Performance_categorical',\n",
              " 'Apple iPhone 11',\n",
              " 'Apple iPhone 12',\n",
              " 'Apple iPhone 12 mini',\n",
              " 'Apple iPhone 13',\n",
              " 'Apple iPhone 13 mini',\n",
              " 'Apple iPhone 13 Pro',\n",
              " 'Apple iPhone 13 Pro Max',\n",
              " 'Apple iPhone SE (2022)',\n",
              " 'Google Pixel 5a',\n",
              " 'Google Pixel 6',\n",
              " 'Google Pixel 6 Pro',\n",
              " 'Motorola Edge (2021)',\n",
              " 'Motorola Edge 30 Pro',\n",
              " 'Motorola Moto G Stylus',\n",
              " 'Motorola Moto G100',\n",
              " 'OnePlus 8T',\n",
              " 'OnePlus 9',\n",
              " 'OnePlus 9 Pro',\n",
              " 'OnePlus Nord N200',\n",
              " 'Samsung Galaxy A13',\n",
              " 'Samsung Galaxy A32',\n",
              " 'Samsung Galaxy A42',\n",
              " 'Samsung Galaxy A53',\n",
              " 'Samsung Galaxy S20 FE',\n",
              " 'Samsung Galaxy S21 FE',\n",
              " 'Samsung Galaxy S22',\n",
              " 'Samsung Galaxy S22 Ultra',\n",
              " 'Samsung Galaxy S22+',\n",
              " 'Sony Xperia 1 III',\n",
              " 'Sony Xperia 5 III']"
            ]
          },
          "metadata": {},
          "execution_count": 41
        }
      ]
    },
    {
      "cell_type": "code",
      "source": [
        "df_final"
      ],
      "metadata": {
        "colab": {
          "base_uri": "https://localhost:8080/",
          "height": 540
        },
        "id": "NGjH_KgOc-1O",
        "outputId": "684699fc-4a11-4445-b164-2c2d6d2a20e5"
      },
      "execution_count": 42,
      "outputs": [
        {
          "output_type": "execute_result",
          "data": {
            "text/plain": [
              "    Must be Android  Must be iPhone  No Preference  Budget_categorical  \\\n",
              "0                 0               1              0                   0   \n",
              "1                 1               0              0                   2   \n",
              "2                 0               0              1                   2   \n",
              "3                 0               0              1                   4   \n",
              "4                 0               1              0                   4   \n",
              "..              ...             ...            ...                 ...   \n",
              "95                0               0              1                   4   \n",
              "96                0               0              1                   1   \n",
              "97                1               0              0                   3   \n",
              "98                0               0              1                   0   \n",
              "99                0               1              0                   0   \n",
              "\n",
              "    Size_categorical  Camera_Importance_categorical  Usage_categorical  \\\n",
              "0                  3                              3                  0   \n",
              "1                  3                              1                  3   \n",
              "2                  1                              0                  0   \n",
              "3                  0                              2                  3   \n",
              "4                  0                              4                  0   \n",
              "..               ...                            ...                ...   \n",
              "95                 0                              3                  2   \n",
              "96                 2                              2                  1   \n",
              "97                 2                              3                  0   \n",
              "98                 0                              3                  2   \n",
              "99                 0                              0                  0   \n",
              "\n",
              "    Pay_More_For_Performance_categorical  Apple iPhone 11  Apple iPhone 12  \\\n",
              "0                                      2                2                3   \n",
              "1                                      0                0                0   \n",
              "2                                      1                0                0   \n",
              "3                                      1                0                2   \n",
              "4                                      1                2                3   \n",
              "..                                   ...              ...              ...   \n",
              "95                                     3                0                3   \n",
              "96                                     2                0                0   \n",
              "97                                     3                0                0   \n",
              "98                                     2                0                3   \n",
              "99                                     1                5                4   \n",
              "\n",
              "    ...  Samsung Galaxy A32  Samsung Galaxy A42  Samsung Galaxy A53  \\\n",
              "0   ...                   0                   0                   0   \n",
              "1   ...                   0                   4                   3   \n",
              "2   ...                   0                   0                   1   \n",
              "3   ...                   0                   0                   0   \n",
              "4   ...                   0                   0                   0   \n",
              "..  ...                 ...                 ...                 ...   \n",
              "95  ...                   0                   0                   0   \n",
              "96  ...                   1                   4                   0   \n",
              "97  ...                   0                   0                   0   \n",
              "98  ...                   0                   0                   0   \n",
              "99  ...                   0                   0                   0   \n",
              "\n",
              "    Samsung Galaxy S20 FE  Samsung Galaxy S21 FE  Samsung Galaxy S22  \\\n",
              "0                       0                      0                   0   \n",
              "1                       3                      0                   0   \n",
              "2                       3                      0                   0   \n",
              "3                       3                      4                   1   \n",
              "4                       0                      0                   0   \n",
              "..                    ...                    ...                 ...   \n",
              "95                      2                      3                   3   \n",
              "96                      0                      0                   0   \n",
              "97                      3                      5                   0   \n",
              "98                      3                      4                   3   \n",
              "99                      0                      0                   0   \n",
              "\n",
              "    Samsung Galaxy S22 Ultra  Samsung Galaxy S22+  Sony Xperia 1 III  \\\n",
              "0                          0                    0                  0   \n",
              "1                          0                    0                  0   \n",
              "2                          0                    0                  0   \n",
              "3                          1                    1                  0   \n",
              "4                          0                    0                  0   \n",
              "..                       ...                  ...                ...   \n",
              "95                         4                    4                  0   \n",
              "96                         0                    0                  0   \n",
              "97                         0                    0                  0   \n",
              "98                         4                    4                  0   \n",
              "99                         0                    0                  0   \n",
              "\n",
              "    Sony Xperia 5 III  \n",
              "0                   0  \n",
              "1                   0  \n",
              "2                   0  \n",
              "3                   0  \n",
              "4                   0  \n",
              "..                ...  \n",
              "95                  0  \n",
              "96                  0  \n",
              "97                  0  \n",
              "98                  0  \n",
              "99                  0  \n",
              "\n",
              "[100 rows x 38 columns]"
            ],
            "text/html": [
              "\n",
              "  <div id=\"df-00df12e0-f677-4ac4-aa7c-677a014522d5\">\n",
              "    <div class=\"colab-df-container\">\n",
              "      <div>\n",
              "<style scoped>\n",
              "    .dataframe tbody tr th:only-of-type {\n",
              "        vertical-align: middle;\n",
              "    }\n",
              "\n",
              "    .dataframe tbody tr th {\n",
              "        vertical-align: top;\n",
              "    }\n",
              "\n",
              "    .dataframe thead th {\n",
              "        text-align: right;\n",
              "    }\n",
              "</style>\n",
              "<table border=\"1\" class=\"dataframe\">\n",
              "  <thead>\n",
              "    <tr style=\"text-align: right;\">\n",
              "      <th></th>\n",
              "      <th>Must be Android</th>\n",
              "      <th>Must be iPhone</th>\n",
              "      <th>No Preference</th>\n",
              "      <th>Budget_categorical</th>\n",
              "      <th>Size_categorical</th>\n",
              "      <th>Camera_Importance_categorical</th>\n",
              "      <th>Usage_categorical</th>\n",
              "      <th>Pay_More_For_Performance_categorical</th>\n",
              "      <th>Apple iPhone 11</th>\n",
              "      <th>Apple iPhone 12</th>\n",
              "      <th>...</th>\n",
              "      <th>Samsung Galaxy A32</th>\n",
              "      <th>Samsung Galaxy A42</th>\n",
              "      <th>Samsung Galaxy A53</th>\n",
              "      <th>Samsung Galaxy S20 FE</th>\n",
              "      <th>Samsung Galaxy S21 FE</th>\n",
              "      <th>Samsung Galaxy S22</th>\n",
              "      <th>Samsung Galaxy S22 Ultra</th>\n",
              "      <th>Samsung Galaxy S22+</th>\n",
              "      <th>Sony Xperia 1 III</th>\n",
              "      <th>Sony Xperia 5 III</th>\n",
              "    </tr>\n",
              "  </thead>\n",
              "  <tbody>\n",
              "    <tr>\n",
              "      <th>0</th>\n",
              "      <td>0</td>\n",
              "      <td>1</td>\n",
              "      <td>0</td>\n",
              "      <td>0</td>\n",
              "      <td>3</td>\n",
              "      <td>3</td>\n",
              "      <td>0</td>\n",
              "      <td>2</td>\n",
              "      <td>2</td>\n",
              "      <td>3</td>\n",
              "      <td>...</td>\n",
              "      <td>0</td>\n",
              "      <td>0</td>\n",
              "      <td>0</td>\n",
              "      <td>0</td>\n",
              "      <td>0</td>\n",
              "      <td>0</td>\n",
              "      <td>0</td>\n",
              "      <td>0</td>\n",
              "      <td>0</td>\n",
              "      <td>0</td>\n",
              "    </tr>\n",
              "    <tr>\n",
              "      <th>1</th>\n",
              "      <td>1</td>\n",
              "      <td>0</td>\n",
              "      <td>0</td>\n",
              "      <td>2</td>\n",
              "      <td>3</td>\n",
              "      <td>1</td>\n",
              "      <td>3</td>\n",
              "      <td>0</td>\n",
              "      <td>0</td>\n",
              "      <td>0</td>\n",
              "      <td>...</td>\n",
              "      <td>0</td>\n",
              "      <td>4</td>\n",
              "      <td>3</td>\n",
              "      <td>3</td>\n",
              "      <td>0</td>\n",
              "      <td>0</td>\n",
              "      <td>0</td>\n",
              "      <td>0</td>\n",
              "      <td>0</td>\n",
              "      <td>0</td>\n",
              "    </tr>\n",
              "    <tr>\n",
              "      <th>2</th>\n",
              "      <td>0</td>\n",
              "      <td>0</td>\n",
              "      <td>1</td>\n",
              "      <td>2</td>\n",
              "      <td>1</td>\n",
              "      <td>0</td>\n",
              "      <td>0</td>\n",
              "      <td>1</td>\n",
              "      <td>0</td>\n",
              "      <td>0</td>\n",
              "      <td>...</td>\n",
              "      <td>0</td>\n",
              "      <td>0</td>\n",
              "      <td>1</td>\n",
              "      <td>3</td>\n",
              "      <td>0</td>\n",
              "      <td>0</td>\n",
              "      <td>0</td>\n",
              "      <td>0</td>\n",
              "      <td>0</td>\n",
              "      <td>0</td>\n",
              "    </tr>\n",
              "    <tr>\n",
              "      <th>3</th>\n",
              "      <td>0</td>\n",
              "      <td>0</td>\n",
              "      <td>1</td>\n",
              "      <td>4</td>\n",
              "      <td>0</td>\n",
              "      <td>2</td>\n",
              "      <td>3</td>\n",
              "      <td>1</td>\n",
              "      <td>0</td>\n",
              "      <td>2</td>\n",
              "      <td>...</td>\n",
              "      <td>0</td>\n",
              "      <td>0</td>\n",
              "      <td>0</td>\n",
              "      <td>3</td>\n",
              "      <td>4</td>\n",
              "      <td>1</td>\n",
              "      <td>1</td>\n",
              "      <td>1</td>\n",
              "      <td>0</td>\n",
              "      <td>0</td>\n",
              "    </tr>\n",
              "    <tr>\n",
              "      <th>4</th>\n",
              "      <td>0</td>\n",
              "      <td>1</td>\n",
              "      <td>0</td>\n",
              "      <td>4</td>\n",
              "      <td>0</td>\n",
              "      <td>4</td>\n",
              "      <td>0</td>\n",
              "      <td>1</td>\n",
              "      <td>2</td>\n",
              "      <td>3</td>\n",
              "      <td>...</td>\n",
              "      <td>0</td>\n",
              "      <td>0</td>\n",
              "      <td>0</td>\n",
              "      <td>0</td>\n",
              "      <td>0</td>\n",
              "      <td>0</td>\n",
              "      <td>0</td>\n",
              "      <td>0</td>\n",
              "      <td>0</td>\n",
              "      <td>0</td>\n",
              "    </tr>\n",
              "    <tr>\n",
              "      <th>...</th>\n",
              "      <td>...</td>\n",
              "      <td>...</td>\n",
              "      <td>...</td>\n",
              "      <td>...</td>\n",
              "      <td>...</td>\n",
              "      <td>...</td>\n",
              "      <td>...</td>\n",
              "      <td>...</td>\n",
              "      <td>...</td>\n",
              "      <td>...</td>\n",
              "      <td>...</td>\n",
              "      <td>...</td>\n",
              "      <td>...</td>\n",
              "      <td>...</td>\n",
              "      <td>...</td>\n",
              "      <td>...</td>\n",
              "      <td>...</td>\n",
              "      <td>...</td>\n",
              "      <td>...</td>\n",
              "      <td>...</td>\n",
              "      <td>...</td>\n",
              "    </tr>\n",
              "    <tr>\n",
              "      <th>95</th>\n",
              "      <td>0</td>\n",
              "      <td>0</td>\n",
              "      <td>1</td>\n",
              "      <td>4</td>\n",
              "      <td>0</td>\n",
              "      <td>3</td>\n",
              "      <td>2</td>\n",
              "      <td>3</td>\n",
              "      <td>0</td>\n",
              "      <td>3</td>\n",
              "      <td>...</td>\n",
              "      <td>0</td>\n",
              "      <td>0</td>\n",
              "      <td>0</td>\n",
              "      <td>2</td>\n",
              "      <td>3</td>\n",
              "      <td>3</td>\n",
              "      <td>4</td>\n",
              "      <td>4</td>\n",
              "      <td>0</td>\n",
              "      <td>0</td>\n",
              "    </tr>\n",
              "    <tr>\n",
              "      <th>96</th>\n",
              "      <td>0</td>\n",
              "      <td>0</td>\n",
              "      <td>1</td>\n",
              "      <td>1</td>\n",
              "      <td>2</td>\n",
              "      <td>2</td>\n",
              "      <td>1</td>\n",
              "      <td>2</td>\n",
              "      <td>0</td>\n",
              "      <td>0</td>\n",
              "      <td>...</td>\n",
              "      <td>1</td>\n",
              "      <td>4</td>\n",
              "      <td>0</td>\n",
              "      <td>0</td>\n",
              "      <td>0</td>\n",
              "      <td>0</td>\n",
              "      <td>0</td>\n",
              "      <td>0</td>\n",
              "      <td>0</td>\n",
              "      <td>0</td>\n",
              "    </tr>\n",
              "    <tr>\n",
              "      <th>97</th>\n",
              "      <td>1</td>\n",
              "      <td>0</td>\n",
              "      <td>0</td>\n",
              "      <td>3</td>\n",
              "      <td>2</td>\n",
              "      <td>3</td>\n",
              "      <td>0</td>\n",
              "      <td>3</td>\n",
              "      <td>0</td>\n",
              "      <td>0</td>\n",
              "      <td>...</td>\n",
              "      <td>0</td>\n",
              "      <td>0</td>\n",
              "      <td>0</td>\n",
              "      <td>3</td>\n",
              "      <td>5</td>\n",
              "      <td>0</td>\n",
              "      <td>0</td>\n",
              "      <td>0</td>\n",
              "      <td>0</td>\n",
              "      <td>0</td>\n",
              "    </tr>\n",
              "    <tr>\n",
              "      <th>98</th>\n",
              "      <td>0</td>\n",
              "      <td>0</td>\n",
              "      <td>1</td>\n",
              "      <td>0</td>\n",
              "      <td>0</td>\n",
              "      <td>3</td>\n",
              "      <td>2</td>\n",
              "      <td>2</td>\n",
              "      <td>0</td>\n",
              "      <td>3</td>\n",
              "      <td>...</td>\n",
              "      <td>0</td>\n",
              "      <td>0</td>\n",
              "      <td>0</td>\n",
              "      <td>3</td>\n",
              "      <td>4</td>\n",
              "      <td>3</td>\n",
              "      <td>4</td>\n",
              "      <td>4</td>\n",
              "      <td>0</td>\n",
              "      <td>0</td>\n",
              "    </tr>\n",
              "    <tr>\n",
              "      <th>99</th>\n",
              "      <td>0</td>\n",
              "      <td>1</td>\n",
              "      <td>0</td>\n",
              "      <td>0</td>\n",
              "      <td>0</td>\n",
              "      <td>0</td>\n",
              "      <td>0</td>\n",
              "      <td>1</td>\n",
              "      <td>5</td>\n",
              "      <td>4</td>\n",
              "      <td>...</td>\n",
              "      <td>0</td>\n",
              "      <td>0</td>\n",
              "      <td>0</td>\n",
              "      <td>0</td>\n",
              "      <td>0</td>\n",
              "      <td>0</td>\n",
              "      <td>0</td>\n",
              "      <td>0</td>\n",
              "      <td>0</td>\n",
              "      <td>0</td>\n",
              "    </tr>\n",
              "  </tbody>\n",
              "</table>\n",
              "<p>100 rows × 38 columns</p>\n",
              "</div>\n",
              "      <button class=\"colab-df-convert\" onclick=\"convertToInteractive('df-00df12e0-f677-4ac4-aa7c-677a014522d5')\"\n",
              "              title=\"Convert this dataframe to an interactive table.\"\n",
              "              style=\"display:none;\">\n",
              "        \n",
              "  <svg xmlns=\"http://www.w3.org/2000/svg\" height=\"24px\"viewBox=\"0 0 24 24\"\n",
              "       width=\"24px\">\n",
              "    <path d=\"M0 0h24v24H0V0z\" fill=\"none\"/>\n",
              "    <path d=\"M18.56 5.44l.94 2.06.94-2.06 2.06-.94-2.06-.94-.94-2.06-.94 2.06-2.06.94zm-11 1L8.5 8.5l.94-2.06 2.06-.94-2.06-.94L8.5 2.5l-.94 2.06-2.06.94zm10 10l.94 2.06.94-2.06 2.06-.94-2.06-.94-.94-2.06-.94 2.06-2.06.94z\"/><path d=\"M17.41 7.96l-1.37-1.37c-.4-.4-.92-.59-1.43-.59-.52 0-1.04.2-1.43.59L10.3 9.45l-7.72 7.72c-.78.78-.78 2.05 0 2.83L4 21.41c.39.39.9.59 1.41.59.51 0 1.02-.2 1.41-.59l7.78-7.78 2.81-2.81c.8-.78.8-2.07 0-2.86zM5.41 20L4 18.59l7.72-7.72 1.47 1.35L5.41 20z\"/>\n",
              "  </svg>\n",
              "      </button>\n",
              "      \n",
              "  <style>\n",
              "    .colab-df-container {\n",
              "      display:flex;\n",
              "      flex-wrap:wrap;\n",
              "      gap: 12px;\n",
              "    }\n",
              "\n",
              "    .colab-df-convert {\n",
              "      background-color: #E8F0FE;\n",
              "      border: none;\n",
              "      border-radius: 50%;\n",
              "      cursor: pointer;\n",
              "      display: none;\n",
              "      fill: #1967D2;\n",
              "      height: 32px;\n",
              "      padding: 0 0 0 0;\n",
              "      width: 32px;\n",
              "    }\n",
              "\n",
              "    .colab-df-convert:hover {\n",
              "      background-color: #E2EBFA;\n",
              "      box-shadow: 0px 1px 2px rgba(60, 64, 67, 0.3), 0px 1px 3px 1px rgba(60, 64, 67, 0.15);\n",
              "      fill: #174EA6;\n",
              "    }\n",
              "\n",
              "    [theme=dark] .colab-df-convert {\n",
              "      background-color: #3B4455;\n",
              "      fill: #D2E3FC;\n",
              "    }\n",
              "\n",
              "    [theme=dark] .colab-df-convert:hover {\n",
              "      background-color: #434B5C;\n",
              "      box-shadow: 0px 1px 3px 1px rgba(0, 0, 0, 0.15);\n",
              "      filter: drop-shadow(0px 1px 2px rgba(0, 0, 0, 0.3));\n",
              "      fill: #FFFFFF;\n",
              "    }\n",
              "  </style>\n",
              "\n",
              "      <script>\n",
              "        const buttonEl =\n",
              "          document.querySelector('#df-00df12e0-f677-4ac4-aa7c-677a014522d5 button.colab-df-convert');\n",
              "        buttonEl.style.display =\n",
              "          google.colab.kernel.accessAllowed ? 'block' : 'none';\n",
              "\n",
              "        async function convertToInteractive(key) {\n",
              "          const element = document.querySelector('#df-00df12e0-f677-4ac4-aa7c-677a014522d5');\n",
              "          const dataTable =\n",
              "            await google.colab.kernel.invokeFunction('convertToInteractive',\n",
              "                                                     [key], {});\n",
              "          if (!dataTable) return;\n",
              "\n",
              "          const docLinkHtml = 'Like what you see? Visit the ' +\n",
              "            '<a target=\"_blank\" href=https://colab.research.google.com/notebooks/data_table.ipynb>data table notebook</a>'\n",
              "            + ' to learn more about interactive tables.';\n",
              "          element.innerHTML = '';\n",
              "          dataTable['output_type'] = 'display_data';\n",
              "          await google.colab.output.renderOutput(dataTable, element);\n",
              "          const docLink = document.createElement('div');\n",
              "          docLink.innerHTML = docLinkHtml;\n",
              "          element.appendChild(docLink);\n",
              "        }\n",
              "      </script>\n",
              "    </div>\n",
              "  </div>\n",
              "  "
            ]
          },
          "metadata": {},
          "execution_count": 42
        }
      ]
    },
    {
      "cell_type": "markdown",
      "source": [
        "#3. Train and Test set preparation"
      ],
      "metadata": {
        "id": "frWTgq6Nj_bY"
      }
    },
    {
      "cell_type": "code",
      "source": [
        "from sklearn.model_selection import train_test_split\n",
        "\n",
        "train_pd, test_pd = train_test_split(df_final, test_size=0.1)"
      ],
      "metadata": {
        "id": "DJ2dqy5gdqXJ"
      },
      "execution_count": 43,
      "outputs": []
    },
    {
      "cell_type": "code",
      "source": [
        "train_pd.shape, test_pd.shape"
      ],
      "metadata": {
        "colab": {
          "base_uri": "https://localhost:8080/"
        },
        "id": "8Pj8VPjgeifP",
        "outputId": "09721bfc-b482-408c-ba25-bd0799f3747c"
      },
      "execution_count": 44,
      "outputs": [
        {
          "output_type": "execute_result",
          "data": {
            "text/plain": [
              "((90, 38), (10, 38))"
            ]
          },
          "metadata": {},
          "execution_count": 44
        }
      ]
    },
    {
      "cell_type": "code",
      "source": [
        "X_train_pd = train_pd[cols_final[:8]]\n",
        "y_train_pd = train_pd[cols_final[8:]]\n",
        "X_test_pd = test_pd[cols_final[:8]]\n",
        "y_test_pd = test_pd[cols_final[8:]]"
      ],
      "metadata": {
        "id": "ZTrc9xd2gfp2"
      },
      "execution_count": 45,
      "outputs": []
    },
    {
      "cell_type": "code",
      "source": [
        "X_train_pd"
      ],
      "metadata": {
        "colab": {
          "base_uri": "https://localhost:8080/",
          "height": 485
        },
        "id": "sOA3-eM_kxCT",
        "outputId": "fb4c2bae-50dc-4a11-aec5-10b7a0eee5e6"
      },
      "execution_count": 46,
      "outputs": [
        {
          "output_type": "execute_result",
          "data": {
            "text/plain": [
              "    Must be Android  Must be iPhone  No Preference  Budget_categorical  \\\n",
              "36                0               0              1                   0   \n",
              "19                0               0              1                   3   \n",
              "74                0               1              0                   2   \n",
              "6                 1               0              0                   1   \n",
              "12                0               1              0                   4   \n",
              "..              ...             ...            ...                 ...   \n",
              "10                0               0              1                   1   \n",
              "35                0               1              0                   3   \n",
              "49                1               0              0                   1   \n",
              "46                1               0              0                   0   \n",
              "98                0               0              1                   0   \n",
              "\n",
              "    Size_categorical  Camera_Importance_categorical  Usage_categorical  \\\n",
              "36                 0                              3                  0   \n",
              "19                 1                              1                  2   \n",
              "74                 0                              2                  3   \n",
              "6                  0                              0                  0   \n",
              "12                 2                              1                  1   \n",
              "..               ...                            ...                ...   \n",
              "10                 2                              3                  2   \n",
              "35                 1                              0                  3   \n",
              "49                 0                              0                  0   \n",
              "46                 0                              3                  0   \n",
              "98                 0                              3                  2   \n",
              "\n",
              "    Pay_More_For_Performance_categorical  \n",
              "36                                     0  \n",
              "19                                     3  \n",
              "74                                     3  \n",
              "6                                      0  \n",
              "12                                     2  \n",
              "..                                   ...  \n",
              "10                                     1  \n",
              "35                                     0  \n",
              "49                                     2  \n",
              "46                                     0  \n",
              "98                                     2  \n",
              "\n",
              "[90 rows x 8 columns]"
            ],
            "text/html": [
              "\n",
              "  <div id=\"df-f6a5ce48-bf59-4d19-8d9f-b4639dbb274a\">\n",
              "    <div class=\"colab-df-container\">\n",
              "      <div>\n",
              "<style scoped>\n",
              "    .dataframe tbody tr th:only-of-type {\n",
              "        vertical-align: middle;\n",
              "    }\n",
              "\n",
              "    .dataframe tbody tr th {\n",
              "        vertical-align: top;\n",
              "    }\n",
              "\n",
              "    .dataframe thead th {\n",
              "        text-align: right;\n",
              "    }\n",
              "</style>\n",
              "<table border=\"1\" class=\"dataframe\">\n",
              "  <thead>\n",
              "    <tr style=\"text-align: right;\">\n",
              "      <th></th>\n",
              "      <th>Must be Android</th>\n",
              "      <th>Must be iPhone</th>\n",
              "      <th>No Preference</th>\n",
              "      <th>Budget_categorical</th>\n",
              "      <th>Size_categorical</th>\n",
              "      <th>Camera_Importance_categorical</th>\n",
              "      <th>Usage_categorical</th>\n",
              "      <th>Pay_More_For_Performance_categorical</th>\n",
              "    </tr>\n",
              "  </thead>\n",
              "  <tbody>\n",
              "    <tr>\n",
              "      <th>36</th>\n",
              "      <td>0</td>\n",
              "      <td>0</td>\n",
              "      <td>1</td>\n",
              "      <td>0</td>\n",
              "      <td>0</td>\n",
              "      <td>3</td>\n",
              "      <td>0</td>\n",
              "      <td>0</td>\n",
              "    </tr>\n",
              "    <tr>\n",
              "      <th>19</th>\n",
              "      <td>0</td>\n",
              "      <td>0</td>\n",
              "      <td>1</td>\n",
              "      <td>3</td>\n",
              "      <td>1</td>\n",
              "      <td>1</td>\n",
              "      <td>2</td>\n",
              "      <td>3</td>\n",
              "    </tr>\n",
              "    <tr>\n",
              "      <th>74</th>\n",
              "      <td>0</td>\n",
              "      <td>1</td>\n",
              "      <td>0</td>\n",
              "      <td>2</td>\n",
              "      <td>0</td>\n",
              "      <td>2</td>\n",
              "      <td>3</td>\n",
              "      <td>3</td>\n",
              "    </tr>\n",
              "    <tr>\n",
              "      <th>6</th>\n",
              "      <td>1</td>\n",
              "      <td>0</td>\n",
              "      <td>0</td>\n",
              "      <td>1</td>\n",
              "      <td>0</td>\n",
              "      <td>0</td>\n",
              "      <td>0</td>\n",
              "      <td>0</td>\n",
              "    </tr>\n",
              "    <tr>\n",
              "      <th>12</th>\n",
              "      <td>0</td>\n",
              "      <td>1</td>\n",
              "      <td>0</td>\n",
              "      <td>4</td>\n",
              "      <td>2</td>\n",
              "      <td>1</td>\n",
              "      <td>1</td>\n",
              "      <td>2</td>\n",
              "    </tr>\n",
              "    <tr>\n",
              "      <th>...</th>\n",
              "      <td>...</td>\n",
              "      <td>...</td>\n",
              "      <td>...</td>\n",
              "      <td>...</td>\n",
              "      <td>...</td>\n",
              "      <td>...</td>\n",
              "      <td>...</td>\n",
              "      <td>...</td>\n",
              "    </tr>\n",
              "    <tr>\n",
              "      <th>10</th>\n",
              "      <td>0</td>\n",
              "      <td>0</td>\n",
              "      <td>1</td>\n",
              "      <td>1</td>\n",
              "      <td>2</td>\n",
              "      <td>3</td>\n",
              "      <td>2</td>\n",
              "      <td>1</td>\n",
              "    </tr>\n",
              "    <tr>\n",
              "      <th>35</th>\n",
              "      <td>0</td>\n",
              "      <td>1</td>\n",
              "      <td>0</td>\n",
              "      <td>3</td>\n",
              "      <td>1</td>\n",
              "      <td>0</td>\n",
              "      <td>3</td>\n",
              "      <td>0</td>\n",
              "    </tr>\n",
              "    <tr>\n",
              "      <th>49</th>\n",
              "      <td>1</td>\n",
              "      <td>0</td>\n",
              "      <td>0</td>\n",
              "      <td>1</td>\n",
              "      <td>0</td>\n",
              "      <td>0</td>\n",
              "      <td>0</td>\n",
              "      <td>2</td>\n",
              "    </tr>\n",
              "    <tr>\n",
              "      <th>46</th>\n",
              "      <td>1</td>\n",
              "      <td>0</td>\n",
              "      <td>0</td>\n",
              "      <td>0</td>\n",
              "      <td>0</td>\n",
              "      <td>3</td>\n",
              "      <td>0</td>\n",
              "      <td>0</td>\n",
              "    </tr>\n",
              "    <tr>\n",
              "      <th>98</th>\n",
              "      <td>0</td>\n",
              "      <td>0</td>\n",
              "      <td>1</td>\n",
              "      <td>0</td>\n",
              "      <td>0</td>\n",
              "      <td>3</td>\n",
              "      <td>2</td>\n",
              "      <td>2</td>\n",
              "    </tr>\n",
              "  </tbody>\n",
              "</table>\n",
              "<p>90 rows × 8 columns</p>\n",
              "</div>\n",
              "      <button class=\"colab-df-convert\" onclick=\"convertToInteractive('df-f6a5ce48-bf59-4d19-8d9f-b4639dbb274a')\"\n",
              "              title=\"Convert this dataframe to an interactive table.\"\n",
              "              style=\"display:none;\">\n",
              "        \n",
              "  <svg xmlns=\"http://www.w3.org/2000/svg\" height=\"24px\"viewBox=\"0 0 24 24\"\n",
              "       width=\"24px\">\n",
              "    <path d=\"M0 0h24v24H0V0z\" fill=\"none\"/>\n",
              "    <path d=\"M18.56 5.44l.94 2.06.94-2.06 2.06-.94-2.06-.94-.94-2.06-.94 2.06-2.06.94zm-11 1L8.5 8.5l.94-2.06 2.06-.94-2.06-.94L8.5 2.5l-.94 2.06-2.06.94zm10 10l.94 2.06.94-2.06 2.06-.94-2.06-.94-.94-2.06-.94 2.06-2.06.94z\"/><path d=\"M17.41 7.96l-1.37-1.37c-.4-.4-.92-.59-1.43-.59-.52 0-1.04.2-1.43.59L10.3 9.45l-7.72 7.72c-.78.78-.78 2.05 0 2.83L4 21.41c.39.39.9.59 1.41.59.51 0 1.02-.2 1.41-.59l7.78-7.78 2.81-2.81c.8-.78.8-2.07 0-2.86zM5.41 20L4 18.59l7.72-7.72 1.47 1.35L5.41 20z\"/>\n",
              "  </svg>\n",
              "      </button>\n",
              "      \n",
              "  <style>\n",
              "    .colab-df-container {\n",
              "      display:flex;\n",
              "      flex-wrap:wrap;\n",
              "      gap: 12px;\n",
              "    }\n",
              "\n",
              "    .colab-df-convert {\n",
              "      background-color: #E8F0FE;\n",
              "      border: none;\n",
              "      border-radius: 50%;\n",
              "      cursor: pointer;\n",
              "      display: none;\n",
              "      fill: #1967D2;\n",
              "      height: 32px;\n",
              "      padding: 0 0 0 0;\n",
              "      width: 32px;\n",
              "    }\n",
              "\n",
              "    .colab-df-convert:hover {\n",
              "      background-color: #E2EBFA;\n",
              "      box-shadow: 0px 1px 2px rgba(60, 64, 67, 0.3), 0px 1px 3px 1px rgba(60, 64, 67, 0.15);\n",
              "      fill: #174EA6;\n",
              "    }\n",
              "\n",
              "    [theme=dark] .colab-df-convert {\n",
              "      background-color: #3B4455;\n",
              "      fill: #D2E3FC;\n",
              "    }\n",
              "\n",
              "    [theme=dark] .colab-df-convert:hover {\n",
              "      background-color: #434B5C;\n",
              "      box-shadow: 0px 1px 3px 1px rgba(0, 0, 0, 0.15);\n",
              "      filter: drop-shadow(0px 1px 2px rgba(0, 0, 0, 0.3));\n",
              "      fill: #FFFFFF;\n",
              "    }\n",
              "  </style>\n",
              "\n",
              "      <script>\n",
              "        const buttonEl =\n",
              "          document.querySelector('#df-f6a5ce48-bf59-4d19-8d9f-b4639dbb274a button.colab-df-convert');\n",
              "        buttonEl.style.display =\n",
              "          google.colab.kernel.accessAllowed ? 'block' : 'none';\n",
              "\n",
              "        async function convertToInteractive(key) {\n",
              "          const element = document.querySelector('#df-f6a5ce48-bf59-4d19-8d9f-b4639dbb274a');\n",
              "          const dataTable =\n",
              "            await google.colab.kernel.invokeFunction('convertToInteractive',\n",
              "                                                     [key], {});\n",
              "          if (!dataTable) return;\n",
              "\n",
              "          const docLinkHtml = 'Like what you see? Visit the ' +\n",
              "            '<a target=\"_blank\" href=https://colab.research.google.com/notebooks/data_table.ipynb>data table notebook</a>'\n",
              "            + ' to learn more about interactive tables.';\n",
              "          element.innerHTML = '';\n",
              "          dataTable['output_type'] = 'display_data';\n",
              "          await google.colab.output.renderOutput(dataTable, element);\n",
              "          const docLink = document.createElement('div');\n",
              "          docLink.innerHTML = docLinkHtml;\n",
              "          element.appendChild(docLink);\n",
              "        }\n",
              "      </script>\n",
              "    </div>\n",
              "  </div>\n",
              "  "
            ]
          },
          "metadata": {},
          "execution_count": 46
        }
      ]
    },
    {
      "cell_type": "code",
      "source": [
        "y_train_pd"
      ],
      "metadata": {
        "colab": {
          "base_uri": "https://localhost:8080/",
          "height": 540
        },
        "id": "vDRTWwg1gwaK",
        "outputId": "e91485f5-7e7e-486c-d029-937b26411eda"
      },
      "execution_count": 47,
      "outputs": [
        {
          "output_type": "execute_result",
          "data": {
            "text/plain": [
              "    Apple iPhone 11  Apple iPhone 12  Apple iPhone 12 mini  Apple iPhone 13  \\\n",
              "36                2                0                     0                0   \n",
              "19                0                2                     3                4   \n",
              "74                3                2                     3                1   \n",
              "6                 0                0                     0                0   \n",
              "12                3                3                     2                4   \n",
              "..              ...              ...                   ...              ...   \n",
              "10                0                0                     0                0   \n",
              "35                3                3                     4                1   \n",
              "49                0                0                     0                0   \n",
              "46                0                0                     0                0   \n",
              "98                0                3                     2                4   \n",
              "\n",
              "    Apple iPhone 13 mini  Apple iPhone 13 Pro  Apple iPhone 13 Pro Max  \\\n",
              "36                     0                    0                        0   \n",
              "19                     4                    0                        0   \n",
              "74                     2                    1                        1   \n",
              "6                      0                    0                        0   \n",
              "12                     2                    4                        3   \n",
              "..                   ...                  ...                      ...   \n",
              "10                     0                    0                        0   \n",
              "35                     4                    1                        0   \n",
              "49                     0                    0                        0   \n",
              "46                     0                    0                        0   \n",
              "98                     3                    4                        4   \n",
              "\n",
              "    Apple iPhone SE (2022)  Google Pixel 5a  Google Pixel 6  ...  \\\n",
              "36                       0                5               4  ...   \n",
              "19                       0                0               1  ...   \n",
              "74                       3                0               0  ...   \n",
              "6                        0                0               0  ...   \n",
              "12                       0                0               0  ...   \n",
              "..                     ...              ...             ...  ...   \n",
              "10                       0                0               0  ...   \n",
              "35                       3                0               0  ...   \n",
              "49                       0                2               0  ...   \n",
              "46                       0                5               4  ...   \n",
              "98                       0                0               3  ...   \n",
              "\n",
              "    Samsung Galaxy A32  Samsung Galaxy A42  Samsung Galaxy A53  \\\n",
              "36                   0                   1                   2   \n",
              "19                   0                   0                   0   \n",
              "74                   0                   0                   0   \n",
              "6                    2                   4                   0   \n",
              "12                   0                   0                   0   \n",
              "..                 ...                 ...                 ...   \n",
              "10                   2                   5                   4   \n",
              "35                   0                   0                   0   \n",
              "49                   1                   3                   2   \n",
              "46                   0                   0                   1   \n",
              "98                   0                   0                   0   \n",
              "\n",
              "    Samsung Galaxy S20 FE  Samsung Galaxy S21 FE  Samsung Galaxy S22  \\\n",
              "36                      3                      3                   0   \n",
              "19                      1                      3                   4   \n",
              "74                      0                      0                   0   \n",
              "6                       0                      0                   0   \n",
              "12                      0                      0                   0   \n",
              "..                    ...                    ...                 ...   \n",
              "10                      0                      0                   0   \n",
              "35                      0                      0                   0   \n",
              "49                      0                      0                   0   \n",
              "46                      2                      3                   0   \n",
              "98                      3                      4                   3   \n",
              "\n",
              "    Samsung Galaxy S22 Ultra  Samsung Galaxy S22+  Sony Xperia 1 III  \\\n",
              "36                         0                    0                  0   \n",
              "19                         0                    0                  5   \n",
              "74                         0                    0                  0   \n",
              "6                          0                    0                  0   \n",
              "12                         0                    0                  0   \n",
              "..                       ...                  ...                ...   \n",
              "10                         0                    0                  0   \n",
              "35                         0                    0                  0   \n",
              "49                         0                    0                  0   \n",
              "46                         0                    3                  0   \n",
              "98                         4                    4                  0   \n",
              "\n",
              "    Sony Xperia 5 III  \n",
              "36                  0  \n",
              "19                  0  \n",
              "74                  0  \n",
              "6                   0  \n",
              "12                  0  \n",
              "..                ...  \n",
              "10                  0  \n",
              "35                  0  \n",
              "49                  0  \n",
              "46                  0  \n",
              "98                  0  \n",
              "\n",
              "[90 rows x 30 columns]"
            ],
            "text/html": [
              "\n",
              "  <div id=\"df-ac54927b-6b5d-4108-87de-6225f854a489\">\n",
              "    <div class=\"colab-df-container\">\n",
              "      <div>\n",
              "<style scoped>\n",
              "    .dataframe tbody tr th:only-of-type {\n",
              "        vertical-align: middle;\n",
              "    }\n",
              "\n",
              "    .dataframe tbody tr th {\n",
              "        vertical-align: top;\n",
              "    }\n",
              "\n",
              "    .dataframe thead th {\n",
              "        text-align: right;\n",
              "    }\n",
              "</style>\n",
              "<table border=\"1\" class=\"dataframe\">\n",
              "  <thead>\n",
              "    <tr style=\"text-align: right;\">\n",
              "      <th></th>\n",
              "      <th>Apple iPhone 11</th>\n",
              "      <th>Apple iPhone 12</th>\n",
              "      <th>Apple iPhone 12 mini</th>\n",
              "      <th>Apple iPhone 13</th>\n",
              "      <th>Apple iPhone 13 mini</th>\n",
              "      <th>Apple iPhone 13 Pro</th>\n",
              "      <th>Apple iPhone 13 Pro Max</th>\n",
              "      <th>Apple iPhone SE (2022)</th>\n",
              "      <th>Google Pixel 5a</th>\n",
              "      <th>Google Pixel 6</th>\n",
              "      <th>...</th>\n",
              "      <th>Samsung Galaxy A32</th>\n",
              "      <th>Samsung Galaxy A42</th>\n",
              "      <th>Samsung Galaxy A53</th>\n",
              "      <th>Samsung Galaxy S20 FE</th>\n",
              "      <th>Samsung Galaxy S21 FE</th>\n",
              "      <th>Samsung Galaxy S22</th>\n",
              "      <th>Samsung Galaxy S22 Ultra</th>\n",
              "      <th>Samsung Galaxy S22+</th>\n",
              "      <th>Sony Xperia 1 III</th>\n",
              "      <th>Sony Xperia 5 III</th>\n",
              "    </tr>\n",
              "  </thead>\n",
              "  <tbody>\n",
              "    <tr>\n",
              "      <th>36</th>\n",
              "      <td>2</td>\n",
              "      <td>0</td>\n",
              "      <td>0</td>\n",
              "      <td>0</td>\n",
              "      <td>0</td>\n",
              "      <td>0</td>\n",
              "      <td>0</td>\n",
              "      <td>0</td>\n",
              "      <td>5</td>\n",
              "      <td>4</td>\n",
              "      <td>...</td>\n",
              "      <td>0</td>\n",
              "      <td>1</td>\n",
              "      <td>2</td>\n",
              "      <td>3</td>\n",
              "      <td>3</td>\n",
              "      <td>0</td>\n",
              "      <td>0</td>\n",
              "      <td>0</td>\n",
              "      <td>0</td>\n",
              "      <td>0</td>\n",
              "    </tr>\n",
              "    <tr>\n",
              "      <th>19</th>\n",
              "      <td>0</td>\n",
              "      <td>2</td>\n",
              "      <td>3</td>\n",
              "      <td>4</td>\n",
              "      <td>4</td>\n",
              "      <td>0</td>\n",
              "      <td>0</td>\n",
              "      <td>0</td>\n",
              "      <td>0</td>\n",
              "      <td>1</td>\n",
              "      <td>...</td>\n",
              "      <td>0</td>\n",
              "      <td>0</td>\n",
              "      <td>0</td>\n",
              "      <td>1</td>\n",
              "      <td>3</td>\n",
              "      <td>4</td>\n",
              "      <td>0</td>\n",
              "      <td>0</td>\n",
              "      <td>5</td>\n",
              "      <td>0</td>\n",
              "    </tr>\n",
              "    <tr>\n",
              "      <th>74</th>\n",
              "      <td>3</td>\n",
              "      <td>2</td>\n",
              "      <td>3</td>\n",
              "      <td>1</td>\n",
              "      <td>2</td>\n",
              "      <td>1</td>\n",
              "      <td>1</td>\n",
              "      <td>3</td>\n",
              "      <td>0</td>\n",
              "      <td>0</td>\n",
              "      <td>...</td>\n",
              "      <td>0</td>\n",
              "      <td>0</td>\n",
              "      <td>0</td>\n",
              "      <td>0</td>\n",
              "      <td>0</td>\n",
              "      <td>0</td>\n",
              "      <td>0</td>\n",
              "      <td>0</td>\n",
              "      <td>0</td>\n",
              "      <td>0</td>\n",
              "    </tr>\n",
              "    <tr>\n",
              "      <th>6</th>\n",
              "      <td>0</td>\n",
              "      <td>0</td>\n",
              "      <td>0</td>\n",
              "      <td>0</td>\n",
              "      <td>0</td>\n",
              "      <td>0</td>\n",
              "      <td>0</td>\n",
              "      <td>0</td>\n",
              "      <td>0</td>\n",
              "      <td>0</td>\n",
              "      <td>...</td>\n",
              "      <td>2</td>\n",
              "      <td>4</td>\n",
              "      <td>0</td>\n",
              "      <td>0</td>\n",
              "      <td>0</td>\n",
              "      <td>0</td>\n",
              "      <td>0</td>\n",
              "      <td>0</td>\n",
              "      <td>0</td>\n",
              "      <td>0</td>\n",
              "    </tr>\n",
              "    <tr>\n",
              "      <th>12</th>\n",
              "      <td>3</td>\n",
              "      <td>3</td>\n",
              "      <td>2</td>\n",
              "      <td>4</td>\n",
              "      <td>2</td>\n",
              "      <td>4</td>\n",
              "      <td>3</td>\n",
              "      <td>0</td>\n",
              "      <td>0</td>\n",
              "      <td>0</td>\n",
              "      <td>...</td>\n",
              "      <td>0</td>\n",
              "      <td>0</td>\n",
              "      <td>0</td>\n",
              "      <td>0</td>\n",
              "      <td>0</td>\n",
              "      <td>0</td>\n",
              "      <td>0</td>\n",
              "      <td>0</td>\n",
              "      <td>0</td>\n",
              "      <td>0</td>\n",
              "    </tr>\n",
              "    <tr>\n",
              "      <th>...</th>\n",
              "      <td>...</td>\n",
              "      <td>...</td>\n",
              "      <td>...</td>\n",
              "      <td>...</td>\n",
              "      <td>...</td>\n",
              "      <td>...</td>\n",
              "      <td>...</td>\n",
              "      <td>...</td>\n",
              "      <td>...</td>\n",
              "      <td>...</td>\n",
              "      <td>...</td>\n",
              "      <td>...</td>\n",
              "      <td>...</td>\n",
              "      <td>...</td>\n",
              "      <td>...</td>\n",
              "      <td>...</td>\n",
              "      <td>...</td>\n",
              "      <td>...</td>\n",
              "      <td>...</td>\n",
              "      <td>...</td>\n",
              "      <td>...</td>\n",
              "    </tr>\n",
              "    <tr>\n",
              "      <th>10</th>\n",
              "      <td>0</td>\n",
              "      <td>0</td>\n",
              "      <td>0</td>\n",
              "      <td>0</td>\n",
              "      <td>0</td>\n",
              "      <td>0</td>\n",
              "      <td>0</td>\n",
              "      <td>0</td>\n",
              "      <td>0</td>\n",
              "      <td>0</td>\n",
              "      <td>...</td>\n",
              "      <td>2</td>\n",
              "      <td>5</td>\n",
              "      <td>4</td>\n",
              "      <td>0</td>\n",
              "      <td>0</td>\n",
              "      <td>0</td>\n",
              "      <td>0</td>\n",
              "      <td>0</td>\n",
              "      <td>0</td>\n",
              "      <td>0</td>\n",
              "    </tr>\n",
              "    <tr>\n",
              "      <th>35</th>\n",
              "      <td>3</td>\n",
              "      <td>3</td>\n",
              "      <td>4</td>\n",
              "      <td>1</td>\n",
              "      <td>4</td>\n",
              "      <td>1</td>\n",
              "      <td>0</td>\n",
              "      <td>3</td>\n",
              "      <td>0</td>\n",
              "      <td>0</td>\n",
              "      <td>...</td>\n",
              "      <td>0</td>\n",
              "      <td>0</td>\n",
              "      <td>0</td>\n",
              "      <td>0</td>\n",
              "      <td>0</td>\n",
              "      <td>0</td>\n",
              "      <td>0</td>\n",
              "      <td>0</td>\n",
              "      <td>0</td>\n",
              "      <td>0</td>\n",
              "    </tr>\n",
              "    <tr>\n",
              "      <th>49</th>\n",
              "      <td>0</td>\n",
              "      <td>0</td>\n",
              "      <td>0</td>\n",
              "      <td>0</td>\n",
              "      <td>0</td>\n",
              "      <td>0</td>\n",
              "      <td>0</td>\n",
              "      <td>0</td>\n",
              "      <td>2</td>\n",
              "      <td>0</td>\n",
              "      <td>...</td>\n",
              "      <td>1</td>\n",
              "      <td>3</td>\n",
              "      <td>2</td>\n",
              "      <td>0</td>\n",
              "      <td>0</td>\n",
              "      <td>0</td>\n",
              "      <td>0</td>\n",
              "      <td>0</td>\n",
              "      <td>0</td>\n",
              "      <td>0</td>\n",
              "    </tr>\n",
              "    <tr>\n",
              "      <th>46</th>\n",
              "      <td>0</td>\n",
              "      <td>0</td>\n",
              "      <td>0</td>\n",
              "      <td>0</td>\n",
              "      <td>0</td>\n",
              "      <td>0</td>\n",
              "      <td>0</td>\n",
              "      <td>0</td>\n",
              "      <td>5</td>\n",
              "      <td>4</td>\n",
              "      <td>...</td>\n",
              "      <td>0</td>\n",
              "      <td>0</td>\n",
              "      <td>1</td>\n",
              "      <td>2</td>\n",
              "      <td>3</td>\n",
              "      <td>0</td>\n",
              "      <td>0</td>\n",
              "      <td>3</td>\n",
              "      <td>0</td>\n",
              "      <td>0</td>\n",
              "    </tr>\n",
              "    <tr>\n",
              "      <th>98</th>\n",
              "      <td>0</td>\n",
              "      <td>3</td>\n",
              "      <td>2</td>\n",
              "      <td>4</td>\n",
              "      <td>3</td>\n",
              "      <td>4</td>\n",
              "      <td>4</td>\n",
              "      <td>0</td>\n",
              "      <td>0</td>\n",
              "      <td>3</td>\n",
              "      <td>...</td>\n",
              "      <td>0</td>\n",
              "      <td>0</td>\n",
              "      <td>0</td>\n",
              "      <td>3</td>\n",
              "      <td>4</td>\n",
              "      <td>3</td>\n",
              "      <td>4</td>\n",
              "      <td>4</td>\n",
              "      <td>0</td>\n",
              "      <td>0</td>\n",
              "    </tr>\n",
              "  </tbody>\n",
              "</table>\n",
              "<p>90 rows × 30 columns</p>\n",
              "</div>\n",
              "      <button class=\"colab-df-convert\" onclick=\"convertToInteractive('df-ac54927b-6b5d-4108-87de-6225f854a489')\"\n",
              "              title=\"Convert this dataframe to an interactive table.\"\n",
              "              style=\"display:none;\">\n",
              "        \n",
              "  <svg xmlns=\"http://www.w3.org/2000/svg\" height=\"24px\"viewBox=\"0 0 24 24\"\n",
              "       width=\"24px\">\n",
              "    <path d=\"M0 0h24v24H0V0z\" fill=\"none\"/>\n",
              "    <path d=\"M18.56 5.44l.94 2.06.94-2.06 2.06-.94-2.06-.94-.94-2.06-.94 2.06-2.06.94zm-11 1L8.5 8.5l.94-2.06 2.06-.94-2.06-.94L8.5 2.5l-.94 2.06-2.06.94zm10 10l.94 2.06.94-2.06 2.06-.94-2.06-.94-.94-2.06-.94 2.06-2.06.94z\"/><path d=\"M17.41 7.96l-1.37-1.37c-.4-.4-.92-.59-1.43-.59-.52 0-1.04.2-1.43.59L10.3 9.45l-7.72 7.72c-.78.78-.78 2.05 0 2.83L4 21.41c.39.39.9.59 1.41.59.51 0 1.02-.2 1.41-.59l7.78-7.78 2.81-2.81c.8-.78.8-2.07 0-2.86zM5.41 20L4 18.59l7.72-7.72 1.47 1.35L5.41 20z\"/>\n",
              "  </svg>\n",
              "      </button>\n",
              "      \n",
              "  <style>\n",
              "    .colab-df-container {\n",
              "      display:flex;\n",
              "      flex-wrap:wrap;\n",
              "      gap: 12px;\n",
              "    }\n",
              "\n",
              "    .colab-df-convert {\n",
              "      background-color: #E8F0FE;\n",
              "      border: none;\n",
              "      border-radius: 50%;\n",
              "      cursor: pointer;\n",
              "      display: none;\n",
              "      fill: #1967D2;\n",
              "      height: 32px;\n",
              "      padding: 0 0 0 0;\n",
              "      width: 32px;\n",
              "    }\n",
              "\n",
              "    .colab-df-convert:hover {\n",
              "      background-color: #E2EBFA;\n",
              "      box-shadow: 0px 1px 2px rgba(60, 64, 67, 0.3), 0px 1px 3px 1px rgba(60, 64, 67, 0.15);\n",
              "      fill: #174EA6;\n",
              "    }\n",
              "\n",
              "    [theme=dark] .colab-df-convert {\n",
              "      background-color: #3B4455;\n",
              "      fill: #D2E3FC;\n",
              "    }\n",
              "\n",
              "    [theme=dark] .colab-df-convert:hover {\n",
              "      background-color: #434B5C;\n",
              "      box-shadow: 0px 1px 3px 1px rgba(0, 0, 0, 0.15);\n",
              "      filter: drop-shadow(0px 1px 2px rgba(0, 0, 0, 0.3));\n",
              "      fill: #FFFFFF;\n",
              "    }\n",
              "  </style>\n",
              "\n",
              "      <script>\n",
              "        const buttonEl =\n",
              "          document.querySelector('#df-ac54927b-6b5d-4108-87de-6225f854a489 button.colab-df-convert');\n",
              "        buttonEl.style.display =\n",
              "          google.colab.kernel.accessAllowed ? 'block' : 'none';\n",
              "\n",
              "        async function convertToInteractive(key) {\n",
              "          const element = document.querySelector('#df-ac54927b-6b5d-4108-87de-6225f854a489');\n",
              "          const dataTable =\n",
              "            await google.colab.kernel.invokeFunction('convertToInteractive',\n",
              "                                                     [key], {});\n",
              "          if (!dataTable) return;\n",
              "\n",
              "          const docLinkHtml = 'Like what you see? Visit the ' +\n",
              "            '<a target=\"_blank\" href=https://colab.research.google.com/notebooks/data_table.ipynb>data table notebook</a>'\n",
              "            + ' to learn more about interactive tables.';\n",
              "          element.innerHTML = '';\n",
              "          dataTable['output_type'] = 'display_data';\n",
              "          await google.colab.output.renderOutput(dataTable, element);\n",
              "          const docLink = document.createElement('div');\n",
              "          docLink.innerHTML = docLinkHtml;\n",
              "          element.appendChild(docLink);\n",
              "        }\n",
              "      </script>\n",
              "    </div>\n",
              "  </div>\n",
              "  "
            ]
          },
          "metadata": {},
          "execution_count": 47
        }
      ]
    },
    {
      "cell_type": "code",
      "source": [
        "X_train_np = X_train_pd.to_numpy().astype(float)\n",
        "X_test_np = X_test_pd.to_numpy().astype(float)\n",
        "y_train_np = y_train_pd.to_numpy().astype(float)\n",
        "y_test_np = y_test_pd.to_numpy().astype(float)"
      ],
      "metadata": {
        "id": "LwWqRVvcnuYU"
      },
      "execution_count": 48,
      "outputs": []
    },
    {
      "cell_type": "code",
      "source": [
        "X_train_np.shape, X_test_np.shape, y_train_np.shape, y_test_np.shape"
      ],
      "metadata": {
        "colab": {
          "base_uri": "https://localhost:8080/"
        },
        "id": "TLIMzfdSpunO",
        "outputId": "03386a7e-f23e-4824-ba95-466dec36f3ac"
      },
      "execution_count": 49,
      "outputs": [
        {
          "output_type": "execute_result",
          "data": {
            "text/plain": [
              "((90, 8), (10, 8), (90, 30), (10, 30))"
            ]
          },
          "metadata": {},
          "execution_count": 49
        }
      ]
    },
    {
      "cell_type": "markdown",
      "source": [
        "#4. Linear Model"
      ],
      "metadata": {
        "id": "NUPBRTn-k9SA"
      }
    },
    {
      "cell_type": "markdown",
      "source": [
        "A linear model is the simplest of the models that is possible. It just contains a single dense layer with a linear activation function. The weights of the dense layer can be directly interpreted as the embeddings of the various phones."
      ],
      "metadata": {
        "id": "LnMOSCEXpVO1"
      }
    },
    {
      "cell_type": "markdown",
      "source": [
        "Custom loss funtion"
      ],
      "metadata": {
        "id": "h2NZ02BDlKO5"
      }
    },
    {
      "cell_type": "code",
      "source": [
        "#Custom loss function that weighs top rated items more\n",
        "def weighted_mse(y_true, y_pred):\n",
        "  sqr_error = tf.square(y_true - y_pred)\n",
        "  weighted_sqr_error = tf.math.exp(y_true)*sqr_error\n",
        "  mean_weighted_sqr_error = tf.math.reduce_mean(weighted_sqr_error)\n",
        "  return mean_weighted_sqr_error"
      ],
      "metadata": {
        "id": "gCKFTslk-piy"
      },
      "execution_count": 50,
      "outputs": []
    },
    {
      "cell_type": "markdown",
      "source": [
        "A simple linear model."
      ],
      "metadata": {
        "id": "lsvv_6jblNrQ"
      }
    },
    {
      "cell_type": "code",
      "source": [
        "linear_model = tf.keras.models.Sequential([\n",
        "  tf.keras.layers.InputLayer(input_shape=(8,)),\n",
        "  tf.keras.layers.Dense(30, activation='linear', use_bias=False)\n",
        "])"
      ],
      "metadata": {
        "id": "EPRH2PBiqDsW"
      },
      "execution_count": 52,
      "outputs": []
    },
    {
      "cell_type": "code",
      "source": [
        "linear_model.summary()"
      ],
      "metadata": {
        "colab": {
          "base_uri": "https://localhost:8080/"
        },
        "id": "pInk0NpqUMy2",
        "outputId": "f512a316-b5a1-48b3-f3e4-d1ada3d2ef77"
      },
      "execution_count": 53,
      "outputs": [
        {
          "output_type": "stream",
          "name": "stdout",
          "text": [
            "Model: \"sequential_1\"\n",
            "_________________________________________________________________\n",
            " Layer (type)                Output Shape              Param #   \n",
            "=================================================================\n",
            " dense_1 (Dense)             (None, 30)                240       \n",
            "                                                                 \n",
            "=================================================================\n",
            "Total params: 240\n",
            "Trainable params: 240\n",
            "Non-trainable params: 0\n",
            "_________________________________________________________________\n"
          ]
        }
      ]
    },
    {
      "cell_type": "code",
      "source": [
        "optimizer = tf.keras.optimizers.Adam(learning_rate=.1)"
      ],
      "metadata": {
        "id": "C82kt_XEtXhe"
      },
      "execution_count": 54,
      "outputs": []
    },
    {
      "cell_type": "code",
      "source": [
        "linear_model.compile(optimizer=optimizer, loss = weighted_mse)"
      ],
      "metadata": {
        "id": "9mxmbxbetwTc"
      },
      "execution_count": 55,
      "outputs": []
    },
    {
      "cell_type": "code",
      "source": [
        "history = linear_model.fit(X_train_np, y_train_np, validation_split = 0.15, epochs=100)"
      ],
      "metadata": {
        "colab": {
          "base_uri": "https://localhost:8080/"
        },
        "id": "9j2m9pPMuTct",
        "outputId": "3d41a4f1-b482-41eb-c8cb-5db87eec074a"
      },
      "execution_count": 56,
      "outputs": [
        {
          "output_type": "stream",
          "name": "stdout",
          "text": [
            "Epoch 1/100\n",
            "3/3 [==============================] - 1s 74ms/step - loss: 170.4198 - val_loss: 67.8055\n",
            "Epoch 2/100\n",
            "3/3 [==============================] - 0s 13ms/step - loss: 61.6030 - val_loss: 38.4757\n",
            "Epoch 3/100\n",
            "3/3 [==============================] - 0s 15ms/step - loss: 43.6194 - val_loss: 39.5659\n",
            "Epoch 4/100\n",
            "3/3 [==============================] - 0s 15ms/step - loss: 46.2402 - val_loss: 40.9000\n",
            "Epoch 5/100\n",
            "3/3 [==============================] - 0s 15ms/step - loss: 40.4830 - val_loss: 39.3836\n",
            "Epoch 6/100\n",
            "3/3 [==============================] - 0s 15ms/step - loss: 31.9224 - val_loss: 39.4624\n",
            "Epoch 7/100\n",
            "3/3 [==============================] - 0s 12ms/step - loss: 25.2596 - val_loss: 39.4305\n",
            "Epoch 8/100\n",
            "3/3 [==============================] - 0s 12ms/step - loss: 22.6515 - val_loss: 38.5752\n",
            "Epoch 9/100\n",
            "3/3 [==============================] - 0s 15ms/step - loss: 20.6970 - val_loss: 36.6969\n",
            "Epoch 10/100\n",
            "3/3 [==============================] - 0s 15ms/step - loss: 19.6106 - val_loss: 35.2181\n",
            "Epoch 11/100\n",
            "3/3 [==============================] - 0s 12ms/step - loss: 18.6027 - val_loss: 33.5175\n",
            "Epoch 12/100\n",
            "3/3 [==============================] - 0s 14ms/step - loss: 16.9468 - val_loss: 32.4764\n",
            "Epoch 13/100\n",
            "3/3 [==============================] - 0s 14ms/step - loss: 15.6274 - val_loss: 31.5224\n",
            "Epoch 14/100\n",
            "3/3 [==============================] - 0s 17ms/step - loss: 14.8826 - val_loss: 30.7146\n",
            "Epoch 15/100\n",
            "3/3 [==============================] - 0s 15ms/step - loss: 14.3975 - val_loss: 29.8236\n",
            "Epoch 16/100\n",
            "3/3 [==============================] - 0s 12ms/step - loss: 13.8872 - val_loss: 28.1689\n",
            "Epoch 17/100\n",
            "3/3 [==============================] - 0s 17ms/step - loss: 13.4283 - val_loss: 27.0414\n",
            "Epoch 18/100\n",
            "3/3 [==============================] - 0s 16ms/step - loss: 12.9958 - val_loss: 26.6696\n",
            "Epoch 19/100\n",
            "3/3 [==============================] - 0s 13ms/step - loss: 12.6786 - val_loss: 27.0450\n",
            "Epoch 20/100\n",
            "3/3 [==============================] - 0s 13ms/step - loss: 12.4637 - val_loss: 26.9622\n",
            "Epoch 21/100\n",
            "3/3 [==============================] - 0s 15ms/step - loss: 12.1782 - val_loss: 27.1184\n",
            "Epoch 22/100\n",
            "3/3 [==============================] - 0s 16ms/step - loss: 11.7232 - val_loss: 27.0004\n",
            "Epoch 23/100\n",
            "3/3 [==============================] - 0s 15ms/step - loss: 11.5085 - val_loss: 26.3163\n",
            "Epoch 24/100\n",
            "3/3 [==============================] - 0s 14ms/step - loss: 11.3189 - val_loss: 25.5722\n",
            "Epoch 25/100\n",
            "3/3 [==============================] - 0s 16ms/step - loss: 11.0635 - val_loss: 25.1350\n",
            "Epoch 26/100\n",
            "3/3 [==============================] - 0s 13ms/step - loss: 10.9076 - val_loss: 25.1076\n",
            "Epoch 27/100\n",
            "3/3 [==============================] - 0s 13ms/step - loss: 10.6374 - val_loss: 24.5219\n",
            "Epoch 28/100\n",
            "3/3 [==============================] - 0s 17ms/step - loss: 10.3869 - val_loss: 23.7286\n",
            "Epoch 29/100\n",
            "3/3 [==============================] - 0s 15ms/step - loss: 10.2353 - val_loss: 22.8279\n",
            "Epoch 30/100\n",
            "3/3 [==============================] - 0s 14ms/step - loss: 10.0773 - val_loss: 22.6755\n",
            "Epoch 31/100\n",
            "3/3 [==============================] - 0s 15ms/step - loss: 9.8878 - val_loss: 22.9085\n",
            "Epoch 32/100\n",
            "3/3 [==============================] - 0s 14ms/step - loss: 9.7227 - val_loss: 23.3237\n",
            "Epoch 33/100\n",
            "3/3 [==============================] - 0s 13ms/step - loss: 9.6205 - val_loss: 23.3764\n",
            "Epoch 34/100\n",
            "3/3 [==============================] - 0s 16ms/step - loss: 9.4221 - val_loss: 23.1062\n",
            "Epoch 35/100\n",
            "3/3 [==============================] - 0s 13ms/step - loss: 9.3400 - val_loss: 23.2495\n",
            "Epoch 36/100\n",
            "3/3 [==============================] - 0s 13ms/step - loss: 9.1651 - val_loss: 23.4969\n",
            "Epoch 37/100\n",
            "3/3 [==============================] - 0s 13ms/step - loss: 9.0919 - val_loss: 22.3918\n",
            "Epoch 38/100\n",
            "3/3 [==============================] - 0s 13ms/step - loss: 8.9918 - val_loss: 21.0520\n",
            "Epoch 39/100\n",
            "3/3 [==============================] - 0s 14ms/step - loss: 8.8526 - val_loss: 21.1383\n",
            "Epoch 40/100\n",
            "3/3 [==============================] - 0s 15ms/step - loss: 8.7163 - val_loss: 21.9650\n",
            "Epoch 41/100\n",
            "3/3 [==============================] - 0s 14ms/step - loss: 8.6446 - val_loss: 21.8510\n",
            "Epoch 42/100\n",
            "3/3 [==============================] - 0s 13ms/step - loss: 8.5118 - val_loss: 20.8488\n",
            "Epoch 43/100\n",
            "3/3 [==============================] - 0s 18ms/step - loss: 8.4515 - val_loss: 20.3534\n",
            "Epoch 44/100\n",
            "3/3 [==============================] - 0s 19ms/step - loss: 8.3449 - val_loss: 20.6242\n",
            "Epoch 45/100\n",
            "3/3 [==============================] - 0s 15ms/step - loss: 8.1546 - val_loss: 21.0915\n",
            "Epoch 46/100\n",
            "3/3 [==============================] - 0s 16ms/step - loss: 8.1543 - val_loss: 21.3332\n",
            "Epoch 47/100\n",
            "3/3 [==============================] - 0s 16ms/step - loss: 8.0335 - val_loss: 20.6230\n",
            "Epoch 48/100\n",
            "3/3 [==============================] - 0s 18ms/step - loss: 8.0020 - val_loss: 19.9101\n",
            "Epoch 49/100\n",
            "3/3 [==============================] - 0s 16ms/step - loss: 7.8984 - val_loss: 20.8076\n",
            "Epoch 50/100\n",
            "3/3 [==============================] - 0s 17ms/step - loss: 7.8223 - val_loss: 21.3996\n",
            "Epoch 51/100\n",
            "3/3 [==============================] - 0s 14ms/step - loss: 7.8209 - val_loss: 20.7015\n",
            "Epoch 52/100\n",
            "3/3 [==============================] - 0s 18ms/step - loss: 7.7881 - val_loss: 20.0624\n",
            "Epoch 53/100\n",
            "3/3 [==============================] - 0s 17ms/step - loss: 7.7222 - val_loss: 20.0707\n",
            "Epoch 54/100\n",
            "3/3 [==============================] - 0s 15ms/step - loss: 7.6451 - val_loss: 20.3153\n",
            "Epoch 55/100\n",
            "3/3 [==============================] - 0s 19ms/step - loss: 7.6383 - val_loss: 20.3052\n",
            "Epoch 56/100\n",
            "3/3 [==============================] - 0s 15ms/step - loss: 7.5074 - val_loss: 20.0093\n",
            "Epoch 57/100\n",
            "3/3 [==============================] - 0s 14ms/step - loss: 7.5239 - val_loss: 19.8140\n",
            "Epoch 58/100\n",
            "3/3 [==============================] - 0s 17ms/step - loss: 7.5111 - val_loss: 20.0388\n",
            "Epoch 59/100\n",
            "3/3 [==============================] - 0s 15ms/step - loss: 7.3517 - val_loss: 19.5958\n",
            "Epoch 60/100\n",
            "3/3 [==============================] - 0s 14ms/step - loss: 7.3600 - val_loss: 18.9776\n",
            "Epoch 61/100\n",
            "3/3 [==============================] - 0s 14ms/step - loss: 7.3499 - val_loss: 19.2593\n",
            "Epoch 62/100\n",
            "3/3 [==============================] - 0s 13ms/step - loss: 7.2498 - val_loss: 19.9175\n",
            "Epoch 63/100\n",
            "3/3 [==============================] - 0s 15ms/step - loss: 7.1789 - val_loss: 19.8589\n",
            "Epoch 64/100\n",
            "3/3 [==============================] - 0s 14ms/step - loss: 7.1223 - val_loss: 19.5228\n",
            "Epoch 65/100\n",
            "3/3 [==============================] - 0s 14ms/step - loss: 7.2500 - val_loss: 18.8743\n",
            "Epoch 66/100\n",
            "3/3 [==============================] - 0s 16ms/step - loss: 7.1170 - val_loss: 18.5769\n",
            "Epoch 67/100\n",
            "3/3 [==============================] - 0s 18ms/step - loss: 7.2285 - val_loss: 18.9478\n",
            "Epoch 68/100\n",
            "3/3 [==============================] - 0s 14ms/step - loss: 7.1075 - val_loss: 19.0643\n",
            "Epoch 69/100\n",
            "3/3 [==============================] - 0s 14ms/step - loss: 6.9983 - val_loss: 19.0624\n",
            "Epoch 70/100\n",
            "3/3 [==============================] - 0s 15ms/step - loss: 7.0903 - val_loss: 19.0458\n",
            "Epoch 71/100\n",
            "3/3 [==============================] - 0s 15ms/step - loss: 7.0089 - val_loss: 18.6183\n",
            "Epoch 72/100\n",
            "3/3 [==============================] - 0s 15ms/step - loss: 6.9273 - val_loss: 18.7411\n",
            "Epoch 73/100\n",
            "3/3 [==============================] - 0s 14ms/step - loss: 6.9886 - val_loss: 18.2331\n",
            "Epoch 74/100\n",
            "3/3 [==============================] - 0s 14ms/step - loss: 6.9545 - val_loss: 17.7732\n",
            "Epoch 75/100\n",
            "3/3 [==============================] - 0s 13ms/step - loss: 6.9516 - val_loss: 18.3154\n",
            "Epoch 76/100\n",
            "3/3 [==============================] - 0s 13ms/step - loss: 6.8965 - val_loss: 18.8110\n",
            "Epoch 77/100\n",
            "3/3 [==============================] - 0s 15ms/step - loss: 6.8397 - val_loss: 19.6624\n",
            "Epoch 78/100\n",
            "3/3 [==============================] - 0s 15ms/step - loss: 6.9085 - val_loss: 19.2307\n",
            "Epoch 79/100\n",
            "3/3 [==============================] - 0s 13ms/step - loss: 6.9549 - val_loss: 17.8534\n",
            "Epoch 80/100\n",
            "3/3 [==============================] - 0s 26ms/step - loss: 6.8463 - val_loss: 17.9729\n",
            "Epoch 81/100\n",
            "3/3 [==============================] - 0s 13ms/step - loss: 6.8145 - val_loss: 19.1216\n",
            "Epoch 82/100\n",
            "3/3 [==============================] - 0s 16ms/step - loss: 6.8150 - val_loss: 19.6191\n",
            "Epoch 83/100\n",
            "3/3 [==============================] - 0s 16ms/step - loss: 6.8482 - val_loss: 19.6723\n",
            "Epoch 84/100\n",
            "3/3 [==============================] - 0s 15ms/step - loss: 6.7950 - val_loss: 18.5087\n",
            "Epoch 85/100\n",
            "3/3 [==============================] - 0s 15ms/step - loss: 6.7421 - val_loss: 17.5266\n",
            "Epoch 86/100\n",
            "3/3 [==============================] - 0s 15ms/step - loss: 6.7985 - val_loss: 17.5907\n",
            "Epoch 87/100\n",
            "3/3 [==============================] - 0s 13ms/step - loss: 6.6947 - val_loss: 18.5178\n",
            "Epoch 88/100\n",
            "3/3 [==============================] - 0s 16ms/step - loss: 6.7544 - val_loss: 18.5548\n",
            "Epoch 89/100\n",
            "3/3 [==============================] - 0s 14ms/step - loss: 6.6676 - val_loss: 17.5428\n",
            "Epoch 90/100\n",
            "3/3 [==============================] - 0s 13ms/step - loss: 6.6916 - val_loss: 17.3968\n",
            "Epoch 91/100\n",
            "3/3 [==============================] - 0s 15ms/step - loss: 6.7397 - val_loss: 17.4795\n",
            "Epoch 92/100\n",
            "3/3 [==============================] - 0s 16ms/step - loss: 6.7068 - val_loss: 17.7847\n",
            "Epoch 93/100\n",
            "3/3 [==============================] - 0s 15ms/step - loss: 6.6844 - val_loss: 18.0787\n",
            "Epoch 94/100\n",
            "3/3 [==============================] - 0s 13ms/step - loss: 6.7174 - val_loss: 17.7845\n",
            "Epoch 95/100\n",
            "3/3 [==============================] - 0s 13ms/step - loss: 6.7804 - val_loss: 17.5875\n",
            "Epoch 96/100\n",
            "3/3 [==============================] - 0s 15ms/step - loss: 6.6675 - val_loss: 17.8824\n",
            "Epoch 97/100\n",
            "3/3 [==============================] - 0s 15ms/step - loss: 6.6436 - val_loss: 18.6870\n",
            "Epoch 98/100\n",
            "3/3 [==============================] - 0s 14ms/step - loss: 6.7207 - val_loss: 18.2069\n",
            "Epoch 99/100\n",
            "3/3 [==============================] - 0s 19ms/step - loss: 6.6492 - val_loss: 17.8593\n",
            "Epoch 100/100\n",
            "3/3 [==============================] - 0s 15ms/step - loss: 6.7454 - val_loss: 17.9992\n"
          ]
        }
      ]
    },
    {
      "cell_type": "code",
      "source": [
        "plt.plot(history.history['loss'])\n",
        "plt.plot(history.history['val_loss'])\n",
        "plt.title('model loss')\n",
        "plt.ylabel('loss')\n",
        "plt.xlabel('epoch')\n",
        "plt.legend(['train', 'val'], loc='upper left')\n",
        "plt.show()"
      ],
      "metadata": {
        "colab": {
          "base_uri": "https://localhost:8080/",
          "height": 295
        },
        "id": "JLCPYHJEu9BS",
        "outputId": "7181772b-f03d-4fce-dee9-16a35aafbf8e"
      },
      "execution_count": 57,
      "outputs": [
        {
          "output_type": "display_data",
          "data": {
            "text/plain": [
              "<Figure size 432x288 with 1 Axes>"
            ],
            "image/png": "[encoded data removed]"
          },
          "metadata": {
            "needs_background": "light"
          }
        }
      ]
    },
    {
      "cell_type": "code",
      "source": [
        "from sklearn.metrics import mean_squared_error as mse\n",
        "mse(linear_model.predict(X_test_np), y_test_np)"
      ],
      "metadata": {
        "colab": {
          "base_uri": "https://localhost:8080/"
        },
        "id": "JKBCzmbRDrj4",
        "outputId": "4b937cc3-0119-4c03-de12-eeed2e8fcd9a"
      },
      "execution_count": 59,
      "outputs": [
        {
          "output_type": "stream",
          "name": "stdout",
          "text": [
            "1/1 [==============================] - 0s 34ms/step\n"
          ]
        },
        {
          "output_type": "execute_result",
          "data": {
            "text/plain": [
              "3.307457718107918"
            ]
          },
          "metadata": {},
          "execution_count": 59
        }
      ]
    },
    {
      "cell_type": "markdown",
      "source": [
        "#5. Non-Linear Model"
      ],
      "metadata": {
        "id": "L7fzwI-Rlahd"
      }
    },
    {
      "cell_type": "code",
      "source": [
        "non_linear_model = tf.keras.models.Sequential([\n",
        "  tf.keras.layers.InputLayer(input_shape=(8,)),\n",
        "  tf.keras.layers.Dense(30, activation='relu'),\n",
        "  tf.keras.layers.Dense(30, activation='relu'),\n",
        "  tf.keras.layers.Dense(30, activation='linear')\n",
        "])"
      ],
      "metadata": {
        "id": "8_wRI9nKmGdY"
      },
      "execution_count": 68,
      "outputs": []
    },
    {
      "cell_type": "code",
      "source": [
        "non_linear_model.summary()"
      ],
      "metadata": {
        "colab": {
          "base_uri": "https://localhost:8080/"
        },
        "id": "gC61-h6NnM7l",
        "outputId": "6efb12b3-26c6-4ef7-a096-9b1269d74f53"
      },
      "execution_count": 69,
      "outputs": [
        {
          "output_type": "stream",
          "name": "stdout",
          "text": [
            "Model: \"sequential_3\"\n",
            "_________________________________________________________________\n",
            " Layer (type)                Output Shape              Param #   \n",
            "=================================================================\n",
            " dense_5 (Dense)             (None, 30)                270       \n",
            "                                                                 \n",
            " dense_6 (Dense)             (None, 30)                930       \n",
            "                                                                 \n",
            " dense_7 (Dense)             (None, 30)                930       \n",
            "                                                                 \n",
            "=================================================================\n",
            "Total params: 2,130\n",
            "Trainable params: 2,130\n",
            "Non-trainable params: 0\n",
            "_________________________________________________________________\n"
          ]
        }
      ]
    },
    {
      "cell_type": "code",
      "source": [
        "optimizer = tf.keras.optimizers.Adam(learning_rate=.1)"
      ],
      "metadata": {
        "id": "jG-Hop8onUXw"
      },
      "execution_count": 70,
      "outputs": []
    },
    {
      "cell_type": "code",
      "source": [
        "non_linear_model.compile(optimizer=optimizer, loss = weighted_mse)"
      ],
      "metadata": {
        "id": "f6GMt0wfnb3p"
      },
      "execution_count": 71,
      "outputs": []
    },
    {
      "cell_type": "code",
      "source": [
        "history = non_linear_model.fit(X_train_np, y_train_np, validation_split = 0.15, epochs=30)"
      ],
      "metadata": {
        "colab": {
          "base_uri": "https://localhost:8080/"
        },
        "id": "ufx03QSNnisE",
        "outputId": "a29d1ce3-9f36-496d-b85a-1eb9b496d7ec"
      },
      "execution_count": 72,
      "outputs": [
        {
          "output_type": "stream",
          "name": "stdout",
          "text": [
            "Epoch 1/30\n",
            "3/3 [==============================] - 1s 73ms/step - loss: 165.6166 - val_loss: 38.4874\n",
            "Epoch 2/30\n",
            "3/3 [==============================] - 0s 13ms/step - loss: 66.7604 - val_loss: 67.6152\n",
            "Epoch 3/30\n",
            "3/3 [==============================] - 0s 19ms/step - loss: 65.7826 - val_loss: 46.7910\n",
            "Epoch 4/30\n",
            "3/3 [==============================] - 0s 15ms/step - loss: 46.5696 - val_loss: 41.7272\n",
            "Epoch 5/30\n",
            "3/3 [==============================] - 0s 13ms/step - loss: 37.4401 - val_loss: 42.6751\n",
            "Epoch 6/30\n",
            "3/3 [==============================] - 0s 16ms/step - loss: 31.1105 - val_loss: 27.7198\n",
            "Epoch 7/30\n",
            "3/3 [==============================] - 0s 16ms/step - loss: 24.7856 - val_loss: 24.3405\n",
            "Epoch 8/30\n",
            "3/3 [==============================] - 0s 15ms/step - loss: 18.4941 - val_loss: 23.0045\n",
            "Epoch 9/30\n",
            "3/3 [==============================] - 0s 16ms/step - loss: 17.6501 - val_loss: 23.3359\n",
            "Epoch 10/30\n",
            "3/3 [==============================] - 0s 14ms/step - loss: 16.9093 - val_loss: 21.9955\n",
            "Epoch 11/30\n",
            "3/3 [==============================] - 0s 14ms/step - loss: 15.0282 - val_loss: 18.4332\n",
            "Epoch 12/30\n",
            "3/3 [==============================] - 0s 15ms/step - loss: 14.0185 - val_loss: 17.8362\n",
            "Epoch 13/30\n",
            "3/3 [==============================] - 0s 14ms/step - loss: 13.5700 - val_loss: 18.1804\n",
            "Epoch 14/30\n",
            "3/3 [==============================] - 0s 15ms/step - loss: 13.6401 - val_loss: 15.8165\n",
            "Epoch 15/30\n",
            "3/3 [==============================] - 0s 16ms/step - loss: 13.0371 - val_loss: 15.5541\n",
            "Epoch 16/30\n",
            "3/3 [==============================] - 0s 14ms/step - loss: 12.4452 - val_loss: 16.4213\n",
            "Epoch 17/30\n",
            "3/3 [==============================] - 0s 19ms/step - loss: 12.1409 - val_loss: 16.3432\n",
            "Epoch 18/30\n",
            "3/3 [==============================] - 0s 16ms/step - loss: 11.7239 - val_loss: 16.6548\n",
            "Epoch 19/30\n",
            "3/3 [==============================] - 0s 14ms/step - loss: 11.4113 - val_loss: 16.9503\n",
            "Epoch 20/30\n",
            "3/3 [==============================] - 0s 16ms/step - loss: 11.1495 - val_loss: 16.6310\n",
            "Epoch 21/30\n",
            "3/3 [==============================] - 0s 14ms/step - loss: 10.7830 - val_loss: 16.4170\n",
            "Epoch 22/30\n",
            "3/3 [==============================] - 0s 15ms/step - loss: 10.5797 - val_loss: 16.3732\n",
            "Epoch 23/30\n",
            "3/3 [==============================] - 0s 16ms/step - loss: 10.3736 - val_loss: 16.6669\n",
            "Epoch 24/30\n",
            "3/3 [==============================] - 0s 16ms/step - loss: 10.1749 - val_loss: 16.5769\n",
            "Epoch 25/30\n",
            "3/3 [==============================] - 0s 19ms/step - loss: 10.0594 - val_loss: 16.9579\n",
            "Epoch 26/30\n",
            "3/3 [==============================] - 0s 14ms/step - loss: 9.7894 - val_loss: 17.3133\n",
            "Epoch 27/30\n",
            "3/3 [==============================] - 0s 15ms/step - loss: 9.6368 - val_loss: 17.5403\n",
            "Epoch 28/30\n",
            "3/3 [==============================] - 0s 15ms/step - loss: 9.6185 - val_loss: 18.5106\n",
            "Epoch 29/30\n",
            "3/3 [==============================] - 0s 17ms/step - loss: 9.4670 - val_loss: 16.8189\n",
            "Epoch 30/30\n",
            "3/3 [==============================] - 0s 13ms/step - loss: 9.5055 - val_loss: 17.2873\n"
          ]
        }
      ]
    },
    {
      "cell_type": "code",
      "source": [
        "plt.plot(history.history['loss'])\n",
        "plt.plot(history.history['val_loss'])\n",
        "plt.title('model loss')\n",
        "plt.ylabel('loss')\n",
        "plt.xlabel('epoch')\n",
        "plt.legend(['train', 'val'], loc='upper left')\n",
        "plt.show()"
      ],
      "metadata": {
        "colab": {
          "base_uri": "https://localhost:8080/",
          "height": 295
        },
        "id": "0Jp70mL8n6m1",
        "outputId": "3c6f149c-1e9d-4e8c-eded-ce9e4507988f"
      },
      "execution_count": 73,
      "outputs": [
        {
          "output_type": "display_data",
          "data": {
            "text/plain": [
              "<Figure size 432x288 with 1 Axes>"
            ],
            "image/png": "[encoded data removed]"
          },
          "metadata": {
            "needs_background": "light"
          }
        }
      ]
    },
    {
      "cell_type": "code",
      "source": [
        "mse(non_linear_model.predict(X_test_np), y_test_np)"
      ],
      "metadata": {
        "colab": {
          "base_uri": "https://localhost:8080/"
        },
        "id": "4oM_vWCso77s",
        "outputId": "8485a39b-70b7-440b-ad63-d723576ea1fd"
      },
      "execution_count": 79,
      "outputs": [
        {
          "output_type": "stream",
          "name": "stdout",
          "text": [
            "1/1 [==============================] - 0s 26ms/step\n"
          ]
        },
        {
          "output_type": "execute_result",
          "data": {
            "text/plain": [
              "4.6997997509226614"
            ]
          },
          "metadata": {},
          "execution_count": 79
        }
      ]
    },
    {
      "cell_type": "markdown",
      "source": [
        "Linear model seems to work better."
      ],
      "metadata": {
        "id": "MJ0LLFEmp6IZ"
      }
    },
    {
      "cell_type": "markdown",
      "source": [
        "#6. Model Predictions"
      ],
      "metadata": {
        "id": "0eOMnwTClgUc"
      }
    },
    {
      "cell_type": "code",
      "source": [
        "def process_input(user_list):\n",
        "\n",
        "  OS_input, Budget_input, Size_input, Camera_Importance_input, Usage_input, Pay_More_For_Performance_input = user_list\n",
        "  processed_input = []\n",
        "\n",
        "  if OS_input == 'Must be Android':\n",
        "    processed_input += [1,0,0]\n",
        "  elif OS_input == 'Must be iPhone':\n",
        "    processed_input += [0,1,0]\n",
        "  else:\n",
        "    processed_input += [0,0,1]\n",
        "\n",
        "  processed_input += [Budget_categories[Budget_input]]\n",
        "  processed_input += [Size_categories[Size_input]]\n",
        "  processed_input += [Camera_Importance_categories[Camera_Importance_input]]\n",
        "  processed_input += [Usage_categories[Usage_input]]\n",
        "  processed_input += [Pay_More_For_Performance_categories[Pay_More_For_Performance_input]]\n",
        "\n",
        "  return processed_input\n"
      ],
      "metadata": {
        "id": "MtXcFeYeZyxS"
      },
      "execution_count": 74,
      "outputs": []
    },
    {
      "cell_type": "code",
      "source": [
        "phones = ['Apple iPhone 11',\n",
        " 'Apple iPhone 12',\n",
        " 'Apple iPhone 12 mini',\n",
        " 'Apple iPhone 13',\n",
        " 'Apple iPhone 13 mini',\n",
        " 'Apple iPhone 13 Pro',\n",
        " 'Apple iPhone 13 Pro Max',\n",
        " 'Apple iPhone SE (2022)',\n",
        " 'Google Pixel 5a',\n",
        " 'Google Pixel 6',\n",
        " 'Google Pixel 6 Pro',\n",
        " 'Motorola Edge (2021)',\n",
        " 'Motorola Edge 30 Pro',\n",
        " 'Motorola Moto G Stylus',\n",
        " 'Motorola Moto G100',\n",
        " 'OnePlus 8T',\n",
        " 'OnePlus 9',\n",
        " 'OnePlus 9 Pro',\n",
        " 'OnePlus Nord N200',\n",
        " 'Samsung Galaxy A13',\n",
        " 'Samsung Galaxy A32',\n",
        " 'Samsung Galaxy A42',\n",
        " 'Samsung Galaxy A53',\n",
        " 'Samsung Galaxy S20 FE',\n",
        " 'Samsung Galaxy S21 FE',\n",
        " 'Samsung Galaxy S22',\n",
        " 'Samsung Galaxy S22 Ultra',\n",
        " 'Samsung Galaxy S22+',\n",
        " 'Sony Xperia 1 III',\n",
        " 'Sony Xperia 5 III']"
      ],
      "metadata": {
        "id": "ErvlrFgHem3T"
      },
      "execution_count": 75,
      "outputs": []
    },
    {
      "cell_type": "code",
      "source": [
        "def predict_top_3_ranking(user_list, model_selection = 'linear'):\n",
        "\n",
        "  processed_input = process_input(user_list)\n",
        "  processed_input = np.reshape(np.array(processed_input).astype(float), (1,8))\n",
        "  \n",
        "  if model_selection == 'non_linear':\n",
        "    third_id, second_id, top_id = np.argsort(non_linear_model.predict(processed_input).flatten())[-3:]\n",
        "  else:\n",
        "    third_id, second_id, top_id = np.argsort(linear_model.predict(processed_input).flatten())[-3:]\n",
        "\n",
        "  return [phones[top_id], phones[second_id], phones[third_id]]"
      ],
      "metadata": {
        "id": "NpkUcDpBUH9u"
      },
      "execution_count": 76,
      "outputs": []
    },
    {
      "cell_type": "code",
      "source": [
        "output = predict_top_3_ranking(['Must be iPhone','$800','Medium','A little','4 - 8','I need speed'], 'linear')\n",
        "print(output)"
      ],
      "metadata": {
        "colab": {
          "base_uri": "https://localhost:8080/"
        },
        "id": "uZX9tQZDWXXc",
        "outputId": "c22d89ed-04b8-4fa9-f71f-7ed8fedfcb52"
      },
      "execution_count": 77,
      "outputs": [
        {
          "output_type": "stream",
          "name": "stdout",
          "text": [
            "1/1 [==============================] - 0s 50ms/step\n",
            "['Apple iPhone 13 Pro Max', 'Apple iPhone 13 mini', 'Apple iPhone 13']\n"
          ]
        }
      ]
    },
    {
      "cell_type": "code",
      "source": [
        "output = predict_top_3_ranking(['Must be Android','$800','Medium','A little','4 - 8','I need speed'], 'non_linear')\n",
        "print(output)"
      ],
      "metadata": {
        "colab": {
          "base_uri": "https://localhost:8080/"
        },
        "id": "UDPePHXSdeYj",
        "outputId": "53058771-16f5-4fe4-e503-f0be7ce920b5"
      },
      "execution_count": 80,
      "outputs": [
        {
          "output_type": "stream",
          "name": "stdout",
          "text": [
            "1/1 [==============================] - 0s 36ms/step\n",
            "['Google Pixel 6', 'Samsung Galaxy S22+', 'Sony Xperia 1 III']\n"
          ]
        }
      ]
    }
  ]
}