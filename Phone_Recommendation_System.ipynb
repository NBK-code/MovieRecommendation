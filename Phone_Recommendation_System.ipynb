{
  "nbformat": 4,
  "nbformat_minor": 0,
  "metadata": {
    "colab": {
      "name": "Phone_Recommendation_System.ipynb",
      "provenance": [],
      "collapsed_sections": [],
      "authorship_tag": "ABX9TyPdH7gL/giS8UVWzGMgWJW9",
      "include_colab_link": true
    },
    "kernelspec": {
      "name": "python3",
      "display_name": "Python 3"
    },
    "language_info": {
      "name": "python"
    }
  },
  "cells": [
    {
      "cell_type": "markdown",
      "metadata": {
        "id": "view-in-github",
        "colab_type": "text"
      },
      "source": [
        "<a href=\"https://colab.research.google.com/github/NBK-code/MovieRecommendation/blob/main/Phone_Recommendation_System.ipynb\" target=\"_parent\"><img src=\"https://colab.research.google.com/assets/colab-badge.svg\" alt=\"Open In Colab\"/></a>"
      ]
    },
    {
      "cell_type": "markdown",
      "source": [
        "#1. Import Neccessary Libraries"
      ],
      "metadata": {
        "id": "VCMf145WhA4J"
      }
    },
    {
      "cell_type": "code",
      "execution_count": 1,
      "metadata": {
        "id": "wkakAERPEaMF"
      },
      "outputs": [],
      "source": [
        "import pandas as pd\n",
        "import numpy as np\n",
        "import matplotlib.pyplot as plt\n",
        "import tensorflow as tf"
      ]
    },
    {
      "cell_type": "markdown",
      "source": [
        "#2. Import Data as Pandas Dataframes"
      ],
      "metadata": {
        "id": "IveYwW8qCFLW"
      }
    },
    {
      "cell_type": "code",
      "source": [
        "df_manual_rankings = pd.read_csv('/content/Manual_Rankings.csv')\n",
        "df_manual_scorings = pd.read_csv('/content/Manual_Scorings.csv')\n",
        "df_phone_data = pd.read_csv('/content/Phone_Data.csv')"
      ],
      "metadata": {
        "id": "SNnPAMtsCPbo"
      },
      "execution_count": 2,
      "outputs": []
    },
    {
      "cell_type": "markdown",
      "source": [
        "# 3. Exploratory Data Analysis"
      ],
      "metadata": {
        "id": "z4QNjGJ6CbYJ"
      }
    },
    {
      "cell_type": "code",
      "source": [
        "df_manual_scorings.columns"
      ],
      "metadata": {
        "colab": {
          "base_uri": "https://localhost:8080/"
        },
        "id": "ZyooDxUuC9aS",
        "outputId": "65e91d86-a1e9-46a1-fc23-cc2e78c71af4"
      },
      "execution_count": 3,
      "outputs": [
        {
          "output_type": "execute_result",
          "data": {
            "text/plain": [
              "Index(['OS', 'Budget', 'Size', 'Camera Importance', 'Usage',\n",
              "       'Pay More For Performance?', 'Apple iPhone 11', 'Apple iPhone 12',\n",
              "       'Apple iPhone 12 mini', 'Apple iPhone 13', 'Apple iPhone 13 mini',\n",
              "       'Apple iPhone 13 Pro', 'Apple iPhone 13 Pro Max',\n",
              "       'Apple iPhone SE (2022)', 'Google Pixel 5a', 'Google Pixel 6',\n",
              "       'Google Pixel 6 Pro', 'Motorola Edge (2021)', 'Motorola Edge 30 Pro',\n",
              "       'Motorola Moto G Stylus', 'Motorola Moto G100', 'OnePlus 8T',\n",
              "       'OnePlus 9', 'OnePlus 9 Pro', 'OnePlus Nord N200', 'Samsung Galaxy A13',\n",
              "       'Samsung Galaxy A32', 'Samsung Galaxy A42', 'Samsung Galaxy A53',\n",
              "       'Samsung Galaxy S20 FE', 'Samsung Galaxy S21 FE', 'Samsung Galaxy S22',\n",
              "       'Samsung Galaxy S22 Ultra', 'Samsung Galaxy S22+', 'Sony Xperia 1 III',\n",
              "       'Sony Xperia 5 III'],\n",
              "      dtype='object')"
            ]
          },
          "metadata": {},
          "execution_count": 3
        }
      ]
    },
    {
      "cell_type": "code",
      "source": [
        "df_phone_recommendations = df_manual_scorings[['Apple iPhone 11', 'Apple iPhone 12',\n",
        "       'Apple iPhone 12 mini', 'Apple iPhone 13', 'Apple iPhone 13 mini',\n",
        "       'Apple iPhone 13 Pro', 'Apple iPhone 13 Pro Max',\n",
        "       'Apple iPhone SE (2022)', 'Google Pixel 5a', 'Google Pixel 6',\n",
        "       'Google Pixel 6 Pro', 'Motorola Edge (2021)', 'Motorola Edge 30 Pro',\n",
        "       'Motorola Moto G Stylus', 'Motorola Moto G100', 'OnePlus 8T',\n",
        "       'OnePlus 9', 'OnePlus 9 Pro', 'OnePlus Nord N200', 'Samsung Galaxy A13',\n",
        "       'Samsung Galaxy A32', 'Samsung Galaxy A42', 'Samsung Galaxy A53',\n",
        "       'Samsung Galaxy S20 FE', 'Samsung Galaxy S21 FE', 'Samsung Galaxy S22',\n",
        "       'Samsung Galaxy S22 Ultra', 'Samsung Galaxy S22+', 'Sony Xperia 1 III',\n",
        "       'Sony Xperia 5 III']]"
      ],
      "metadata": {
        "id": "wtPcGM9lDH-U"
      },
      "execution_count": 4,
      "outputs": []
    },
    {
      "cell_type": "code",
      "source": [
        "df_phone_recommendations.head()"
      ],
      "metadata": {
        "colab": {
          "base_uri": "https://localhost:8080/",
          "height": 352
        },
        "id": "JVd4RARrDU38",
        "outputId": "bf173147-aa29-4809-c08c-489dd16dab2b"
      },
      "execution_count": 5,
      "outputs": [
        {
          "output_type": "execute_result",
          "data": {
            "text/plain": [
              "   Apple iPhone 11  Apple iPhone 12  Apple iPhone 12 mini  Apple iPhone 13  \\\n",
              "0                2                0                     0                0   \n",
              "1                0                0                     0                0   \n",
              "2                0                3                     2                4   \n",
              "3                2                0                     0                0   \n",
              "4                0                0                     0                0   \n",
              "\n",
              "   Apple iPhone 13 mini  Apple iPhone 13 Pro  Apple iPhone 13 Pro Max  \\\n",
              "0                     0                    0                        0   \n",
              "1                     0                    0                        3   \n",
              "2                     3                    4                        4   \n",
              "3                     0                    0                        0   \n",
              "4                     0                    0                        3   \n",
              "\n",
              "   Apple iPhone SE (2022)  Google Pixel 5a  Google Pixel 6  ...  \\\n",
              "0                       0                5               4  ...   \n",
              "1                       0                0               1  ...   \n",
              "2                       0                0               3  ...   \n",
              "3                       0                5               4  ...   \n",
              "4                       0                0               1  ...   \n",
              "\n",
              "   Samsung Galaxy A32  Samsung Galaxy A42  Samsung Galaxy A53  \\\n",
              "0                   0                   1                   2   \n",
              "1                   0                   0                   0   \n",
              "2                   0                   0                   0   \n",
              "3                   0                   1                   2   \n",
              "4                   0                   0                   0   \n",
              "\n",
              "   Samsung Galaxy S20 FE  Samsung Galaxy S21 FE  Samsung Galaxy S22  \\\n",
              "0                      3                      3                   0   \n",
              "1                      1                      0                   0   \n",
              "2                      3                      4                   3   \n",
              "3                      3                      3                   0   \n",
              "4                      1                      0                   0   \n",
              "\n",
              "   Samsung Galaxy S22 Ultra  Samsung Galaxy S22+  Sony Xperia 1 III  \\\n",
              "0                         0                    0                  0   \n",
              "1                         4                    2                  0   \n",
              "2                         4                    4                  0   \n",
              "3                         0                    0                  0   \n",
              "4                         4                    2                  0   \n",
              "\n",
              "   Sony Xperia 5 III  \n",
              "0                  0  \n",
              "1                  0  \n",
              "2                  0  \n",
              "3                  0  \n",
              "4                  0  \n",
              "\n",
              "[5 rows x 30 columns]"
            ],
            "text/html": [
              "\n",
              "  <div id=\"df-7be73b26-92da-44c8-b24c-e8a69ba04d19\">\n",
              "    <div class=\"colab-df-container\">\n",
              "      <div>\n",
              "<style scoped>\n",
              "    .dataframe tbody tr th:only-of-type {\n",
              "        vertical-align: middle;\n",
              "    }\n",
              "\n",
              "    .dataframe tbody tr th {\n",
              "        vertical-align: top;\n",
              "    }\n",
              "\n",
              "    .dataframe thead th {\n",
              "        text-align: right;\n",
              "    }\n",
              "</style>\n",
              "<table border=\"1\" class=\"dataframe\">\n",
              "  <thead>\n",
              "    <tr style=\"text-align: right;\">\n",
              "      <th></th>\n",
              "      <th>Apple iPhone 11</th>\n",
              "      <th>Apple iPhone 12</th>\n",
              "      <th>Apple iPhone 12 mini</th>\n",
              "      <th>Apple iPhone 13</th>\n",
              "      <th>Apple iPhone 13 mini</th>\n",
              "      <th>Apple iPhone 13 Pro</th>\n",
              "      <th>Apple iPhone 13 Pro Max</th>\n",
              "      <th>Apple iPhone SE (2022)</th>\n",
              "      <th>Google Pixel 5a</th>\n",
              "      <th>Google Pixel 6</th>\n",
              "      <th>...</th>\n",
              "      <th>Samsung Galaxy A32</th>\n",
              "      <th>Samsung Galaxy A42</th>\n",
              "      <th>Samsung Galaxy A53</th>\n",
              "      <th>Samsung Galaxy S20 FE</th>\n",
              "      <th>Samsung Galaxy S21 FE</th>\n",
              "      <th>Samsung Galaxy S22</th>\n",
              "      <th>Samsung Galaxy S22 Ultra</th>\n",
              "      <th>Samsung Galaxy S22+</th>\n",
              "      <th>Sony Xperia 1 III</th>\n",
              "      <th>Sony Xperia 5 III</th>\n",
              "    </tr>\n",
              "  </thead>\n",
              "  <tbody>\n",
              "    <tr>\n",
              "      <th>0</th>\n",
              "      <td>2</td>\n",
              "      <td>0</td>\n",
              "      <td>0</td>\n",
              "      <td>0</td>\n",
              "      <td>0</td>\n",
              "      <td>0</td>\n",
              "      <td>0</td>\n",
              "      <td>0</td>\n",
              "      <td>5</td>\n",
              "      <td>4</td>\n",
              "      <td>...</td>\n",
              "      <td>0</td>\n",
              "      <td>1</td>\n",
              "      <td>2</td>\n",
              "      <td>3</td>\n",
              "      <td>3</td>\n",
              "      <td>0</td>\n",
              "      <td>0</td>\n",
              "      <td>0</td>\n",
              "      <td>0</td>\n",
              "      <td>0</td>\n",
              "    </tr>\n",
              "    <tr>\n",
              "      <th>1</th>\n",
              "      <td>0</td>\n",
              "      <td>0</td>\n",
              "      <td>0</td>\n",
              "      <td>0</td>\n",
              "      <td>0</td>\n",
              "      <td>0</td>\n",
              "      <td>3</td>\n",
              "      <td>0</td>\n",
              "      <td>0</td>\n",
              "      <td>1</td>\n",
              "      <td>...</td>\n",
              "      <td>0</td>\n",
              "      <td>0</td>\n",
              "      <td>0</td>\n",
              "      <td>1</td>\n",
              "      <td>0</td>\n",
              "      <td>0</td>\n",
              "      <td>4</td>\n",
              "      <td>2</td>\n",
              "      <td>0</td>\n",
              "      <td>0</td>\n",
              "    </tr>\n",
              "    <tr>\n",
              "      <th>2</th>\n",
              "      <td>0</td>\n",
              "      <td>3</td>\n",
              "      <td>2</td>\n",
              "      <td>4</td>\n",
              "      <td>3</td>\n",
              "      <td>4</td>\n",
              "      <td>4</td>\n",
              "      <td>0</td>\n",
              "      <td>0</td>\n",
              "      <td>3</td>\n",
              "      <td>...</td>\n",
              "      <td>0</td>\n",
              "      <td>0</td>\n",
              "      <td>0</td>\n",
              "      <td>3</td>\n",
              "      <td>4</td>\n",
              "      <td>3</td>\n",
              "      <td>4</td>\n",
              "      <td>4</td>\n",
              "      <td>0</td>\n",
              "      <td>0</td>\n",
              "    </tr>\n",
              "    <tr>\n",
              "      <th>3</th>\n",
              "      <td>2</td>\n",
              "      <td>0</td>\n",
              "      <td>0</td>\n",
              "      <td>0</td>\n",
              "      <td>0</td>\n",
              "      <td>0</td>\n",
              "      <td>0</td>\n",
              "      <td>0</td>\n",
              "      <td>5</td>\n",
              "      <td>4</td>\n",
              "      <td>...</td>\n",
              "      <td>0</td>\n",
              "      <td>1</td>\n",
              "      <td>2</td>\n",
              "      <td>3</td>\n",
              "      <td>3</td>\n",
              "      <td>0</td>\n",
              "      <td>0</td>\n",
              "      <td>0</td>\n",
              "      <td>0</td>\n",
              "      <td>0</td>\n",
              "    </tr>\n",
              "    <tr>\n",
              "      <th>4</th>\n",
              "      <td>0</td>\n",
              "      <td>0</td>\n",
              "      <td>0</td>\n",
              "      <td>0</td>\n",
              "      <td>0</td>\n",
              "      <td>0</td>\n",
              "      <td>3</td>\n",
              "      <td>0</td>\n",
              "      <td>0</td>\n",
              "      <td>1</td>\n",
              "      <td>...</td>\n",
              "      <td>0</td>\n",
              "      <td>0</td>\n",
              "      <td>0</td>\n",
              "      <td>1</td>\n",
              "      <td>0</td>\n",
              "      <td>0</td>\n",
              "      <td>4</td>\n",
              "      <td>2</td>\n",
              "      <td>0</td>\n",
              "      <td>0</td>\n",
              "    </tr>\n",
              "  </tbody>\n",
              "</table>\n",
              "<p>5 rows × 30 columns</p>\n",
              "</div>\n",
              "      <button class=\"colab-df-convert\" onclick=\"convertToInteractive('df-7be73b26-92da-44c8-b24c-e8a69ba04d19')\"\n",
              "              title=\"Convert this dataframe to an interactive table.\"\n",
              "              style=\"display:none;\">\n",
              "        \n",
              "  <svg xmlns=\"http://www.w3.org/2000/svg\" height=\"24px\"viewBox=\"0 0 24 24\"\n",
              "       width=\"24px\">\n",
              "    <path d=\"M0 0h24v24H0V0z\" fill=\"none\"/>\n",
              "    <path d=\"M18.56 5.44l.94 2.06.94-2.06 2.06-.94-2.06-.94-.94-2.06-.94 2.06-2.06.94zm-11 1L8.5 8.5l.94-2.06 2.06-.94-2.06-.94L8.5 2.5l-.94 2.06-2.06.94zm10 10l.94 2.06.94-2.06 2.06-.94-2.06-.94-.94-2.06-.94 2.06-2.06.94z\"/><path d=\"M17.41 7.96l-1.37-1.37c-.4-.4-.92-.59-1.43-.59-.52 0-1.04.2-1.43.59L10.3 9.45l-7.72 7.72c-.78.78-.78 2.05 0 2.83L4 21.41c.39.39.9.59 1.41.59.51 0 1.02-.2 1.41-.59l7.78-7.78 2.81-2.81c.8-.78.8-2.07 0-2.86zM5.41 20L4 18.59l7.72-7.72 1.47 1.35L5.41 20z\"/>\n",
              "  </svg>\n",
              "      </button>\n",
              "      \n",
              "  <style>\n",
              "    .colab-df-container {\n",
              "      display:flex;\n",
              "      flex-wrap:wrap;\n",
              "      gap: 12px;\n",
              "    }\n",
              "\n",
              "    .colab-df-convert {\n",
              "      background-color: #E8F0FE;\n",
              "      border: none;\n",
              "      border-radius: 50%;\n",
              "      cursor: pointer;\n",
              "      display: none;\n",
              "      fill: #1967D2;\n",
              "      height: 32px;\n",
              "      padding: 0 0 0 0;\n",
              "      width: 32px;\n",
              "    }\n",
              "\n",
              "    .colab-df-convert:hover {\n",
              "      background-color: #E2EBFA;\n",
              "      box-shadow: 0px 1px 2px rgba(60, 64, 67, 0.3), 0px 1px 3px 1px rgba(60, 64, 67, 0.15);\n",
              "      fill: #174EA6;\n",
              "    }\n",
              "\n",
              "    [theme=dark] .colab-df-convert {\n",
              "      background-color: #3B4455;\n",
              "      fill: #D2E3FC;\n",
              "    }\n",
              "\n",
              "    [theme=dark] .colab-df-convert:hover {\n",
              "      background-color: #434B5C;\n",
              "      box-shadow: 0px 1px 3px 1px rgba(0, 0, 0, 0.15);\n",
              "      filter: drop-shadow(0px 1px 2px rgba(0, 0, 0, 0.3));\n",
              "      fill: #FFFFFF;\n",
              "    }\n",
              "  </style>\n",
              "\n",
              "      <script>\n",
              "        const buttonEl =\n",
              "          document.querySelector('#df-7be73b26-92da-44c8-b24c-e8a69ba04d19 button.colab-df-convert');\n",
              "        buttonEl.style.display =\n",
              "          google.colab.kernel.accessAllowed ? 'block' : 'none';\n",
              "\n",
              "        async function convertToInteractive(key) {\n",
              "          const element = document.querySelector('#df-7be73b26-92da-44c8-b24c-e8a69ba04d19');\n",
              "          const dataTable =\n",
              "            await google.colab.kernel.invokeFunction('convertToInteractive',\n",
              "                                                     [key], {});\n",
              "          if (!dataTable) return;\n",
              "\n",
              "          const docLinkHtml = 'Like what you see? Visit the ' +\n",
              "            '<a target=\"_blank\" href=https://colab.research.google.com/notebooks/data_table.ipynb>data table notebook</a>'\n",
              "            + ' to learn more about interactive tables.';\n",
              "          element.innerHTML = '';\n",
              "          dataTable['output_type'] = 'display_data';\n",
              "          await google.colab.output.renderOutput(dataTable, element);\n",
              "          const docLink = document.createElement('div');\n",
              "          docLink.innerHTML = docLinkHtml;\n",
              "          element.appendChild(docLink);\n",
              "        }\n",
              "      </script>\n",
              "    </div>\n",
              "  </div>\n",
              "  "
            ]
          },
          "metadata": {},
          "execution_count": 5
        }
      ]
    },
    {
      "cell_type": "code",
      "source": [
        "height = list(df_phone_recommendations.sum(axis = 0))"
      ],
      "metadata": {
        "id": "9Nr1SgrDF21Q"
      },
      "execution_count": 6,
      "outputs": []
    },
    {
      "cell_type": "code",
      "source": [
        "plt.figure(figsize=(20,6))\n",
        "plt.bar(['Apple iPhone 11', 'Apple iPhone 12',\n",
        "       'Apple iPhone 12 mini', 'Apple iPhone 13', 'Apple iPhone 13 mini',\n",
        "       'Apple iPhone 13 Pro', 'Apple iPhone 13 Pro Max',\n",
        "       'Apple iPhone SE (2022)', 'Google Pixel 5a', 'Google Pixel 6',\n",
        "       'Google Pixel 6 Pro', 'Motorola Edge (2021)', 'Motorola Edge 30 Pro',\n",
        "       'Motorola Moto G Stylus', 'Motorola Moto G100', 'OnePlus 8T',\n",
        "       'OnePlus 9', 'OnePlus 9 Pro', 'OnePlus Nord N200', 'Samsung Galaxy A13',\n",
        "       'Samsung Galaxy A32', 'Samsung Galaxy A42', 'Samsung Galaxy A53',\n",
        "       'Samsung Galaxy S20 FE', 'Samsung Galaxy S21 FE', 'Samsung Galaxy S22',\n",
        "       'Samsung Galaxy S22 Ultra', 'Samsung Galaxy S22+', 'Sony Xperia 1 III',\n",
        "       'Sony Xperia 5 III'], height, width=0.8)\n",
        "plt.xticks(rotation=90)\n",
        "plt.title(label=\"Total score for each phone\",\n",
        "          fontsize=30,\n",
        "          color=\"red\")\n",
        "plt.show()"
      ],
      "metadata": {
        "colab": {
          "base_uri": "https://localhost:8080/",
          "height": 527
        },
        "id": "9KhAcygyF9It",
        "outputId": "c58a213f-c1c6-45cf-e5b8-1fb0dbb42569"
      },
      "execution_count": 7,
      "outputs": [
        {
          "output_type": "display_data",
          "data": {
            "text/plain": [
              "<Figure size 1440x432 with 1 Axes>"
            ],
            "image/png": "[encoded data removed]"
          },
          "metadata": {
            "needs_background": "light"
          }
        }
      ]
    },
    {
      "cell_type": "markdown",
      "source": [
        "The most rated phone brands are Apple, Samsung and One Plus. Within the Motorola family only Moto G100 is doing well."
      ],
      "metadata": {
        "id": "yhZHJPLdH5TD"
      }
    },
    {
      "cell_type": "markdown",
      "source": [
        "#4. Data Preprocessing"
      ],
      "metadata": {
        "id": "XvGIEsMUhUjt"
      }
    },
    {
      "cell_type": "markdown",
      "source": [
        "###4.1. Explore the data"
      ],
      "metadata": {
        "id": "Y5csKQwohgtI"
      }
    },
    {
      "cell_type": "code",
      "source": [
        "df_manual_scorings.head()"
      ],
      "metadata": {
        "colab": {
          "base_uri": "https://localhost:8080/",
          "height": 438
        },
        "id": "9Zp8-oJGEmoj",
        "outputId": "8b0c87a5-ad6b-4371-e5f5-ca7c5e32e5cc"
      },
      "execution_count": 8,
      "outputs": [
        {
          "output_type": "execute_result",
          "data": {
            "text/plain": [
              "              OS    Budget           Size Camera Importance     Usage  \\\n",
              "0  No Preference       NaN  No preference             A lot     0 - 4   \n",
              "1  No Preference       NaN          Large          A little     4 - 8   \n",
              "2  No Preference       NaN            NaN             A lot     4 - 8   \n",
              "3  No Preference  Not sure  No preference             A lot  Not sure   \n",
              "4  No Preference    $1000+          Large               NaN     0 - 4   \n",
              "\n",
              "  Pay More For Performance?  Apple iPhone 11  Apple iPhone 12  \\\n",
              "0                        No                2                0   \n",
              "1                       NaN                0                0   \n",
              "2                       Yes                0                3   \n",
              "3                        No                2                0   \n",
              "4                        No                0                0   \n",
              "\n",
              "   Apple iPhone 12 mini  Apple iPhone 13  ...  Samsung Galaxy A32  \\\n",
              "0                     0                0  ...                   0   \n",
              "1                     0                0  ...                   0   \n",
              "2                     2                4  ...                   0   \n",
              "3                     0                0  ...                   0   \n",
              "4                     0                0  ...                   0   \n",
              "\n",
              "   Samsung Galaxy A42  Samsung Galaxy A53  Samsung Galaxy S20 FE  \\\n",
              "0                   1                   2                      3   \n",
              "1                   0                   0                      1   \n",
              "2                   0                   0                      3   \n",
              "3                   1                   2                      3   \n",
              "4                   0                   0                      1   \n",
              "\n",
              "   Samsung Galaxy S21 FE  Samsung Galaxy S22  Samsung Galaxy S22 Ultra  \\\n",
              "0                      3                   0                         0   \n",
              "1                      0                   0                         4   \n",
              "2                      4                   3                         4   \n",
              "3                      3                   0                         0   \n",
              "4                      0                   0                         4   \n",
              "\n",
              "   Samsung Galaxy S22+  Sony Xperia 1 III  Sony Xperia 5 III  \n",
              "0                    0                  0                  0  \n",
              "1                    2                  0                  0  \n",
              "2                    4                  0                  0  \n",
              "3                    0                  0                  0  \n",
              "4                    2                  0                  0  \n",
              "\n",
              "[5 rows x 36 columns]"
            ],
            "text/html": [
              "\n",
              "  <div id=\"df-ad96ca17-ca2e-4ed4-9518-43c9c8b70935\">\n",
              "    <div class=\"colab-df-container\">\n",
              "      <div>\n",
              "<style scoped>\n",
              "    .dataframe tbody tr th:only-of-type {\n",
              "        vertical-align: middle;\n",
              "    }\n",
              "\n",
              "    .dataframe tbody tr th {\n",
              "        vertical-align: top;\n",
              "    }\n",
              "\n",
              "    .dataframe thead th {\n",
              "        text-align: right;\n",
              "    }\n",
              "</style>\n",
              "<table border=\"1\" class=\"dataframe\">\n",
              "  <thead>\n",
              "    <tr style=\"text-align: right;\">\n",
              "      <th></th>\n",
              "      <th>OS</th>\n",
              "      <th>Budget</th>\n",
              "      <th>Size</th>\n",
              "      <th>Camera Importance</th>\n",
              "      <th>Usage</th>\n",
              "      <th>Pay More For Performance?</th>\n",
              "      <th>Apple iPhone 11</th>\n",
              "      <th>Apple iPhone 12</th>\n",
              "      <th>Apple iPhone 12 mini</th>\n",
              "      <th>Apple iPhone 13</th>\n",
              "      <th>...</th>\n",
              "      <th>Samsung Galaxy A32</th>\n",
              "      <th>Samsung Galaxy A42</th>\n",
              "      <th>Samsung Galaxy A53</th>\n",
              "      <th>Samsung Galaxy S20 FE</th>\n",
              "      <th>Samsung Galaxy S21 FE</th>\n",
              "      <th>Samsung Galaxy S22</th>\n",
              "      <th>Samsung Galaxy S22 Ultra</th>\n",
              "      <th>Samsung Galaxy S22+</th>\n",
              "      <th>Sony Xperia 1 III</th>\n",
              "      <th>Sony Xperia 5 III</th>\n",
              "    </tr>\n",
              "  </thead>\n",
              "  <tbody>\n",
              "    <tr>\n",
              "      <th>0</th>\n",
              "      <td>No Preference</td>\n",
              "      <td>NaN</td>\n",
              "      <td>No preference</td>\n",
              "      <td>A lot</td>\n",
              "      <td>0 - 4</td>\n",
              "      <td>No</td>\n",
              "      <td>2</td>\n",
              "      <td>0</td>\n",
              "      <td>0</td>\n",
              "      <td>0</td>\n",
              "      <td>...</td>\n",
              "      <td>0</td>\n",
              "      <td>1</td>\n",
              "      <td>2</td>\n",
              "      <td>3</td>\n",
              "      <td>3</td>\n",
              "      <td>0</td>\n",
              "      <td>0</td>\n",
              "      <td>0</td>\n",
              "      <td>0</td>\n",
              "      <td>0</td>\n",
              "    </tr>\n",
              "    <tr>\n",
              "      <th>1</th>\n",
              "      <td>No Preference</td>\n",
              "      <td>NaN</td>\n",
              "      <td>Large</td>\n",
              "      <td>A little</td>\n",
              "      <td>4 - 8</td>\n",
              "      <td>NaN</td>\n",
              "      <td>0</td>\n",
              "      <td>0</td>\n",
              "      <td>0</td>\n",
              "      <td>0</td>\n",
              "      <td>...</td>\n",
              "      <td>0</td>\n",
              "      <td>0</td>\n",
              "      <td>0</td>\n",
              "      <td>1</td>\n",
              "      <td>0</td>\n",
              "      <td>0</td>\n",
              "      <td>4</td>\n",
              "      <td>2</td>\n",
              "      <td>0</td>\n",
              "      <td>0</td>\n",
              "    </tr>\n",
              "    <tr>\n",
              "      <th>2</th>\n",
              "      <td>No Preference</td>\n",
              "      <td>NaN</td>\n",
              "      <td>NaN</td>\n",
              "      <td>A lot</td>\n",
              "      <td>4 - 8</td>\n",
              "      <td>Yes</td>\n",
              "      <td>0</td>\n",
              "      <td>3</td>\n",
              "      <td>2</td>\n",
              "      <td>4</td>\n",
              "      <td>...</td>\n",
              "      <td>0</td>\n",
              "      <td>0</td>\n",
              "      <td>0</td>\n",
              "      <td>3</td>\n",
              "      <td>4</td>\n",
              "      <td>3</td>\n",
              "      <td>4</td>\n",
              "      <td>4</td>\n",
              "      <td>0</td>\n",
              "      <td>0</td>\n",
              "    </tr>\n",
              "    <tr>\n",
              "      <th>3</th>\n",
              "      <td>No Preference</td>\n",
              "      <td>Not sure</td>\n",
              "      <td>No preference</td>\n",
              "      <td>A lot</td>\n",
              "      <td>Not sure</td>\n",
              "      <td>No</td>\n",
              "      <td>2</td>\n",
              "      <td>0</td>\n",
              "      <td>0</td>\n",
              "      <td>0</td>\n",
              "      <td>...</td>\n",
              "      <td>0</td>\n",
              "      <td>1</td>\n",
              "      <td>2</td>\n",
              "      <td>3</td>\n",
              "      <td>3</td>\n",
              "      <td>0</td>\n",
              "      <td>0</td>\n",
              "      <td>0</td>\n",
              "      <td>0</td>\n",
              "      <td>0</td>\n",
              "    </tr>\n",
              "    <tr>\n",
              "      <th>4</th>\n",
              "      <td>No Preference</td>\n",
              "      <td>$1000+</td>\n",
              "      <td>Large</td>\n",
              "      <td>NaN</td>\n",
              "      <td>0 - 4</td>\n",
              "      <td>No</td>\n",
              "      <td>0</td>\n",
              "      <td>0</td>\n",
              "      <td>0</td>\n",
              "      <td>0</td>\n",
              "      <td>...</td>\n",
              "      <td>0</td>\n",
              "      <td>0</td>\n",
              "      <td>0</td>\n",
              "      <td>1</td>\n",
              "      <td>0</td>\n",
              "      <td>0</td>\n",
              "      <td>4</td>\n",
              "      <td>2</td>\n",
              "      <td>0</td>\n",
              "      <td>0</td>\n",
              "    </tr>\n",
              "  </tbody>\n",
              "</table>\n",
              "<p>5 rows × 36 columns</p>\n",
              "</div>\n",
              "      <button class=\"colab-df-convert\" onclick=\"convertToInteractive('df-ad96ca17-ca2e-4ed4-9518-43c9c8b70935')\"\n",
              "              title=\"Convert this dataframe to an interactive table.\"\n",
              "              style=\"display:none;\">\n",
              "        \n",
              "  <svg xmlns=\"http://www.w3.org/2000/svg\" height=\"24px\"viewBox=\"0 0 24 24\"\n",
              "       width=\"24px\">\n",
              "    <path d=\"M0 0h24v24H0V0z\" fill=\"none\"/>\n",
              "    <path d=\"M18.56 5.44l.94 2.06.94-2.06 2.06-.94-2.06-.94-.94-2.06-.94 2.06-2.06.94zm-11 1L8.5 8.5l.94-2.06 2.06-.94-2.06-.94L8.5 2.5l-.94 2.06-2.06.94zm10 10l.94 2.06.94-2.06 2.06-.94-2.06-.94-.94-2.06-.94 2.06-2.06.94z\"/><path d=\"M17.41 7.96l-1.37-1.37c-.4-.4-.92-.59-1.43-.59-.52 0-1.04.2-1.43.59L10.3 9.45l-7.72 7.72c-.78.78-.78 2.05 0 2.83L4 21.41c.39.39.9.59 1.41.59.51 0 1.02-.2 1.41-.59l7.78-7.78 2.81-2.81c.8-.78.8-2.07 0-2.86zM5.41 20L4 18.59l7.72-7.72 1.47 1.35L5.41 20z\"/>\n",
              "  </svg>\n",
              "      </button>\n",
              "      \n",
              "  <style>\n",
              "    .colab-df-container {\n",
              "      display:flex;\n",
              "      flex-wrap:wrap;\n",
              "      gap: 12px;\n",
              "    }\n",
              "\n",
              "    .colab-df-convert {\n",
              "      background-color: #E8F0FE;\n",
              "      border: none;\n",
              "      border-radius: 50%;\n",
              "      cursor: pointer;\n",
              "      display: none;\n",
              "      fill: #1967D2;\n",
              "      height: 32px;\n",
              "      padding: 0 0 0 0;\n",
              "      width: 32px;\n",
              "    }\n",
              "\n",
              "    .colab-df-convert:hover {\n",
              "      background-color: #E2EBFA;\n",
              "      box-shadow: 0px 1px 2px rgba(60, 64, 67, 0.3), 0px 1px 3px 1px rgba(60, 64, 67, 0.15);\n",
              "      fill: #174EA6;\n",
              "    }\n",
              "\n",
              "    [theme=dark] .colab-df-convert {\n",
              "      background-color: #3B4455;\n",
              "      fill: #D2E3FC;\n",
              "    }\n",
              "\n",
              "    [theme=dark] .colab-df-convert:hover {\n",
              "      background-color: #434B5C;\n",
              "      box-shadow: 0px 1px 3px 1px rgba(0, 0, 0, 0.15);\n",
              "      filter: drop-shadow(0px 1px 2px rgba(0, 0, 0, 0.3));\n",
              "      fill: #FFFFFF;\n",
              "    }\n",
              "  </style>\n",
              "\n",
              "      <script>\n",
              "        const buttonEl =\n",
              "          document.querySelector('#df-ad96ca17-ca2e-4ed4-9518-43c9c8b70935 button.colab-df-convert');\n",
              "        buttonEl.style.display =\n",
              "          google.colab.kernel.accessAllowed ? 'block' : 'none';\n",
              "\n",
              "        async function convertToInteractive(key) {\n",
              "          const element = document.querySelector('#df-ad96ca17-ca2e-4ed4-9518-43c9c8b70935');\n",
              "          const dataTable =\n",
              "            await google.colab.kernel.invokeFunction('convertToInteractive',\n",
              "                                                     [key], {});\n",
              "          if (!dataTable) return;\n",
              "\n",
              "          const docLinkHtml = 'Like what you see? Visit the ' +\n",
              "            '<a target=\"_blank\" href=https://colab.research.google.com/notebooks/data_table.ipynb>data table notebook</a>'\n",
              "            + ' to learn more about interactive tables.';\n",
              "          element.innerHTML = '';\n",
              "          dataTable['output_type'] = 'display_data';\n",
              "          await google.colab.output.renderOutput(dataTable, element);\n",
              "          const docLink = document.createElement('div');\n",
              "          docLink.innerHTML = docLinkHtml;\n",
              "          element.appendChild(docLink);\n",
              "        }\n",
              "      </script>\n",
              "    </div>\n",
              "  </div>\n",
              "  "
            ]
          },
          "metadata": {},
          "execution_count": 8
        }
      ]
    },
    {
      "cell_type": "code",
      "source": [
        "df_manual_scorings.shape"
      ],
      "metadata": {
        "colab": {
          "base_uri": "https://localhost:8080/"
        },
        "id": "HU0kJrqmFZK3",
        "outputId": "7f6024d6-6106-4c56-8668-9ee049d4d99b"
      },
      "execution_count": 9,
      "outputs": [
        {
          "output_type": "execute_result",
          "data": {
            "text/plain": [
              "(100, 36)"
            ]
          },
          "metadata": {},
          "execution_count": 9
        }
      ]
    },
    {
      "cell_type": "markdown",
      "source": [
        "### 4.2. Check for missing values"
      ],
      "metadata": {
        "id": "D0hOTOJshwbm"
      }
    },
    {
      "cell_type": "code",
      "source": [
        "df_manual_scorings['OS'].value_counts(dropna=False)"
      ],
      "metadata": {
        "colab": {
          "base_uri": "https://localhost:8080/"
        },
        "id": "uqsZIPLNFuy9",
        "outputId": "871c4d80-b123-4c5d-87fe-cc4e364e0c52"
      },
      "execution_count": 10,
      "outputs": [
        {
          "output_type": "execute_result",
          "data": {
            "text/plain": [
              "Must be Android    36\n",
              "No Preference      35\n",
              "Must be iPhone     29\n",
              "Name: OS, dtype: int64"
            ]
          },
          "metadata": {},
          "execution_count": 10
        }
      ]
    },
    {
      "cell_type": "code",
      "source": [
        "df_manual_scorings['Budget'].value_counts(dropna=False)"
      ],
      "metadata": {
        "colab": {
          "base_uri": "https://localhost:8080/"
        },
        "id": "ANimg19BGfFG",
        "outputId": "09142d2c-436e-4d62-826e-278c4d7349e5"
      },
      "execution_count": 11,
      "outputs": [
        {
          "output_type": "execute_result",
          "data": {
            "text/plain": [
              "$800        22\n",
              "$1000+      19\n",
              "$600        18\n",
              "$400        17\n",
              "NaN         14\n",
              "Not sure    10\n",
              "Name: Budget, dtype: int64"
            ]
          },
          "metadata": {},
          "execution_count": 11
        }
      ]
    },
    {
      "cell_type": "code",
      "source": [
        "df_manual_scorings['Size'].value_counts(dropna=False)"
      ],
      "metadata": {
        "colab": {
          "base_uri": "https://localhost:8080/"
        },
        "id": "Rq4ZL7oaGxbl",
        "outputId": "a075e4a1-eb44-4a19-e84f-8c80ef5fdbb7"
      },
      "execution_count": 12,
      "outputs": [
        {
          "output_type": "execute_result",
          "data": {
            "text/plain": [
              "NaN              27\n",
              "No preference    20\n",
              "Small            19\n",
              "Medium           19\n",
              "Large            15\n",
              "Name: Size, dtype: int64"
            ]
          },
          "metadata": {},
          "execution_count": 12
        }
      ]
    },
    {
      "cell_type": "code",
      "source": [
        "df_manual_scorings['Camera Importance'].value_counts(dropna=False)"
      ],
      "metadata": {
        "colab": {
          "base_uri": "https://localhost:8080/"
        },
        "id": "hz6kJqmhG4fO",
        "outputId": "8487a495-10c9-43f8-c07d-56997029576a"
      },
      "execution_count": 13,
      "outputs": [
        {
          "output_type": "execute_result",
          "data": {
            "text/plain": [
              "A lot       24\n",
              "NaN         23\n",
              "A little    19\n",
              "A ton       19\n",
              "Somewhat    15\n",
              "Name: Camera Importance, dtype: int64"
            ]
          },
          "metadata": {},
          "execution_count": 13
        }
      ]
    },
    {
      "cell_type": "code",
      "source": [
        "df_manual_scorings['Usage'].value_counts(dropna=False)"
      ],
      "metadata": {
        "colab": {
          "base_uri": "https://localhost:8080/"
        },
        "id": "KnUQ5usUHGTJ",
        "outputId": "02aa6d85-c720-424b-8bbd-24f2ab07360c"
      },
      "execution_count": 14,
      "outputs": [
        {
          "output_type": "execute_result",
          "data": {
            "text/plain": [
              "Not sure    24\n",
              "4 - 8       23\n",
              "0 - 4       22\n",
              "NaN         19\n",
              "8+          12\n",
              "Name: Usage, dtype: int64"
            ]
          },
          "metadata": {},
          "execution_count": 14
        }
      ]
    },
    {
      "cell_type": "code",
      "source": [
        "df_manual_scorings['Pay More For Performance?'].value_counts(dropna=False)"
      ],
      "metadata": {
        "colab": {
          "base_uri": "https://localhost:8080/"
        },
        "id": "jYpQkYoOHRAH",
        "outputId": "a5eafca3-99d1-4d41-9c2d-1755b2e4ef2e"
      },
      "execution_count": 15,
      "outputs": [
        {
          "output_type": "execute_result",
          "data": {
            "text/plain": [
              "A little        24\n",
              "No              20\n",
              "NaN             20\n",
              "Yes             19\n",
              "I need speed    17\n",
              "Name: Pay More For Performance?, dtype: int64"
            ]
          },
          "metadata": {},
          "execution_count": 15
        }
      ]
    },
    {
      "cell_type": "markdown",
      "source": [
        "### 4.3. Fill NaN Values and Preprocess Categorical Variables"
      ],
      "metadata": {
        "id": "Hoibez7yJ1Rk"
      }
    },
    {
      "cell_type": "code",
      "source": [
        "df_manual_scorings['Budget'].value_counts(dropna=False)"
      ],
      "metadata": {
        "colab": {
          "base_uri": "https://localhost:8080/"
        },
        "id": "GUC6pOK7J1ec",
        "outputId": "635106ad-ce13-4632-f714-2e348cc989f2"
      },
      "execution_count": 16,
      "outputs": [
        {
          "output_type": "execute_result",
          "data": {
            "text/plain": [
              "$800        22\n",
              "$1000+      19\n",
              "$600        18\n",
              "$400        17\n",
              "NaN         14\n",
              "Not sure    10\n",
              "Name: Budget, dtype: int64"
            ]
          },
          "metadata": {},
          "execution_count": 16
        }
      ]
    },
    {
      "cell_type": "markdown",
      "source": [
        "Replace NaN with 'Not sure'."
      ],
      "metadata": {
        "id": "Xza7cClliDnX"
      }
    },
    {
      "cell_type": "code",
      "source": [
        "df_manual_scorings['Budget'] = df_manual_scorings['Budget'].fillna('Not sure')"
      ],
      "metadata": {
        "id": "QtoBvJJkMoUe"
      },
      "execution_count": 17,
      "outputs": []
    },
    {
      "cell_type": "markdown",
      "source": [
        "Convert Budget to a ordinal categorical variable.\n",
        "\n"
      ],
      "metadata": {
        "id": "0tAJbYsri5V6"
      }
    },
    {
      "cell_type": "code",
      "source": [
        "Budget_categories = {'Not sure':0, '$400':1, '$600':2, '$800':3, '$1000+':4}\n",
        "df_manual_scorings['Budget_categorical'] = df_manual_scorings['Budget'].map(str).map(lambda x : Budget_categories[x])"
      ],
      "metadata": {
        "id": "qlk_3Im4J8Bc"
      },
      "execution_count": 18,
      "outputs": []
    },
    {
      "cell_type": "code",
      "source": [
        "df_manual_scorings['Size'].value_counts(dropna=False)"
      ],
      "metadata": {
        "colab": {
          "base_uri": "https://localhost:8080/"
        },
        "id": "hUlxDuTvLus_",
        "outputId": "9dd8fadd-5f4c-40ed-e877-b892a2a0648c"
      },
      "execution_count": 19,
      "outputs": [
        {
          "output_type": "execute_result",
          "data": {
            "text/plain": [
              "NaN              27\n",
              "No preference    20\n",
              "Small            19\n",
              "Medium           19\n",
              "Large            15\n",
              "Name: Size, dtype: int64"
            ]
          },
          "metadata": {},
          "execution_count": 19
        }
      ]
    },
    {
      "cell_type": "markdown",
      "source": [
        "Replace NaN with 'No preference'."
      ],
      "metadata": {
        "id": "6xGhgxHiiO9n"
      }
    },
    {
      "cell_type": "code",
      "source": [
        "df_manual_scorings['Size'] = df_manual_scorings['Size'].fillna('No preference')"
      ],
      "metadata": {
        "id": "dt0L3LpQNbwm"
      },
      "execution_count": 20,
      "outputs": []
    },
    {
      "cell_type": "markdown",
      "source": [
        "Convert Size to a ordinal categorical variable."
      ],
      "metadata": {
        "id": "rlqDwLBFjH2E"
      }
    },
    {
      "cell_type": "code",
      "source": [
        "Size_categories = {'No preference':0, 'Small':1, 'Medium':2, 'Large':3}\n",
        "df_manual_scorings['Size_categorical'] = df_manual_scorings['Size'].map(str).map(lambda x : Size_categories[x])"
      ],
      "metadata": {
        "id": "4zlqrctGNnad"
      },
      "execution_count": 21,
      "outputs": []
    },
    {
      "cell_type": "code",
      "source": [
        "df_manual_scorings['Camera Importance'].value_counts(dropna=False)"
      ],
      "metadata": {
        "colab": {
          "base_uri": "https://localhost:8080/"
        },
        "id": "a2tHYeNuPVJk",
        "outputId": "e1cb29f1-1d48-47c4-ecd0-844786c4dbe9"
      },
      "execution_count": 22,
      "outputs": [
        {
          "output_type": "execute_result",
          "data": {
            "text/plain": [
              "A lot       24\n",
              "NaN         23\n",
              "A little    19\n",
              "A ton       19\n",
              "Somewhat    15\n",
              "Name: Camera Importance, dtype: int64"
            ]
          },
          "metadata": {},
          "execution_count": 22
        }
      ]
    },
    {
      "cell_type": "markdown",
      "source": [
        "Replace NaN with 'No preference'"
      ],
      "metadata": {
        "id": "qm0nLoN6iUXD"
      }
    },
    {
      "cell_type": "code",
      "source": [
        "df_manual_scorings['Camera Importance'] = df_manual_scorings['Camera Importance'].fillna('No preference')"
      ],
      "metadata": {
        "id": "LVf2bOzpQDfA"
      },
      "execution_count": 23,
      "outputs": []
    },
    {
      "cell_type": "markdown",
      "source": [
        "Convert Camera Importance to a ordinal categorical variable."
      ],
      "metadata": {
        "id": "XzsbPQAAjMVH"
      }
    },
    {
      "cell_type": "code",
      "source": [
        "Camera_Importance_categories = {'No preference':0, 'A little':1, 'Somewhat':2, 'A lot':3, 'A ton':4}\n",
        "df_manual_scorings['Camera_Importance_categorical'] = df_manual_scorings['Camera Importance'].map(str).map(lambda x : Camera_Importance_categories[x])"
      ],
      "metadata": {
        "id": "mhMVKamDQN65"
      },
      "execution_count": 24,
      "outputs": []
    },
    {
      "cell_type": "code",
      "source": [
        "df_manual_scorings['Usage'].value_counts(dropna=False)"
      ],
      "metadata": {
        "colab": {
          "base_uri": "https://localhost:8080/"
        },
        "id": "OhTGuHN8Q-iP",
        "outputId": "d829f570-6866-418b-b60c-07601827047b"
      },
      "execution_count": 25,
      "outputs": [
        {
          "output_type": "execute_result",
          "data": {
            "text/plain": [
              "Not sure    24\n",
              "4 - 8       23\n",
              "0 - 4       22\n",
              "NaN         19\n",
              "8+          12\n",
              "Name: Usage, dtype: int64"
            ]
          },
          "metadata": {},
          "execution_count": 25
        }
      ]
    },
    {
      "cell_type": "markdown",
      "source": [
        "Replace NaN with 'Not sure'"
      ],
      "metadata": {
        "id": "YnG7o1kJidd7"
      }
    },
    {
      "cell_type": "code",
      "source": [
        "df_manual_scorings['Usage'] = df_manual_scorings['Usage'].fillna('Not sure')"
      ],
      "metadata": {
        "id": "YGhe4Ub1RsVc"
      },
      "execution_count": 26,
      "outputs": []
    },
    {
      "cell_type": "markdown",
      "source": [
        "Convert Usage to a ordinal categorical variable."
      ],
      "metadata": {
        "id": "DhJlyfYDjRqA"
      }
    },
    {
      "cell_type": "code",
      "source": [
        "Usage_categories = {'Not sure':0, '0 - 4':1, '4 - 8':2, '8+':3}\n",
        "df_manual_scorings['Usage_categorical'] = df_manual_scorings['Usage'].map(str).map(lambda x : Usage_categories[x])"
      ],
      "metadata": {
        "id": "ypzxiFPKR7d7"
      },
      "execution_count": 27,
      "outputs": []
    },
    {
      "cell_type": "code",
      "source": [
        "df_manual_scorings['Pay More For Performance?'].value_counts(dropna=False)"
      ],
      "metadata": {
        "colab": {
          "base_uri": "https://localhost:8080/"
        },
        "id": "twNqWiZTSfLx",
        "outputId": "fb3eecb1-6f74-4f68-8a83-566f72b54081"
      },
      "execution_count": 28,
      "outputs": [
        {
          "output_type": "execute_result",
          "data": {
            "text/plain": [
              "A little        24\n",
              "No              20\n",
              "NaN             20\n",
              "Yes             19\n",
              "I need speed    17\n",
              "Name: Pay More For Performance?, dtype: int64"
            ]
          },
          "metadata": {},
          "execution_count": 28
        }
      ]
    },
    {
      "cell_type": "markdown",
      "source": [
        "Replace NaN with 'A little'."
      ],
      "metadata": {
        "id": "ljTtcy93iiIl"
      }
    },
    {
      "cell_type": "code",
      "source": [
        "df_manual_scorings['Pay More For Performance?'] = df_manual_scorings['Pay More For Performance?'].fillna('A little')"
      ],
      "metadata": {
        "id": "TwiO6Zo2TEx1"
      },
      "execution_count": 29,
      "outputs": []
    },
    {
      "cell_type": "markdown",
      "source": [
        "Convert Pay More For Performance to a ordinal categorical variable."
      ],
      "metadata": {
        "id": "Ai_2XsIqjVlC"
      }
    },
    {
      "cell_type": "code",
      "source": [
        "Pay_More_For_Performance_categories = {'No':0, 'A little':1, 'Yes':2, 'I need speed':3}\n",
        "df_manual_scorings['Pay_More_For_Performance_categorical'] = df_manual_scorings['Pay More For Performance?'].map(str).map(lambda x : Pay_More_For_Performance_categories[x])"
      ],
      "metadata": {
        "id": "66gvI0kmTcNq"
      },
      "execution_count": 30,
      "outputs": []
    },
    {
      "cell_type": "code",
      "source": [
        "df_manual_scorings.columns"
      ],
      "metadata": {
        "colab": {
          "base_uri": "https://localhost:8080/"
        },
        "id": "hUhir1Y-WRhI",
        "outputId": "c66f95d2-98e2-45df-e0d6-435da4921feb"
      },
      "execution_count": 31,
      "outputs": [
        {
          "output_type": "execute_result",
          "data": {
            "text/plain": [
              "Index(['OS', 'Budget', 'Size', 'Camera Importance', 'Usage',\n",
              "       'Pay More For Performance?', 'Apple iPhone 11', 'Apple iPhone 12',\n",
              "       'Apple iPhone 12 mini', 'Apple iPhone 13', 'Apple iPhone 13 mini',\n",
              "       'Apple iPhone 13 Pro', 'Apple iPhone 13 Pro Max',\n",
              "       'Apple iPhone SE (2022)', 'Google Pixel 5a', 'Google Pixel 6',\n",
              "       'Google Pixel 6 Pro', 'Motorola Edge (2021)', 'Motorola Edge 30 Pro',\n",
              "       'Motorola Moto G Stylus', 'Motorola Moto G100', 'OnePlus 8T',\n",
              "       'OnePlus 9', 'OnePlus 9 Pro', 'OnePlus Nord N200', 'Samsung Galaxy A13',\n",
              "       'Samsung Galaxy A32', 'Samsung Galaxy A42', 'Samsung Galaxy A53',\n",
              "       'Samsung Galaxy S20 FE', 'Samsung Galaxy S21 FE', 'Samsung Galaxy S22',\n",
              "       'Samsung Galaxy S22 Ultra', 'Samsung Galaxy S22+', 'Sony Xperia 1 III',\n",
              "       'Sony Xperia 5 III', 'Budget_categorical', 'Size_categorical',\n",
              "       'Camera_Importance_categorical', 'Usage_categorical',\n",
              "       'Pay_More_For_Performance_categorical'],\n",
              "      dtype='object')"
            ]
          },
          "metadata": {},
          "execution_count": 31
        }
      ]
    },
    {
      "cell_type": "markdown",
      "source": [
        "Drop columns."
      ],
      "metadata": {
        "id": "dmvO0Znbiq-k"
      }
    },
    {
      "cell_type": "code",
      "source": [
        "df_manual_scorings.drop(columns = ['Budget', 'Size', 'Camera Importance', 'Usage', 'Pay More For Performance?'], inplace = True )"
      ],
      "metadata": {
        "id": "qVfK-Ep2YKpx"
      },
      "execution_count": 32,
      "outputs": []
    },
    {
      "cell_type": "code",
      "source": [
        "df_manual_scorings.columns"
      ],
      "metadata": {
        "colab": {
          "base_uri": "https://localhost:8080/"
        },
        "id": "cPTvN60GYd3b",
        "outputId": "6975e214-eea5-4302-c834-e2aff9dad723"
      },
      "execution_count": 33,
      "outputs": [
        {
          "output_type": "execute_result",
          "data": {
            "text/plain": [
              "Index(['OS', 'Apple iPhone 11', 'Apple iPhone 12', 'Apple iPhone 12 mini',\n",
              "       'Apple iPhone 13', 'Apple iPhone 13 mini', 'Apple iPhone 13 Pro',\n",
              "       'Apple iPhone 13 Pro Max', 'Apple iPhone SE (2022)', 'Google Pixel 5a',\n",
              "       'Google Pixel 6', 'Google Pixel 6 Pro', 'Motorola Edge (2021)',\n",
              "       'Motorola Edge 30 Pro', 'Motorola Moto G Stylus', 'Motorola Moto G100',\n",
              "       'OnePlus 8T', 'OnePlus 9', 'OnePlus 9 Pro', 'OnePlus Nord N200',\n",
              "       'Samsung Galaxy A13', 'Samsung Galaxy A32', 'Samsung Galaxy A42',\n",
              "       'Samsung Galaxy A53', 'Samsung Galaxy S20 FE', 'Samsung Galaxy S21 FE',\n",
              "       'Samsung Galaxy S22', 'Samsung Galaxy S22 Ultra', 'Samsung Galaxy S22+',\n",
              "       'Sony Xperia 1 III', 'Sony Xperia 5 III', 'Budget_categorical',\n",
              "       'Size_categorical', 'Camera_Importance_categorical',\n",
              "       'Usage_categorical', 'Pay_More_For_Performance_categorical'],\n",
              "      dtype='object')"
            ]
          },
          "metadata": {},
          "execution_count": 33
        }
      ]
    },
    {
      "cell_type": "markdown",
      "source": [
        "Rearrage Columns."
      ],
      "metadata": {
        "id": "SUoXTQdDjfIC"
      }
    },
    {
      "cell_type": "code",
      "source": [
        "cols = df_manual_scorings.columns.tolist()"
      ],
      "metadata": {
        "id": "EhIlqM7yYgOw"
      },
      "execution_count": 34,
      "outputs": []
    },
    {
      "cell_type": "code",
      "source": [
        "cols = cols[-5:] + cols[:-5]"
      ],
      "metadata": {
        "id": "pXFBV10xZW-m"
      },
      "execution_count": 35,
      "outputs": []
    },
    {
      "cell_type": "code",
      "source": [
        "cols"
      ],
      "metadata": {
        "colab": {
          "base_uri": "https://localhost:8080/"
        },
        "id": "QWuCES_mZuCW",
        "outputId": "e346bd9c-8534-44a8-9f63-f807f7bb256a"
      },
      "execution_count": 36,
      "outputs": [
        {
          "output_type": "execute_result",
          "data": {
            "text/plain": [
              "['Budget_categorical',\n",
              " 'Size_categorical',\n",
              " 'Camera_Importance_categorical',\n",
              " 'Usage_categorical',\n",
              " 'Pay_More_For_Performance_categorical',\n",
              " 'OS',\n",
              " 'Apple iPhone 11',\n",
              " 'Apple iPhone 12',\n",
              " 'Apple iPhone 12 mini',\n",
              " 'Apple iPhone 13',\n",
              " 'Apple iPhone 13 mini',\n",
              " 'Apple iPhone 13 Pro',\n",
              " 'Apple iPhone 13 Pro Max',\n",
              " 'Apple iPhone SE (2022)',\n",
              " 'Google Pixel 5a',\n",
              " 'Google Pixel 6',\n",
              " 'Google Pixel 6 Pro',\n",
              " 'Motorola Edge (2021)',\n",
              " 'Motorola Edge 30 Pro',\n",
              " 'Motorola Moto G Stylus',\n",
              " 'Motorola Moto G100',\n",
              " 'OnePlus 8T',\n",
              " 'OnePlus 9',\n",
              " 'OnePlus 9 Pro',\n",
              " 'OnePlus Nord N200',\n",
              " 'Samsung Galaxy A13',\n",
              " 'Samsung Galaxy A32',\n",
              " 'Samsung Galaxy A42',\n",
              " 'Samsung Galaxy A53',\n",
              " 'Samsung Galaxy S20 FE',\n",
              " 'Samsung Galaxy S21 FE',\n",
              " 'Samsung Galaxy S22',\n",
              " 'Samsung Galaxy S22 Ultra',\n",
              " 'Samsung Galaxy S22+',\n",
              " 'Sony Xperia 1 III',\n",
              " 'Sony Xperia 5 III']"
            ]
          },
          "metadata": {},
          "execution_count": 36
        }
      ]
    },
    {
      "cell_type": "code",
      "source": [
        "df_manual_scorings = df_manual_scorings[cols]"
      ],
      "metadata": {
        "id": "j93YAx0MZumc"
      },
      "execution_count": 37,
      "outputs": []
    },
    {
      "cell_type": "markdown",
      "source": [
        "Convert OS to categorical variables."
      ],
      "metadata": {
        "id": "NvIGAHZCjjJJ"
      }
    },
    {
      "cell_type": "code",
      "source": [
        "df_final = pd.concat([pd.get_dummies(df_manual_scorings['OS'])[['Must be Android','Must be iPhone','No Preference']], \n",
        "                      df_manual_scorings.drop('OS', axis = 1)], axis = 1)"
      ],
      "metadata": {
        "id": "sl-N-YHlaHYq"
      },
      "execution_count": 38,
      "outputs": []
    },
    {
      "cell_type": "markdown",
      "source": [
        "The final dataframe is shown below."
      ],
      "metadata": {
        "id": "W9iMXMuejqih"
      }
    },
    {
      "cell_type": "code",
      "source": [
        "df_final.head()"
      ],
      "metadata": {
        "colab": {
          "base_uri": "https://localhost:8080/",
          "height": 352
        },
        "id": "BgEgllUta_vq",
        "outputId": "ddb17972-564d-4e33-d591-4739852e4ab9"
      },
      "execution_count": 39,
      "outputs": [
        {
          "output_type": "execute_result",
          "data": {
            "text/plain": [
              "   Must be Android  Must be iPhone  No Preference  Budget_categorical  \\\n",
              "0                0               0              1                   0   \n",
              "1                0               0              1                   0   \n",
              "2                0               0              1                   0   \n",
              "3                0               0              1                   0   \n",
              "4                0               0              1                   4   \n",
              "\n",
              "   Size_categorical  Camera_Importance_categorical  Usage_categorical  \\\n",
              "0                 0                              3                  1   \n",
              "1                 3                              1                  2   \n",
              "2                 0                              3                  2   \n",
              "3                 0                              3                  0   \n",
              "4                 3                              0                  1   \n",
              "\n",
              "   Pay_More_For_Performance_categorical  Apple iPhone 11  Apple iPhone 12  \\\n",
              "0                                     0                2                0   \n",
              "1                                     1                0                0   \n",
              "2                                     2                0                3   \n",
              "3                                     0                2                0   \n",
              "4                                     0                0                0   \n",
              "\n",
              "   ...  Samsung Galaxy A32  Samsung Galaxy A42  Samsung Galaxy A53  \\\n",
              "0  ...                   0                   1                   2   \n",
              "1  ...                   0                   0                   0   \n",
              "2  ...                   0                   0                   0   \n",
              "3  ...                   0                   1                   2   \n",
              "4  ...                   0                   0                   0   \n",
              "\n",
              "   Samsung Galaxy S20 FE  Samsung Galaxy S21 FE  Samsung Galaxy S22  \\\n",
              "0                      3                      3                   0   \n",
              "1                      1                      0                   0   \n",
              "2                      3                      4                   3   \n",
              "3                      3                      3                   0   \n",
              "4                      1                      0                   0   \n",
              "\n",
              "   Samsung Galaxy S22 Ultra  Samsung Galaxy S22+  Sony Xperia 1 III  \\\n",
              "0                         0                    0                  0   \n",
              "1                         4                    2                  0   \n",
              "2                         4                    4                  0   \n",
              "3                         0                    0                  0   \n",
              "4                         4                    2                  0   \n",
              "\n",
              "   Sony Xperia 5 III  \n",
              "0                  0  \n",
              "1                  0  \n",
              "2                  0  \n",
              "3                  0  \n",
              "4                  0  \n",
              "\n",
              "[5 rows x 38 columns]"
            ],
            "text/html": [
              "\n",
              "  <div id=\"df-b9083ca0-edfa-4999-9e31-26251afc8126\">\n",
              "    <div class=\"colab-df-container\">\n",
              "      <div>\n",
              "<style scoped>\n",
              "    .dataframe tbody tr th:only-of-type {\n",
              "        vertical-align: middle;\n",
              "    }\n",
              "\n",
              "    .dataframe tbody tr th {\n",
              "        vertical-align: top;\n",
              "    }\n",
              "\n",
              "    .dataframe thead th {\n",
              "        text-align: right;\n",
              "    }\n",
              "</style>\n",
              "<table border=\"1\" class=\"dataframe\">\n",
              "  <thead>\n",
              "    <tr style=\"text-align: right;\">\n",
              "      <th></th>\n",
              "      <th>Must be Android</th>\n",
              "      <th>Must be iPhone</th>\n",
              "      <th>No Preference</th>\n",
              "      <th>Budget_categorical</th>\n",
              "      <th>Size_categorical</th>\n",
              "      <th>Camera_Importance_categorical</th>\n",
              "      <th>Usage_categorical</th>\n",
              "      <th>Pay_More_For_Performance_categorical</th>\n",
              "      <th>Apple iPhone 11</th>\n",
              "      <th>Apple iPhone 12</th>\n",
              "      <th>...</th>\n",
              "      <th>Samsung Galaxy A32</th>\n",
              "      <th>Samsung Galaxy A42</th>\n",
              "      <th>Samsung Galaxy A53</th>\n",
              "      <th>Samsung Galaxy S20 FE</th>\n",
              "      <th>Samsung Galaxy S21 FE</th>\n",
              "      <th>Samsung Galaxy S22</th>\n",
              "      <th>Samsung Galaxy S22 Ultra</th>\n",
              "      <th>Samsung Galaxy S22+</th>\n",
              "      <th>Sony Xperia 1 III</th>\n",
              "      <th>Sony Xperia 5 III</th>\n",
              "    </tr>\n",
              "  </thead>\n",
              "  <tbody>\n",
              "    <tr>\n",
              "      <th>0</th>\n",
              "      <td>0</td>\n",
              "      <td>0</td>\n",
              "      <td>1</td>\n",
              "      <td>0</td>\n",
              "      <td>0</td>\n",
              "      <td>3</td>\n",
              "      <td>1</td>\n",
              "      <td>0</td>\n",
              "      <td>2</td>\n",
              "      <td>0</td>\n",
              "      <td>...</td>\n",
              "      <td>0</td>\n",
              "      <td>1</td>\n",
              "      <td>2</td>\n",
              "      <td>3</td>\n",
              "      <td>3</td>\n",
              "      <td>0</td>\n",
              "      <td>0</td>\n",
              "      <td>0</td>\n",
              "      <td>0</td>\n",
              "      <td>0</td>\n",
              "    </tr>\n",
              "    <tr>\n",
              "      <th>1</th>\n",
              "      <td>0</td>\n",
              "      <td>0</td>\n",
              "      <td>1</td>\n",
              "      <td>0</td>\n",
              "      <td>3</td>\n",
              "      <td>1</td>\n",
              "      <td>2</td>\n",
              "      <td>1</td>\n",
              "      <td>0</td>\n",
              "      <td>0</td>\n",
              "      <td>...</td>\n",
              "      <td>0</td>\n",
              "      <td>0</td>\n",
              "      <td>0</td>\n",
              "      <td>1</td>\n",
              "      <td>0</td>\n",
              "      <td>0</td>\n",
              "      <td>4</td>\n",
              "      <td>2</td>\n",
              "      <td>0</td>\n",
              "      <td>0</td>\n",
              "    </tr>\n",
              "    <tr>\n",
              "      <th>2</th>\n",
              "      <td>0</td>\n",
              "      <td>0</td>\n",
              "      <td>1</td>\n",
              "      <td>0</td>\n",
              "      <td>0</td>\n",
              "      <td>3</td>\n",
              "      <td>2</td>\n",
              "      <td>2</td>\n",
              "      <td>0</td>\n",
              "      <td>3</td>\n",
              "      <td>...</td>\n",
              "      <td>0</td>\n",
              "      <td>0</td>\n",
              "      <td>0</td>\n",
              "      <td>3</td>\n",
              "      <td>4</td>\n",
              "      <td>3</td>\n",
              "      <td>4</td>\n",
              "      <td>4</td>\n",
              "      <td>0</td>\n",
              "      <td>0</td>\n",
              "    </tr>\n",
              "    <tr>\n",
              "      <th>3</th>\n",
              "      <td>0</td>\n",
              "      <td>0</td>\n",
              "      <td>1</td>\n",
              "      <td>0</td>\n",
              "      <td>0</td>\n",
              "      <td>3</td>\n",
              "      <td>0</td>\n",
              "      <td>0</td>\n",
              "      <td>2</td>\n",
              "      <td>0</td>\n",
              "      <td>...</td>\n",
              "      <td>0</td>\n",
              "      <td>1</td>\n",
              "      <td>2</td>\n",
              "      <td>3</td>\n",
              "      <td>3</td>\n",
              "      <td>0</td>\n",
              "      <td>0</td>\n",
              "      <td>0</td>\n",
              "      <td>0</td>\n",
              "      <td>0</td>\n",
              "    </tr>\n",
              "    <tr>\n",
              "      <th>4</th>\n",
              "      <td>0</td>\n",
              "      <td>0</td>\n",
              "      <td>1</td>\n",
              "      <td>4</td>\n",
              "      <td>3</td>\n",
              "      <td>0</td>\n",
              "      <td>1</td>\n",
              "      <td>0</td>\n",
              "      <td>0</td>\n",
              "      <td>0</td>\n",
              "      <td>...</td>\n",
              "      <td>0</td>\n",
              "      <td>0</td>\n",
              "      <td>0</td>\n",
              "      <td>1</td>\n",
              "      <td>0</td>\n",
              "      <td>0</td>\n",
              "      <td>4</td>\n",
              "      <td>2</td>\n",
              "      <td>0</td>\n",
              "      <td>0</td>\n",
              "    </tr>\n",
              "  </tbody>\n",
              "</table>\n",
              "<p>5 rows × 38 columns</p>\n",
              "</div>\n",
              "      <button class=\"colab-df-convert\" onclick=\"convertToInteractive('df-b9083ca0-edfa-4999-9e31-26251afc8126')\"\n",
              "              title=\"Convert this dataframe to an interactive table.\"\n",
              "              style=\"display:none;\">\n",
              "        \n",
              "  <svg xmlns=\"http://www.w3.org/2000/svg\" height=\"24px\"viewBox=\"0 0 24 24\"\n",
              "       width=\"24px\">\n",
              "    <path d=\"M0 0h24v24H0V0z\" fill=\"none\"/>\n",
              "    <path d=\"M18.56 5.44l.94 2.06.94-2.06 2.06-.94-2.06-.94-.94-2.06-.94 2.06-2.06.94zm-11 1L8.5 8.5l.94-2.06 2.06-.94-2.06-.94L8.5 2.5l-.94 2.06-2.06.94zm10 10l.94 2.06.94-2.06 2.06-.94-2.06-.94-.94-2.06-.94 2.06-2.06.94z\"/><path d=\"M17.41 7.96l-1.37-1.37c-.4-.4-.92-.59-1.43-.59-.52 0-1.04.2-1.43.59L10.3 9.45l-7.72 7.72c-.78.78-.78 2.05 0 2.83L4 21.41c.39.39.9.59 1.41.59.51 0 1.02-.2 1.41-.59l7.78-7.78 2.81-2.81c.8-.78.8-2.07 0-2.86zM5.41 20L4 18.59l7.72-7.72 1.47 1.35L5.41 20z\"/>\n",
              "  </svg>\n",
              "      </button>\n",
              "      \n",
              "  <style>\n",
              "    .colab-df-container {\n",
              "      display:flex;\n",
              "      flex-wrap:wrap;\n",
              "      gap: 12px;\n",
              "    }\n",
              "\n",
              "    .colab-df-convert {\n",
              "      background-color: #E8F0FE;\n",
              "      border: none;\n",
              "      border-radius: 50%;\n",
              "      cursor: pointer;\n",
              "      display: none;\n",
              "      fill: #1967D2;\n",
              "      height: 32px;\n",
              "      padding: 0 0 0 0;\n",
              "      width: 32px;\n",
              "    }\n",
              "\n",
              "    .colab-df-convert:hover {\n",
              "      background-color: #E2EBFA;\n",
              "      box-shadow: 0px 1px 2px rgba(60, 64, 67, 0.3), 0px 1px 3px 1px rgba(60, 64, 67, 0.15);\n",
              "      fill: #174EA6;\n",
              "    }\n",
              "\n",
              "    [theme=dark] .colab-df-convert {\n",
              "      background-color: #3B4455;\n",
              "      fill: #D2E3FC;\n",
              "    }\n",
              "\n",
              "    [theme=dark] .colab-df-convert:hover {\n",
              "      background-color: #434B5C;\n",
              "      box-shadow: 0px 1px 3px 1px rgba(0, 0, 0, 0.15);\n",
              "      filter: drop-shadow(0px 1px 2px rgba(0, 0, 0, 0.3));\n",
              "      fill: #FFFFFF;\n",
              "    }\n",
              "  </style>\n",
              "\n",
              "      <script>\n",
              "        const buttonEl =\n",
              "          document.querySelector('#df-b9083ca0-edfa-4999-9e31-26251afc8126 button.colab-df-convert');\n",
              "        buttonEl.style.display =\n",
              "          google.colab.kernel.accessAllowed ? 'block' : 'none';\n",
              "\n",
              "        async function convertToInteractive(key) {\n",
              "          const element = document.querySelector('#df-b9083ca0-edfa-4999-9e31-26251afc8126');\n",
              "          const dataTable =\n",
              "            await google.colab.kernel.invokeFunction('convertToInteractive',\n",
              "                                                     [key], {});\n",
              "          if (!dataTable) return;\n",
              "\n",
              "          const docLinkHtml = 'Like what you see? Visit the ' +\n",
              "            '<a target=\"_blank\" href=https://colab.research.google.com/notebooks/data_table.ipynb>data table notebook</a>'\n",
              "            + ' to learn more about interactive tables.';\n",
              "          element.innerHTML = '';\n",
              "          dataTable['output_type'] = 'display_data';\n",
              "          await google.colab.output.renderOutput(dataTable, element);\n",
              "          const docLink = document.createElement('div');\n",
              "          docLink.innerHTML = docLinkHtml;\n",
              "          element.appendChild(docLink);\n",
              "        }\n",
              "      </script>\n",
              "    </div>\n",
              "  </div>\n",
              "  "
            ]
          },
          "metadata": {},
          "execution_count": 39
        }
      ]
    },
    {
      "cell_type": "markdown",
      "source": [
        "Shuffle the dataframe."
      ],
      "metadata": {
        "id": "mGRN9vRDj0mm"
      }
    },
    {
      "cell_type": "code",
      "source": [
        "df_final = df_final.sample(frac=1).reset_index(drop=True)"
      ],
      "metadata": {
        "id": "6L1ZPtpCdXEE"
      },
      "execution_count": 40,
      "outputs": []
    },
    {
      "cell_type": "code",
      "source": [
        "cols_final = df_final.columns.tolist()"
      ],
      "metadata": {
        "id": "egcGQDu9b71U"
      },
      "execution_count": 41,
      "outputs": []
    },
    {
      "cell_type": "code",
      "source": [
        "cols_final"
      ],
      "metadata": {
        "colab": {
          "base_uri": "https://localhost:8080/"
        },
        "id": "ztT0Hnscc9py",
        "outputId": "43e3e45a-d744-4080-991d-c9b59e0a5b4c"
      },
      "execution_count": 42,
      "outputs": [
        {
          "output_type": "execute_result",
          "data": {
            "text/plain": [
              "['Must be Android',\n",
              " 'Must be iPhone',\n",
              " 'No Preference',\n",
              " 'Budget_categorical',\n",
              " 'Size_categorical',\n",
              " 'Camera_Importance_categorical',\n",
              " 'Usage_categorical',\n",
              " 'Pay_More_For_Performance_categorical',\n",
              " 'Apple iPhone 11',\n",
              " 'Apple iPhone 12',\n",
              " 'Apple iPhone 12 mini',\n",
              " 'Apple iPhone 13',\n",
              " 'Apple iPhone 13 mini',\n",
              " 'Apple iPhone 13 Pro',\n",
              " 'Apple iPhone 13 Pro Max',\n",
              " 'Apple iPhone SE (2022)',\n",
              " 'Google Pixel 5a',\n",
              " 'Google Pixel 6',\n",
              " 'Google Pixel 6 Pro',\n",
              " 'Motorola Edge (2021)',\n",
              " 'Motorola Edge 30 Pro',\n",
              " 'Motorola Moto G Stylus',\n",
              " 'Motorola Moto G100',\n",
              " 'OnePlus 8T',\n",
              " 'OnePlus 9',\n",
              " 'OnePlus 9 Pro',\n",
              " 'OnePlus Nord N200',\n",
              " 'Samsung Galaxy A13',\n",
              " 'Samsung Galaxy A32',\n",
              " 'Samsung Galaxy A42',\n",
              " 'Samsung Galaxy A53',\n",
              " 'Samsung Galaxy S20 FE',\n",
              " 'Samsung Galaxy S21 FE',\n",
              " 'Samsung Galaxy S22',\n",
              " 'Samsung Galaxy S22 Ultra',\n",
              " 'Samsung Galaxy S22+',\n",
              " 'Sony Xperia 1 III',\n",
              " 'Sony Xperia 5 III']"
            ]
          },
          "metadata": {},
          "execution_count": 42
        }
      ]
    },
    {
      "cell_type": "code",
      "source": [
        "df_final"
      ],
      "metadata": {
        "colab": {
          "base_uri": "https://localhost:8080/",
          "height": 540
        },
        "id": "NGjH_KgOc-1O",
        "outputId": "931d9130-50da-459a-80f3-f2ee4d937880"
      },
      "execution_count": 43,
      "outputs": [
        {
          "output_type": "execute_result",
          "data": {
            "text/plain": [
              "    Must be Android  Must be iPhone  No Preference  Budget_categorical  \\\n",
              "0                 0               0              1                   2   \n",
              "1                 0               1              0                   0   \n",
              "2                 1               0              0                   2   \n",
              "3                 1               0              0                   0   \n",
              "4                 0               0              1                   3   \n",
              "..              ...             ...            ...                 ...   \n",
              "95                0               0              1                   4   \n",
              "96                1               0              0                   3   \n",
              "97                0               1              0                   0   \n",
              "98                0               1              0                   0   \n",
              "99                0               1              0                   3   \n",
              "\n",
              "    Size_categorical  Camera_Importance_categorical  Usage_categorical  \\\n",
              "0                  3                              1                  3   \n",
              "1                  3                              3                  0   \n",
              "2                  3                              1                  3   \n",
              "3                  1                              2                  3   \n",
              "4                  0                              4                  1   \n",
              "..               ...                            ...                ...   \n",
              "95                 0                              3                  2   \n",
              "96                 2                              3                  1   \n",
              "97                 1                              1                  2   \n",
              "98                 2                              4                  0   \n",
              "99                 1                              0                  3   \n",
              "\n",
              "    Pay_More_For_Performance_categorical  Apple iPhone 11  Apple iPhone 12  \\\n",
              "0                                      1                0                0   \n",
              "1                                      2                2                3   \n",
              "2                                      0                0                0   \n",
              "3                                      0                0                0   \n",
              "4                                      1                0                4   \n",
              "..                                   ...              ...              ...   \n",
              "95                                     3                0                3   \n",
              "96                                     2                0                0   \n",
              "97                                     3                2                3   \n",
              "98                                     1                2                2   \n",
              "99                                     0                3                3   \n",
              "\n",
              "    ...  Samsung Galaxy A32  Samsung Galaxy A42  Samsung Galaxy A53  \\\n",
              "0   ...                   0                   1                   0   \n",
              "1   ...                   0                   0                   0   \n",
              "2   ...                   0                   4                   3   \n",
              "3   ...                   0                   1                   1   \n",
              "4   ...                   0                   0                   0   \n",
              "..  ...                 ...                 ...                 ...   \n",
              "95  ...                   0                   0                   0   \n",
              "96  ...                   0                   0                   0   \n",
              "97  ...                   0                   0                   0   \n",
              "98  ...                   0                   0                   0   \n",
              "99  ...                   0                   0                   0   \n",
              "\n",
              "    Samsung Galaxy S20 FE  Samsung Galaxy S21 FE  Samsung Galaxy S22  \\\n",
              "0                       3                      0                   0   \n",
              "1                       0                      0                   0   \n",
              "2                       3                      0                   0   \n",
              "3                       2                      3                   4   \n",
              "4                       2                      4                   0   \n",
              "..                    ...                    ...                 ...   \n",
              "95                      2                      3                   3   \n",
              "96                      3                      5                   0   \n",
              "97                      0                      0                   0   \n",
              "98                      0                      0                   0   \n",
              "99                      0                      0                   0   \n",
              "\n",
              "    Samsung Galaxy S22 Ultra  Samsung Galaxy S22+  Sony Xperia 1 III  \\\n",
              "0                          0                    0                  0   \n",
              "1                          0                    0                  0   \n",
              "2                          0                    0                  0   \n",
              "3                          0                    0                  0   \n",
              "4                          0                    0                  0   \n",
              "..                       ...                  ...                ...   \n",
              "95                         4                    4                  0   \n",
              "96                         0                    0                  0   \n",
              "97                         0                    0                  0   \n",
              "98                         0                    0                  0   \n",
              "99                         0                    0                  0   \n",
              "\n",
              "    Sony Xperia 5 III  \n",
              "0                   0  \n",
              "1                   0  \n",
              "2                   0  \n",
              "3                   0  \n",
              "4                   0  \n",
              "..                ...  \n",
              "95                  0  \n",
              "96                  0  \n",
              "97                  0  \n",
              "98                  0  \n",
              "99                  0  \n",
              "\n",
              "[100 rows x 38 columns]"
            ],
            "text/html": [
              "\n",
              "  <div id=\"df-407aff98-fb35-4187-b219-eab19a16a3c8\">\n",
              "    <div class=\"colab-df-container\">\n",
              "      <div>\n",
              "<style scoped>\n",
              "    .dataframe tbody tr th:only-of-type {\n",
              "        vertical-align: middle;\n",
              "    }\n",
              "\n",
              "    .dataframe tbody tr th {\n",
              "        vertical-align: top;\n",
              "    }\n",
              "\n",
              "    .dataframe thead th {\n",
              "        text-align: right;\n",
              "    }\n",
              "</style>\n",
              "<table border=\"1\" class=\"dataframe\">\n",
              "  <thead>\n",
              "    <tr style=\"text-align: right;\">\n",
              "      <th></th>\n",
              "      <th>Must be Android</th>\n",
              "      <th>Must be iPhone</th>\n",
              "      <th>No Preference</th>\n",
              "      <th>Budget_categorical</th>\n",
              "      <th>Size_categorical</th>\n",
              "      <th>Camera_Importance_categorical</th>\n",
              "      <th>Usage_categorical</th>\n",
              "      <th>Pay_More_For_Performance_categorical</th>\n",
              "      <th>Apple iPhone 11</th>\n",
              "      <th>Apple iPhone 12</th>\n",
              "      <th>...</th>\n",
              "      <th>Samsung Galaxy A32</th>\n",
              "      <th>Samsung Galaxy A42</th>\n",
              "      <th>Samsung Galaxy A53</th>\n",
              "      <th>Samsung Galaxy S20 FE</th>\n",
              "      <th>Samsung Galaxy S21 FE</th>\n",
              "      <th>Samsung Galaxy S22</th>\n",
              "      <th>Samsung Galaxy S22 Ultra</th>\n",
              "      <th>Samsung Galaxy S22+</th>\n",
              "      <th>Sony Xperia 1 III</th>\n",
              "      <th>Sony Xperia 5 III</th>\n",
              "    </tr>\n",
              "  </thead>\n",
              "  <tbody>\n",
              "    <tr>\n",
              "      <th>0</th>\n",
              "      <td>0</td>\n",
              "      <td>0</td>\n",
              "      <td>1</td>\n",
              "      <td>2</td>\n",
              "      <td>3</td>\n",
              "      <td>1</td>\n",
              "      <td>3</td>\n",
              "      <td>1</td>\n",
              "      <td>0</td>\n",
              "      <td>0</td>\n",
              "      <td>...</td>\n",
              "      <td>0</td>\n",
              "      <td>1</td>\n",
              "      <td>0</td>\n",
              "      <td>3</td>\n",
              "      <td>0</td>\n",
              "      <td>0</td>\n",
              "      <td>0</td>\n",
              "      <td>0</td>\n",
              "      <td>0</td>\n",
              "      <td>0</td>\n",
              "    </tr>\n",
              "    <tr>\n",
              "      <th>1</th>\n",
              "      <td>0</td>\n",
              "      <td>1</td>\n",
              "      <td>0</td>\n",
              "      <td>0</td>\n",
              "      <td>3</td>\n",
              "      <td>3</td>\n",
              "      <td>0</td>\n",
              "      <td>2</td>\n",
              "      <td>2</td>\n",
              "      <td>3</td>\n",
              "      <td>...</td>\n",
              "      <td>0</td>\n",
              "      <td>0</td>\n",
              "      <td>0</td>\n",
              "      <td>0</td>\n",
              "      <td>0</td>\n",
              "      <td>0</td>\n",
              "      <td>0</td>\n",
              "      <td>0</td>\n",
              "      <td>0</td>\n",
              "      <td>0</td>\n",
              "    </tr>\n",
              "    <tr>\n",
              "      <th>2</th>\n",
              "      <td>1</td>\n",
              "      <td>0</td>\n",
              "      <td>0</td>\n",
              "      <td>2</td>\n",
              "      <td>3</td>\n",
              "      <td>1</td>\n",
              "      <td>3</td>\n",
              "      <td>0</td>\n",
              "      <td>0</td>\n",
              "      <td>0</td>\n",
              "      <td>...</td>\n",
              "      <td>0</td>\n",
              "      <td>4</td>\n",
              "      <td>3</td>\n",
              "      <td>3</td>\n",
              "      <td>0</td>\n",
              "      <td>0</td>\n",
              "      <td>0</td>\n",
              "      <td>0</td>\n",
              "      <td>0</td>\n",
              "      <td>0</td>\n",
              "    </tr>\n",
              "    <tr>\n",
              "      <th>3</th>\n",
              "      <td>1</td>\n",
              "      <td>0</td>\n",
              "      <td>0</td>\n",
              "      <td>0</td>\n",
              "      <td>1</td>\n",
              "      <td>2</td>\n",
              "      <td>3</td>\n",
              "      <td>0</td>\n",
              "      <td>0</td>\n",
              "      <td>0</td>\n",
              "      <td>...</td>\n",
              "      <td>0</td>\n",
              "      <td>1</td>\n",
              "      <td>1</td>\n",
              "      <td>2</td>\n",
              "      <td>3</td>\n",
              "      <td>4</td>\n",
              "      <td>0</td>\n",
              "      <td>0</td>\n",
              "      <td>0</td>\n",
              "      <td>0</td>\n",
              "    </tr>\n",
              "    <tr>\n",
              "      <th>4</th>\n",
              "      <td>0</td>\n",
              "      <td>0</td>\n",
              "      <td>1</td>\n",
              "      <td>3</td>\n",
              "      <td>0</td>\n",
              "      <td>4</td>\n",
              "      <td>1</td>\n",
              "      <td>1</td>\n",
              "      <td>0</td>\n",
              "      <td>4</td>\n",
              "      <td>...</td>\n",
              "      <td>0</td>\n",
              "      <td>0</td>\n",
              "      <td>0</td>\n",
              "      <td>2</td>\n",
              "      <td>4</td>\n",
              "      <td>0</td>\n",
              "      <td>0</td>\n",
              "      <td>0</td>\n",
              "      <td>0</td>\n",
              "      <td>0</td>\n",
              "    </tr>\n",
              "    <tr>\n",
              "      <th>...</th>\n",
              "      <td>...</td>\n",
              "      <td>...</td>\n",
              "      <td>...</td>\n",
              "      <td>...</td>\n",
              "      <td>...</td>\n",
              "      <td>...</td>\n",
              "      <td>...</td>\n",
              "      <td>...</td>\n",
              "      <td>...</td>\n",
              "      <td>...</td>\n",
              "      <td>...</td>\n",
              "      <td>...</td>\n",
              "      <td>...</td>\n",
              "      <td>...</td>\n",
              "      <td>...</td>\n",
              "      <td>...</td>\n",
              "      <td>...</td>\n",
              "      <td>...</td>\n",
              "      <td>...</td>\n",
              "      <td>...</td>\n",
              "      <td>...</td>\n",
              "    </tr>\n",
              "    <tr>\n",
              "      <th>95</th>\n",
              "      <td>0</td>\n",
              "      <td>0</td>\n",
              "      <td>1</td>\n",
              "      <td>4</td>\n",
              "      <td>0</td>\n",
              "      <td>3</td>\n",
              "      <td>2</td>\n",
              "      <td>3</td>\n",
              "      <td>0</td>\n",
              "      <td>3</td>\n",
              "      <td>...</td>\n",
              "      <td>0</td>\n",
              "      <td>0</td>\n",
              "      <td>0</td>\n",
              "      <td>2</td>\n",
              "      <td>3</td>\n",
              "      <td>3</td>\n",
              "      <td>4</td>\n",
              "      <td>4</td>\n",
              "      <td>0</td>\n",
              "      <td>0</td>\n",
              "    </tr>\n",
              "    <tr>\n",
              "      <th>96</th>\n",
              "      <td>1</td>\n",
              "      <td>0</td>\n",
              "      <td>0</td>\n",
              "      <td>3</td>\n",
              "      <td>2</td>\n",
              "      <td>3</td>\n",
              "      <td>1</td>\n",
              "      <td>2</td>\n",
              "      <td>0</td>\n",
              "      <td>0</td>\n",
              "      <td>...</td>\n",
              "      <td>0</td>\n",
              "      <td>0</td>\n",
              "      <td>0</td>\n",
              "      <td>3</td>\n",
              "      <td>5</td>\n",
              "      <td>0</td>\n",
              "      <td>0</td>\n",
              "      <td>0</td>\n",
              "      <td>0</td>\n",
              "      <td>0</td>\n",
              "    </tr>\n",
              "    <tr>\n",
              "      <th>97</th>\n",
              "      <td>0</td>\n",
              "      <td>1</td>\n",
              "      <td>0</td>\n",
              "      <td>0</td>\n",
              "      <td>1</td>\n",
              "      <td>1</td>\n",
              "      <td>2</td>\n",
              "      <td>3</td>\n",
              "      <td>2</td>\n",
              "      <td>3</td>\n",
              "      <td>...</td>\n",
              "      <td>0</td>\n",
              "      <td>0</td>\n",
              "      <td>0</td>\n",
              "      <td>0</td>\n",
              "      <td>0</td>\n",
              "      <td>0</td>\n",
              "      <td>0</td>\n",
              "      <td>0</td>\n",
              "      <td>0</td>\n",
              "      <td>0</td>\n",
              "    </tr>\n",
              "    <tr>\n",
              "      <th>98</th>\n",
              "      <td>0</td>\n",
              "      <td>1</td>\n",
              "      <td>0</td>\n",
              "      <td>0</td>\n",
              "      <td>2</td>\n",
              "      <td>4</td>\n",
              "      <td>0</td>\n",
              "      <td>1</td>\n",
              "      <td>2</td>\n",
              "      <td>2</td>\n",
              "      <td>...</td>\n",
              "      <td>0</td>\n",
              "      <td>0</td>\n",
              "      <td>0</td>\n",
              "      <td>0</td>\n",
              "      <td>0</td>\n",
              "      <td>0</td>\n",
              "      <td>0</td>\n",
              "      <td>0</td>\n",
              "      <td>0</td>\n",
              "      <td>0</td>\n",
              "    </tr>\n",
              "    <tr>\n",
              "      <th>99</th>\n",
              "      <td>0</td>\n",
              "      <td>1</td>\n",
              "      <td>0</td>\n",
              "      <td>3</td>\n",
              "      <td>1</td>\n",
              "      <td>0</td>\n",
              "      <td>3</td>\n",
              "      <td>0</td>\n",
              "      <td>3</td>\n",
              "      <td>3</td>\n",
              "      <td>...</td>\n",
              "      <td>0</td>\n",
              "      <td>0</td>\n",
              "      <td>0</td>\n",
              "      <td>0</td>\n",
              "      <td>0</td>\n",
              "      <td>0</td>\n",
              "      <td>0</td>\n",
              "      <td>0</td>\n",
              "      <td>0</td>\n",
              "      <td>0</td>\n",
              "    </tr>\n",
              "  </tbody>\n",
              "</table>\n",
              "<p>100 rows × 38 columns</p>\n",
              "</div>\n",
              "      <button class=\"colab-df-convert\" onclick=\"convertToInteractive('df-407aff98-fb35-4187-b219-eab19a16a3c8')\"\n",
              "              title=\"Convert this dataframe to an interactive table.\"\n",
              "              style=\"display:none;\">\n",
              "        \n",
              "  <svg xmlns=\"http://www.w3.org/2000/svg\" height=\"24px\"viewBox=\"0 0 24 24\"\n",
              "       width=\"24px\">\n",
              "    <path d=\"M0 0h24v24H0V0z\" fill=\"none\"/>\n",
              "    <path d=\"M18.56 5.44l.94 2.06.94-2.06 2.06-.94-2.06-.94-.94-2.06-.94 2.06-2.06.94zm-11 1L8.5 8.5l.94-2.06 2.06-.94-2.06-.94L8.5 2.5l-.94 2.06-2.06.94zm10 10l.94 2.06.94-2.06 2.06-.94-2.06-.94-.94-2.06-.94 2.06-2.06.94z\"/><path d=\"M17.41 7.96l-1.37-1.37c-.4-.4-.92-.59-1.43-.59-.52 0-1.04.2-1.43.59L10.3 9.45l-7.72 7.72c-.78.78-.78 2.05 0 2.83L4 21.41c.39.39.9.59 1.41.59.51 0 1.02-.2 1.41-.59l7.78-7.78 2.81-2.81c.8-.78.8-2.07 0-2.86zM5.41 20L4 18.59l7.72-7.72 1.47 1.35L5.41 20z\"/>\n",
              "  </svg>\n",
              "      </button>\n",
              "      \n",
              "  <style>\n",
              "    .colab-df-container {\n",
              "      display:flex;\n",
              "      flex-wrap:wrap;\n",
              "      gap: 12px;\n",
              "    }\n",
              "\n",
              "    .colab-df-convert {\n",
              "      background-color: #E8F0FE;\n",
              "      border: none;\n",
              "      border-radius: 50%;\n",
              "      cursor: pointer;\n",
              "      display: none;\n",
              "      fill: #1967D2;\n",
              "      height: 32px;\n",
              "      padding: 0 0 0 0;\n",
              "      width: 32px;\n",
              "    }\n",
              "\n",
              "    .colab-df-convert:hover {\n",
              "      background-color: #E2EBFA;\n",
              "      box-shadow: 0px 1px 2px rgba(60, 64, 67, 0.3), 0px 1px 3px 1px rgba(60, 64, 67, 0.15);\n",
              "      fill: #174EA6;\n",
              "    }\n",
              "\n",
              "    [theme=dark] .colab-df-convert {\n",
              "      background-color: #3B4455;\n",
              "      fill: #D2E3FC;\n",
              "    }\n",
              "\n",
              "    [theme=dark] .colab-df-convert:hover {\n",
              "      background-color: #434B5C;\n",
              "      box-shadow: 0px 1px 3px 1px rgba(0, 0, 0, 0.15);\n",
              "      filter: drop-shadow(0px 1px 2px rgba(0, 0, 0, 0.3));\n",
              "      fill: #FFFFFF;\n",
              "    }\n",
              "  </style>\n",
              "\n",
              "      <script>\n",
              "        const buttonEl =\n",
              "          document.querySelector('#df-407aff98-fb35-4187-b219-eab19a16a3c8 button.colab-df-convert');\n",
              "        buttonEl.style.display =\n",
              "          google.colab.kernel.accessAllowed ? 'block' : 'none';\n",
              "\n",
              "        async function convertToInteractive(key) {\n",
              "          const element = document.querySelector('#df-407aff98-fb35-4187-b219-eab19a16a3c8');\n",
              "          const dataTable =\n",
              "            await google.colab.kernel.invokeFunction('convertToInteractive',\n",
              "                                                     [key], {});\n",
              "          if (!dataTable) return;\n",
              "\n",
              "          const docLinkHtml = 'Like what you see? Visit the ' +\n",
              "            '<a target=\"_blank\" href=https://colab.research.google.com/notebooks/data_table.ipynb>data table notebook</a>'\n",
              "            + ' to learn more about interactive tables.';\n",
              "          element.innerHTML = '';\n",
              "          dataTable['output_type'] = 'display_data';\n",
              "          await google.colab.output.renderOutput(dataTable, element);\n",
              "          const docLink = document.createElement('div');\n",
              "          docLink.innerHTML = docLinkHtml;\n",
              "          element.appendChild(docLink);\n",
              "        }\n",
              "      </script>\n",
              "    </div>\n",
              "  </div>\n",
              "  "
            ]
          },
          "metadata": {},
          "execution_count": 43
        }
      ]
    },
    {
      "cell_type": "markdown",
      "source": [
        "#5. Train and Test set preparation"
      ],
      "metadata": {
        "id": "frWTgq6Nj_bY"
      }
    },
    {
      "cell_type": "code",
      "source": [
        "from sklearn.model_selection import train_test_split\n",
        "\n",
        "train_pd, test_pd = train_test_split(df_final, test_size=0.1)"
      ],
      "metadata": {
        "id": "DJ2dqy5gdqXJ"
      },
      "execution_count": 44,
      "outputs": []
    },
    {
      "cell_type": "code",
      "source": [
        "train_pd.shape, test_pd.shape"
      ],
      "metadata": {
        "colab": {
          "base_uri": "https://localhost:8080/"
        },
        "id": "8Pj8VPjgeifP",
        "outputId": "c5ea6717-7aee-44eb-d8fe-7b2dd2d4ce58"
      },
      "execution_count": 45,
      "outputs": [
        {
          "output_type": "execute_result",
          "data": {
            "text/plain": [
              "((90, 38), (10, 38))"
            ]
          },
          "metadata": {},
          "execution_count": 45
        }
      ]
    },
    {
      "cell_type": "code",
      "source": [
        "X_train_pd = train_pd[cols_final[:8]]\n",
        "y_train_pd = train_pd[cols_final[8:]]\n",
        "X_test_pd = test_pd[cols_final[:8]]\n",
        "y_test_pd = test_pd[cols_final[8:]]"
      ],
      "metadata": {
        "id": "ZTrc9xd2gfp2"
      },
      "execution_count": 46,
      "outputs": []
    },
    {
      "cell_type": "code",
      "source": [
        "X_train_pd"
      ],
      "metadata": {
        "colab": {
          "base_uri": "https://localhost:8080/",
          "height": 485
        },
        "id": "sOA3-eM_kxCT",
        "outputId": "781f3c12-42dc-4dbd-fde1-7beabb7b7855"
      },
      "execution_count": 47,
      "outputs": [
        {
          "output_type": "execute_result",
          "data": {
            "text/plain": [
              "    Must be Android  Must be iPhone  No Preference  Budget_categorical  \\\n",
              "97                0               1              0                   0   \n",
              "24                0               0              1                   4   \n",
              "12                0               1              0                   2   \n",
              "94                1               0              0                   4   \n",
              "88                1               0              0                   2   \n",
              "..              ...             ...            ...                 ...   \n",
              "19                0               1              0                   1   \n",
              "44                1               0              0                   0   \n",
              "30                1               0              0                   3   \n",
              "95                0               0              1                   4   \n",
              "8                 0               1              0                   2   \n",
              "\n",
              "    Size_categorical  Camera_Importance_categorical  Usage_categorical  \\\n",
              "97                 1                              1                  2   \n",
              "24                 0                              4                  0   \n",
              "12                 0                              3                  0   \n",
              "94                 0                              2                  2   \n",
              "88                 1                              4                  3   \n",
              "..               ...                            ...                ...   \n",
              "19                 1                              4                  0   \n",
              "44                 0                              3                  0   \n",
              "30                 3                              3                  2   \n",
              "95                 0                              3                  2   \n",
              "8                  0                              3                  0   \n",
              "\n",
              "    Pay_More_For_Performance_categorical  \n",
              "97                                     3  \n",
              "24                                     1  \n",
              "12                                     3  \n",
              "94                                     2  \n",
              "88                                     2  \n",
              "..                                   ...  \n",
              "19                                     1  \n",
              "44                                     0  \n",
              "30                                     1  \n",
              "95                                     3  \n",
              "8                                      3  \n",
              "\n",
              "[90 rows x 8 columns]"
            ],
            "text/html": [
              "\n",
              "  <div id=\"df-8026b93d-29d6-4656-a8ad-cc3eb3b36ed2\">\n",
              "    <div class=\"colab-df-container\">\n",
              "      <div>\n",
              "<style scoped>\n",
              "    .dataframe tbody tr th:only-of-type {\n",
              "        vertical-align: middle;\n",
              "    }\n",
              "\n",
              "    .dataframe tbody tr th {\n",
              "        vertical-align: top;\n",
              "    }\n",
              "\n",
              "    .dataframe thead th {\n",
              "        text-align: right;\n",
              "    }\n",
              "</style>\n",
              "<table border=\"1\" class=\"dataframe\">\n",
              "  <thead>\n",
              "    <tr style=\"text-align: right;\">\n",
              "      <th></th>\n",
              "      <th>Must be Android</th>\n",
              "      <th>Must be iPhone</th>\n",
              "      <th>No Preference</th>\n",
              "      <th>Budget_categorical</th>\n",
              "      <th>Size_categorical</th>\n",
              "      <th>Camera_Importance_categorical</th>\n",
              "      <th>Usage_categorical</th>\n",
              "      <th>Pay_More_For_Performance_categorical</th>\n",
              "    </tr>\n",
              "  </thead>\n",
              "  <tbody>\n",
              "    <tr>\n",
              "      <th>97</th>\n",
              "      <td>0</td>\n",
              "      <td>1</td>\n",
              "      <td>0</td>\n",
              "      <td>0</td>\n",
              "      <td>1</td>\n",
              "      <td>1</td>\n",
              "      <td>2</td>\n",
              "      <td>3</td>\n",
              "    </tr>\n",
              "    <tr>\n",
              "      <th>24</th>\n",
              "      <td>0</td>\n",
              "      <td>0</td>\n",
              "      <td>1</td>\n",
              "      <td>4</td>\n",
              "      <td>0</td>\n",
              "      <td>4</td>\n",
              "      <td>0</td>\n",
              "      <td>1</td>\n",
              "    </tr>\n",
              "    <tr>\n",
              "      <th>12</th>\n",
              "      <td>0</td>\n",
              "      <td>1</td>\n",
              "      <td>0</td>\n",
              "      <td>2</td>\n",
              "      <td>0</td>\n",
              "      <td>3</td>\n",
              "      <td>0</td>\n",
              "      <td>3</td>\n",
              "    </tr>\n",
              "    <tr>\n",
              "      <th>94</th>\n",
              "      <td>1</td>\n",
              "      <td>0</td>\n",
              "      <td>0</td>\n",
              "      <td>4</td>\n",
              "      <td>0</td>\n",
              "      <td>2</td>\n",
              "      <td>2</td>\n",
              "      <td>2</td>\n",
              "    </tr>\n",
              "    <tr>\n",
              "      <th>88</th>\n",
              "      <td>1</td>\n",
              "      <td>0</td>\n",
              "      <td>0</td>\n",
              "      <td>2</td>\n",
              "      <td>1</td>\n",
              "      <td>4</td>\n",
              "      <td>3</td>\n",
              "      <td>2</td>\n",
              "    </tr>\n",
              "    <tr>\n",
              "      <th>...</th>\n",
              "      <td>...</td>\n",
              "      <td>...</td>\n",
              "      <td>...</td>\n",
              "      <td>...</td>\n",
              "      <td>...</td>\n",
              "      <td>...</td>\n",
              "      <td>...</td>\n",
              "      <td>...</td>\n",
              "    </tr>\n",
              "    <tr>\n",
              "      <th>19</th>\n",
              "      <td>0</td>\n",
              "      <td>1</td>\n",
              "      <td>0</td>\n",
              "      <td>1</td>\n",
              "      <td>1</td>\n",
              "      <td>4</td>\n",
              "      <td>0</td>\n",
              "      <td>1</td>\n",
              "    </tr>\n",
              "    <tr>\n",
              "      <th>44</th>\n",
              "      <td>1</td>\n",
              "      <td>0</td>\n",
              "      <td>0</td>\n",
              "      <td>0</td>\n",
              "      <td>0</td>\n",
              "      <td>3</td>\n",
              "      <td>0</td>\n",
              "      <td>0</td>\n",
              "    </tr>\n",
              "    <tr>\n",
              "      <th>30</th>\n",
              "      <td>1</td>\n",
              "      <td>0</td>\n",
              "      <td>0</td>\n",
              "      <td>3</td>\n",
              "      <td>3</td>\n",
              "      <td>3</td>\n",
              "      <td>2</td>\n",
              "      <td>1</td>\n",
              "    </tr>\n",
              "    <tr>\n",
              "      <th>95</th>\n",
              "      <td>0</td>\n",
              "      <td>0</td>\n",
              "      <td>1</td>\n",
              "      <td>4</td>\n",
              "      <td>0</td>\n",
              "      <td>3</td>\n",
              "      <td>2</td>\n",
              "      <td>3</td>\n",
              "    </tr>\n",
              "    <tr>\n",
              "      <th>8</th>\n",
              "      <td>0</td>\n",
              "      <td>1</td>\n",
              "      <td>0</td>\n",
              "      <td>2</td>\n",
              "      <td>0</td>\n",
              "      <td>3</td>\n",
              "      <td>0</td>\n",
              "      <td>3</td>\n",
              "    </tr>\n",
              "  </tbody>\n",
              "</table>\n",
              "<p>90 rows × 8 columns</p>\n",
              "</div>\n",
              "      <button class=\"colab-df-convert\" onclick=\"convertToInteractive('df-8026b93d-29d6-4656-a8ad-cc3eb3b36ed2')\"\n",
              "              title=\"Convert this dataframe to an interactive table.\"\n",
              "              style=\"display:none;\">\n",
              "        \n",
              "  <svg xmlns=\"http://www.w3.org/2000/svg\" height=\"24px\"viewBox=\"0 0 24 24\"\n",
              "       width=\"24px\">\n",
              "    <path d=\"M0 0h24v24H0V0z\" fill=\"none\"/>\n",
              "    <path d=\"M18.56 5.44l.94 2.06.94-2.06 2.06-.94-2.06-.94-.94-2.06-.94 2.06-2.06.94zm-11 1L8.5 8.5l.94-2.06 2.06-.94-2.06-.94L8.5 2.5l-.94 2.06-2.06.94zm10 10l.94 2.06.94-2.06 2.06-.94-2.06-.94-.94-2.06-.94 2.06-2.06.94z\"/><path d=\"M17.41 7.96l-1.37-1.37c-.4-.4-.92-.59-1.43-.59-.52 0-1.04.2-1.43.59L10.3 9.45l-7.72 7.72c-.78.78-.78 2.05 0 2.83L4 21.41c.39.39.9.59 1.41.59.51 0 1.02-.2 1.41-.59l7.78-7.78 2.81-2.81c.8-.78.8-2.07 0-2.86zM5.41 20L4 18.59l7.72-7.72 1.47 1.35L5.41 20z\"/>\n",
              "  </svg>\n",
              "      </button>\n",
              "      \n",
              "  <style>\n",
              "    .colab-df-container {\n",
              "      display:flex;\n",
              "      flex-wrap:wrap;\n",
              "      gap: 12px;\n",
              "    }\n",
              "\n",
              "    .colab-df-convert {\n",
              "      background-color: #E8F0FE;\n",
              "      border: none;\n",
              "      border-radius: 50%;\n",
              "      cursor: pointer;\n",
              "      display: none;\n",
              "      fill: #1967D2;\n",
              "      height: 32px;\n",
              "      padding: 0 0 0 0;\n",
              "      width: 32px;\n",
              "    }\n",
              "\n",
              "    .colab-df-convert:hover {\n",
              "      background-color: #E2EBFA;\n",
              "      box-shadow: 0px 1px 2px rgba(60, 64, 67, 0.3), 0px 1px 3px 1px rgba(60, 64, 67, 0.15);\n",
              "      fill: #174EA6;\n",
              "    }\n",
              "\n",
              "    [theme=dark] .colab-df-convert {\n",
              "      background-color: #3B4455;\n",
              "      fill: #D2E3FC;\n",
              "    }\n",
              "\n",
              "    [theme=dark] .colab-df-convert:hover {\n",
              "      background-color: #434B5C;\n",
              "      box-shadow: 0px 1px 3px 1px rgba(0, 0, 0, 0.15);\n",
              "      filter: drop-shadow(0px 1px 2px rgba(0, 0, 0, 0.3));\n",
              "      fill: #FFFFFF;\n",
              "    }\n",
              "  </style>\n",
              "\n",
              "      <script>\n",
              "        const buttonEl =\n",
              "          document.querySelector('#df-8026b93d-29d6-4656-a8ad-cc3eb3b36ed2 button.colab-df-convert');\n",
              "        buttonEl.style.display =\n",
              "          google.colab.kernel.accessAllowed ? 'block' : 'none';\n",
              "\n",
              "        async function convertToInteractive(key) {\n",
              "          const element = document.querySelector('#df-8026b93d-29d6-4656-a8ad-cc3eb3b36ed2');\n",
              "          const dataTable =\n",
              "            await google.colab.kernel.invokeFunction('convertToInteractive',\n",
              "                                                     [key], {});\n",
              "          if (!dataTable) return;\n",
              "\n",
              "          const docLinkHtml = 'Like what you see? Visit the ' +\n",
              "            '<a target=\"_blank\" href=https://colab.research.google.com/notebooks/data_table.ipynb>data table notebook</a>'\n",
              "            + ' to learn more about interactive tables.';\n",
              "          element.innerHTML = '';\n",
              "          dataTable['output_type'] = 'display_data';\n",
              "          await google.colab.output.renderOutput(dataTable, element);\n",
              "          const docLink = document.createElement('div');\n",
              "          docLink.innerHTML = docLinkHtml;\n",
              "          element.appendChild(docLink);\n",
              "        }\n",
              "      </script>\n",
              "    </div>\n",
              "  </div>\n",
              "  "
            ]
          },
          "metadata": {},
          "execution_count": 47
        }
      ]
    },
    {
      "cell_type": "code",
      "source": [
        "y_train_pd"
      ],
      "metadata": {
        "colab": {
          "base_uri": "https://localhost:8080/",
          "height": 540
        },
        "id": "vDRTWwg1gwaK",
        "outputId": "656b7544-25eb-4e86-dd64-e4b97988dd6e"
      },
      "execution_count": 48,
      "outputs": [
        {
          "output_type": "execute_result",
          "data": {
            "text/plain": [
              "    Apple iPhone 11  Apple iPhone 12  Apple iPhone 12 mini  Apple iPhone 13  \\\n",
              "97                2                3                     4                4   \n",
              "24                0                2                     2                4   \n",
              "12                3                1                     2                1   \n",
              "94                0                0                     0                0   \n",
              "88                0                0                     0                0   \n",
              "..              ...              ...                   ...              ...   \n",
              "19                3                2                     2                1   \n",
              "44                0                0                     0                0   \n",
              "30                0                0                     0                0   \n",
              "95                0                3                     2                4   \n",
              "8                 3                2                     3                1   \n",
              "\n",
              "    Apple iPhone 13 mini  Apple iPhone 13 Pro  Apple iPhone 13 Pro Max  \\\n",
              "97                     5                    3                        0   \n",
              "24                     4                    5                        5   \n",
              "12                     2                    1                        1   \n",
              "94                     0                    0                        0   \n",
              "88                     0                    0                        0   \n",
              "..                   ...                  ...                      ...   \n",
              "19                     2                    1                        0   \n",
              "44                     0                    0                        0   \n",
              "30                     0                    0                        0   \n",
              "95                     4                    4                        5   \n",
              "8                      2                    1                        1   \n",
              "\n",
              "    Apple iPhone SE (2022)  Google Pixel 5a  Google Pixel 6  ...  \\\n",
              "97                       3                0               0  ...   \n",
              "24                       0                2               3  ...   \n",
              "12                       3                0               0  ...   \n",
              "94                       0                0               3  ...   \n",
              "88                       0                4               5  ...   \n",
              "..                     ...              ...             ...  ...   \n",
              "19                       3                0               0  ...   \n",
              "44                       0                5               4  ...   \n",
              "30                       0                0               4  ...   \n",
              "95                       0                0               2  ...   \n",
              "8                        3                0               0  ...   \n",
              "\n",
              "    Samsung Galaxy A32  Samsung Galaxy A42  Samsung Galaxy A53  \\\n",
              "97                   0                   0                   0   \n",
              "24                   0                   0                   0   \n",
              "12                   0                   0                   0   \n",
              "94                   0                   0                   0   \n",
              "88                   0                   2                   3   \n",
              "..                 ...                 ...                 ...   \n",
              "19                   0                   0                   0   \n",
              "44                   0                   0                   1   \n",
              "30                   0                   0                   0   \n",
              "95                   0                   0                   0   \n",
              "8                    0                   0                   0   \n",
              "\n",
              "    Samsung Galaxy S20 FE  Samsung Galaxy S21 FE  Samsung Galaxy S22  \\\n",
              "97                      0                      0                   0   \n",
              "24                      0                      2                   4   \n",
              "12                      0                      0                   0   \n",
              "94                      2                      3                   0   \n",
              "88                      4                      0                   0   \n",
              "..                    ...                    ...                 ...   \n",
              "19                      0                      0                   0   \n",
              "44                      2                      3                   0   \n",
              "30                      3                      5                   0   \n",
              "95                      2                      3                   3   \n",
              "8                       0                      0                   0   \n",
              "\n",
              "    Samsung Galaxy S22 Ultra  Samsung Galaxy S22+  Sony Xperia 1 III  \\\n",
              "97                         0                    0                  0   \n",
              "24                         4                    4                  0   \n",
              "12                         0                    0                  0   \n",
              "94                         5                    4                  1   \n",
              "88                         0                    0                  0   \n",
              "..                       ...                  ...                ...   \n",
              "19                         0                    0                  0   \n",
              "44                         0                    3                  0   \n",
              "30                         0                    0                  0   \n",
              "95                         4                    4                  0   \n",
              "8                          0                    0                  0   \n",
              "\n",
              "    Sony Xperia 5 III  \n",
              "97                  0  \n",
              "24                  0  \n",
              "12                  0  \n",
              "94                  0  \n",
              "88                  0  \n",
              "..                ...  \n",
              "19                  0  \n",
              "44                  0  \n",
              "30                  0  \n",
              "95                  0  \n",
              "8                   0  \n",
              "\n",
              "[90 rows x 30 columns]"
            ],
            "text/html": [
              "\n",
              "  <div id=\"df-0e2df2ea-e15e-40b1-a97f-4273c2bdf000\">\n",
              "    <div class=\"colab-df-container\">\n",
              "      <div>\n",
              "<style scoped>\n",
              "    .dataframe tbody tr th:only-of-type {\n",
              "        vertical-align: middle;\n",
              "    }\n",
              "\n",
              "    .dataframe tbody tr th {\n",
              "        vertical-align: top;\n",
              "    }\n",
              "\n",
              "    .dataframe thead th {\n",
              "        text-align: right;\n",
              "    }\n",
              "</style>\n",
              "<table border=\"1\" class=\"dataframe\">\n",
              "  <thead>\n",
              "    <tr style=\"text-align: right;\">\n",
              "      <th></th>\n",
              "      <th>Apple iPhone 11</th>\n",
              "      <th>Apple iPhone 12</th>\n",
              "      <th>Apple iPhone 12 mini</th>\n",
              "      <th>Apple iPhone 13</th>\n",
              "      <th>Apple iPhone 13 mini</th>\n",
              "      <th>Apple iPhone 13 Pro</th>\n",
              "      <th>Apple iPhone 13 Pro Max</th>\n",
              "      <th>Apple iPhone SE (2022)</th>\n",
              "      <th>Google Pixel 5a</th>\n",
              "      <th>Google Pixel 6</th>\n",
              "      <th>...</th>\n",
              "      <th>Samsung Galaxy A32</th>\n",
              "      <th>Samsung Galaxy A42</th>\n",
              "      <th>Samsung Galaxy A53</th>\n",
              "      <th>Samsung Galaxy S20 FE</th>\n",
              "      <th>Samsung Galaxy S21 FE</th>\n",
              "      <th>Samsung Galaxy S22</th>\n",
              "      <th>Samsung Galaxy S22 Ultra</th>\n",
              "      <th>Samsung Galaxy S22+</th>\n",
              "      <th>Sony Xperia 1 III</th>\n",
              "      <th>Sony Xperia 5 III</th>\n",
              "    </tr>\n",
              "  </thead>\n",
              "  <tbody>\n",
              "    <tr>\n",
              "      <th>97</th>\n",
              "      <td>2</td>\n",
              "      <td>3</td>\n",
              "      <td>4</td>\n",
              "      <td>4</td>\n",
              "      <td>5</td>\n",
              "      <td>3</td>\n",
              "      <td>0</td>\n",
              "      <td>3</td>\n",
              "      <td>0</td>\n",
              "      <td>0</td>\n",
              "      <td>...</td>\n",
              "      <td>0</td>\n",
              "      <td>0</td>\n",
              "      <td>0</td>\n",
              "      <td>0</td>\n",
              "      <td>0</td>\n",
              "      <td>0</td>\n",
              "      <td>0</td>\n",
              "      <td>0</td>\n",
              "      <td>0</td>\n",
              "      <td>0</td>\n",
              "    </tr>\n",
              "    <tr>\n",
              "      <th>24</th>\n",
              "      <td>0</td>\n",
              "      <td>2</td>\n",
              "      <td>2</td>\n",
              "      <td>4</td>\n",
              "      <td>4</td>\n",
              "      <td>5</td>\n",
              "      <td>5</td>\n",
              "      <td>0</td>\n",
              "      <td>2</td>\n",
              "      <td>3</td>\n",
              "      <td>...</td>\n",
              "      <td>0</td>\n",
              "      <td>0</td>\n",
              "      <td>0</td>\n",
              "      <td>0</td>\n",
              "      <td>2</td>\n",
              "      <td>4</td>\n",
              "      <td>4</td>\n",
              "      <td>4</td>\n",
              "      <td>0</td>\n",
              "      <td>0</td>\n",
              "    </tr>\n",
              "    <tr>\n",
              "      <th>12</th>\n",
              "      <td>3</td>\n",
              "      <td>1</td>\n",
              "      <td>2</td>\n",
              "      <td>1</td>\n",
              "      <td>2</td>\n",
              "      <td>1</td>\n",
              "      <td>1</td>\n",
              "      <td>3</td>\n",
              "      <td>0</td>\n",
              "      <td>0</td>\n",
              "      <td>...</td>\n",
              "      <td>0</td>\n",
              "      <td>0</td>\n",
              "      <td>0</td>\n",
              "      <td>0</td>\n",
              "      <td>0</td>\n",
              "      <td>0</td>\n",
              "      <td>0</td>\n",
              "      <td>0</td>\n",
              "      <td>0</td>\n",
              "      <td>0</td>\n",
              "    </tr>\n",
              "    <tr>\n",
              "      <th>94</th>\n",
              "      <td>0</td>\n",
              "      <td>0</td>\n",
              "      <td>0</td>\n",
              "      <td>0</td>\n",
              "      <td>0</td>\n",
              "      <td>0</td>\n",
              "      <td>0</td>\n",
              "      <td>0</td>\n",
              "      <td>0</td>\n",
              "      <td>3</td>\n",
              "      <td>...</td>\n",
              "      <td>0</td>\n",
              "      <td>0</td>\n",
              "      <td>0</td>\n",
              "      <td>2</td>\n",
              "      <td>3</td>\n",
              "      <td>0</td>\n",
              "      <td>5</td>\n",
              "      <td>4</td>\n",
              "      <td>1</td>\n",
              "      <td>0</td>\n",
              "    </tr>\n",
              "    <tr>\n",
              "      <th>88</th>\n",
              "      <td>0</td>\n",
              "      <td>0</td>\n",
              "      <td>0</td>\n",
              "      <td>0</td>\n",
              "      <td>0</td>\n",
              "      <td>0</td>\n",
              "      <td>0</td>\n",
              "      <td>0</td>\n",
              "      <td>4</td>\n",
              "      <td>5</td>\n",
              "      <td>...</td>\n",
              "      <td>0</td>\n",
              "      <td>2</td>\n",
              "      <td>3</td>\n",
              "      <td>4</td>\n",
              "      <td>0</td>\n",
              "      <td>0</td>\n",
              "      <td>0</td>\n",
              "      <td>0</td>\n",
              "      <td>0</td>\n",
              "      <td>0</td>\n",
              "    </tr>\n",
              "    <tr>\n",
              "      <th>...</th>\n",
              "      <td>...</td>\n",
              "      <td>...</td>\n",
              "      <td>...</td>\n",
              "      <td>...</td>\n",
              "      <td>...</td>\n",
              "      <td>...</td>\n",
              "      <td>...</td>\n",
              "      <td>...</td>\n",
              "      <td>...</td>\n",
              "      <td>...</td>\n",
              "      <td>...</td>\n",
              "      <td>...</td>\n",
              "      <td>...</td>\n",
              "      <td>...</td>\n",
              "      <td>...</td>\n",
              "      <td>...</td>\n",
              "      <td>...</td>\n",
              "      <td>...</td>\n",
              "      <td>...</td>\n",
              "      <td>...</td>\n",
              "      <td>...</td>\n",
              "    </tr>\n",
              "    <tr>\n",
              "      <th>19</th>\n",
              "      <td>3</td>\n",
              "      <td>2</td>\n",
              "      <td>2</td>\n",
              "      <td>1</td>\n",
              "      <td>2</td>\n",
              "      <td>1</td>\n",
              "      <td>0</td>\n",
              "      <td>3</td>\n",
              "      <td>0</td>\n",
              "      <td>0</td>\n",
              "      <td>...</td>\n",
              "      <td>0</td>\n",
              "      <td>0</td>\n",
              "      <td>0</td>\n",
              "      <td>0</td>\n",
              "      <td>0</td>\n",
              "      <td>0</td>\n",
              "      <td>0</td>\n",
              "      <td>0</td>\n",
              "      <td>0</td>\n",
              "      <td>0</td>\n",
              "    </tr>\n",
              "    <tr>\n",
              "      <th>44</th>\n",
              "      <td>0</td>\n",
              "      <td>0</td>\n",
              "      <td>0</td>\n",
              "      <td>0</td>\n",
              "      <td>0</td>\n",
              "      <td>0</td>\n",
              "      <td>0</td>\n",
              "      <td>0</td>\n",
              "      <td>5</td>\n",
              "      <td>4</td>\n",
              "      <td>...</td>\n",
              "      <td>0</td>\n",
              "      <td>0</td>\n",
              "      <td>1</td>\n",
              "      <td>2</td>\n",
              "      <td>3</td>\n",
              "      <td>0</td>\n",
              "      <td>0</td>\n",
              "      <td>3</td>\n",
              "      <td>0</td>\n",
              "      <td>0</td>\n",
              "    </tr>\n",
              "    <tr>\n",
              "      <th>30</th>\n",
              "      <td>0</td>\n",
              "      <td>0</td>\n",
              "      <td>0</td>\n",
              "      <td>0</td>\n",
              "      <td>0</td>\n",
              "      <td>0</td>\n",
              "      <td>0</td>\n",
              "      <td>0</td>\n",
              "      <td>0</td>\n",
              "      <td>4</td>\n",
              "      <td>...</td>\n",
              "      <td>0</td>\n",
              "      <td>0</td>\n",
              "      <td>0</td>\n",
              "      <td>3</td>\n",
              "      <td>5</td>\n",
              "      <td>0</td>\n",
              "      <td>0</td>\n",
              "      <td>0</td>\n",
              "      <td>0</td>\n",
              "      <td>0</td>\n",
              "    </tr>\n",
              "    <tr>\n",
              "      <th>95</th>\n",
              "      <td>0</td>\n",
              "      <td>3</td>\n",
              "      <td>2</td>\n",
              "      <td>4</td>\n",
              "      <td>4</td>\n",
              "      <td>4</td>\n",
              "      <td>5</td>\n",
              "      <td>0</td>\n",
              "      <td>0</td>\n",
              "      <td>2</td>\n",
              "      <td>...</td>\n",
              "      <td>0</td>\n",
              "      <td>0</td>\n",
              "      <td>0</td>\n",
              "      <td>2</td>\n",
              "      <td>3</td>\n",
              "      <td>3</td>\n",
              "      <td>4</td>\n",
              "      <td>4</td>\n",
              "      <td>0</td>\n",
              "      <td>0</td>\n",
              "    </tr>\n",
              "    <tr>\n",
              "      <th>8</th>\n",
              "      <td>3</td>\n",
              "      <td>2</td>\n",
              "      <td>3</td>\n",
              "      <td>1</td>\n",
              "      <td>2</td>\n",
              "      <td>1</td>\n",
              "      <td>1</td>\n",
              "      <td>3</td>\n",
              "      <td>0</td>\n",
              "      <td>0</td>\n",
              "      <td>...</td>\n",
              "      <td>0</td>\n",
              "      <td>0</td>\n",
              "      <td>0</td>\n",
              "      <td>0</td>\n",
              "      <td>0</td>\n",
              "      <td>0</td>\n",
              "      <td>0</td>\n",
              "      <td>0</td>\n",
              "      <td>0</td>\n",
              "      <td>0</td>\n",
              "    </tr>\n",
              "  </tbody>\n",
              "</table>\n",
              "<p>90 rows × 30 columns</p>\n",
              "</div>\n",
              "      <button class=\"colab-df-convert\" onclick=\"convertToInteractive('df-0e2df2ea-e15e-40b1-a97f-4273c2bdf000')\"\n",
              "              title=\"Convert this dataframe to an interactive table.\"\n",
              "              style=\"display:none;\">\n",
              "        \n",
              "  <svg xmlns=\"http://www.w3.org/2000/svg\" height=\"24px\"viewBox=\"0 0 24 24\"\n",
              "       width=\"24px\">\n",
              "    <path d=\"M0 0h24v24H0V0z\" fill=\"none\"/>\n",
              "    <path d=\"M18.56 5.44l.94 2.06.94-2.06 2.06-.94-2.06-.94-.94-2.06-.94 2.06-2.06.94zm-11 1L8.5 8.5l.94-2.06 2.06-.94-2.06-.94L8.5 2.5l-.94 2.06-2.06.94zm10 10l.94 2.06.94-2.06 2.06-.94-2.06-.94-.94-2.06-.94 2.06-2.06.94z\"/><path d=\"M17.41 7.96l-1.37-1.37c-.4-.4-.92-.59-1.43-.59-.52 0-1.04.2-1.43.59L10.3 9.45l-7.72 7.72c-.78.78-.78 2.05 0 2.83L4 21.41c.39.39.9.59 1.41.59.51 0 1.02-.2 1.41-.59l7.78-7.78 2.81-2.81c.8-.78.8-2.07 0-2.86zM5.41 20L4 18.59l7.72-7.72 1.47 1.35L5.41 20z\"/>\n",
              "  </svg>\n",
              "      </button>\n",
              "      \n",
              "  <style>\n",
              "    .colab-df-container {\n",
              "      display:flex;\n",
              "      flex-wrap:wrap;\n",
              "      gap: 12px;\n",
              "    }\n",
              "\n",
              "    .colab-df-convert {\n",
              "      background-color: #E8F0FE;\n",
              "      border: none;\n",
              "      border-radius: 50%;\n",
              "      cursor: pointer;\n",
              "      display: none;\n",
              "      fill: #1967D2;\n",
              "      height: 32px;\n",
              "      padding: 0 0 0 0;\n",
              "      width: 32px;\n",
              "    }\n",
              "\n",
              "    .colab-df-convert:hover {\n",
              "      background-color: #E2EBFA;\n",
              "      box-shadow: 0px 1px 2px rgba(60, 64, 67, 0.3), 0px 1px 3px 1px rgba(60, 64, 67, 0.15);\n",
              "      fill: #174EA6;\n",
              "    }\n",
              "\n",
              "    [theme=dark] .colab-df-convert {\n",
              "      background-color: #3B4455;\n",
              "      fill: #D2E3FC;\n",
              "    }\n",
              "\n",
              "    [theme=dark] .colab-df-convert:hover {\n",
              "      background-color: #434B5C;\n",
              "      box-shadow: 0px 1px 3px 1px rgba(0, 0, 0, 0.15);\n",
              "      filter: drop-shadow(0px 1px 2px rgba(0, 0, 0, 0.3));\n",
              "      fill: #FFFFFF;\n",
              "    }\n",
              "  </style>\n",
              "\n",
              "      <script>\n",
              "        const buttonEl =\n",
              "          document.querySelector('#df-0e2df2ea-e15e-40b1-a97f-4273c2bdf000 button.colab-df-convert');\n",
              "        buttonEl.style.display =\n",
              "          google.colab.kernel.accessAllowed ? 'block' : 'none';\n",
              "\n",
              "        async function convertToInteractive(key) {\n",
              "          const element = document.querySelector('#df-0e2df2ea-e15e-40b1-a97f-4273c2bdf000');\n",
              "          const dataTable =\n",
              "            await google.colab.kernel.invokeFunction('convertToInteractive',\n",
              "                                                     [key], {});\n",
              "          if (!dataTable) return;\n",
              "\n",
              "          const docLinkHtml = 'Like what you see? Visit the ' +\n",
              "            '<a target=\"_blank\" href=https://colab.research.google.com/notebooks/data_table.ipynb>data table notebook</a>'\n",
              "            + ' to learn more about interactive tables.';\n",
              "          element.innerHTML = '';\n",
              "          dataTable['output_type'] = 'display_data';\n",
              "          await google.colab.output.renderOutput(dataTable, element);\n",
              "          const docLink = document.createElement('div');\n",
              "          docLink.innerHTML = docLinkHtml;\n",
              "          element.appendChild(docLink);\n",
              "        }\n",
              "      </script>\n",
              "    </div>\n",
              "  </div>\n",
              "  "
            ]
          },
          "metadata": {},
          "execution_count": 48
        }
      ]
    },
    {
      "cell_type": "code",
      "source": [
        "X_train_np = X_train_pd.to_numpy().astype(float)\n",
        "X_test_np = X_test_pd.to_numpy().astype(float)\n",
        "y_train_np = y_train_pd.to_numpy().astype(float)\n",
        "y_test_np = y_test_pd.to_numpy().astype(float)"
      ],
      "metadata": {
        "id": "LwWqRVvcnuYU"
      },
      "execution_count": 49,
      "outputs": []
    },
    {
      "cell_type": "code",
      "source": [
        "X_train_np.shape, X_test_np.shape, y_train_np.shape, y_test_np.shape"
      ],
      "metadata": {
        "colab": {
          "base_uri": "https://localhost:8080/"
        },
        "id": "TLIMzfdSpunO",
        "outputId": "dab775be-5d4a-4842-c8b1-20222e307c25"
      },
      "execution_count": 50,
      "outputs": [
        {
          "output_type": "execute_result",
          "data": {
            "text/plain": [
              "((90, 8), (10, 8), (90, 30), (10, 30))"
            ]
          },
          "metadata": {},
          "execution_count": 50
        }
      ]
    },
    {
      "cell_type": "markdown",
      "source": [
        "#6. Linear Model"
      ],
      "metadata": {
        "id": "NUPBRTn-k9SA"
      }
    },
    {
      "cell_type": "markdown",
      "source": [
        "A linear model is the simplest of the models that is possible. It just contains a single dense layer with a linear activation function. The weights of the dense layer can be directly interpreted as the embeddings of the various phones."
      ],
      "metadata": {
        "id": "LnMOSCEXpVO1"
      }
    },
    {
      "cell_type": "markdown",
      "source": [
        "Custom loss funtion"
      ],
      "metadata": {
        "id": "h2NZ02BDlKO5"
      }
    },
    {
      "cell_type": "code",
      "source": [
        "#Custom loss function that weighs top rated items more\n",
        "def weighted_mse(y_true, y_pred):\n",
        "  sqr_error = tf.square(y_true - y_pred)\n",
        "  weighted_sqr_error = tf.math.exp(y_true)*sqr_error\n",
        "  mean_weighted_sqr_error = tf.math.reduce_mean(weighted_sqr_error)\n",
        "  return mean_weighted_sqr_error"
      ],
      "metadata": {
        "id": "gCKFTslk-piy"
      },
      "execution_count": 51,
      "outputs": []
    },
    {
      "cell_type": "markdown",
      "source": [
        "A simple linear model."
      ],
      "metadata": {
        "id": "lsvv_6jblNrQ"
      }
    },
    {
      "cell_type": "code",
      "source": [
        "linear_model = tf.keras.models.Sequential([\n",
        "  tf.keras.layers.InputLayer(input_shape=(8,)),\n",
        "  tf.keras.layers.Dense(30, activation='linear', use_bias=False)\n",
        "])"
      ],
      "metadata": {
        "id": "EPRH2PBiqDsW"
      },
      "execution_count": 52,
      "outputs": []
    },
    {
      "cell_type": "code",
      "source": [
        "linear_model.summary()"
      ],
      "metadata": {
        "colab": {
          "base_uri": "https://localhost:8080/"
        },
        "id": "pInk0NpqUMy2",
        "outputId": "67811d5c-d725-4951-8889-71b90c1a0cae"
      },
      "execution_count": 53,
      "outputs": [
        {
          "output_type": "stream",
          "name": "stdout",
          "text": [
            "Model: \"sequential\"\n",
            "_________________________________________________________________\n",
            " Layer (type)                Output Shape              Param #   \n",
            "=================================================================\n",
            " dense (Dense)               (None, 30)                240       \n",
            "                                                                 \n",
            "=================================================================\n",
            "Total params: 240\n",
            "Trainable params: 240\n",
            "Non-trainable params: 0\n",
            "_________________________________________________________________\n"
          ]
        }
      ]
    },
    {
      "cell_type": "code",
      "source": [
        "optimizer = tf.keras.optimizers.Adam(learning_rate=.1)"
      ],
      "metadata": {
        "id": "C82kt_XEtXhe"
      },
      "execution_count": 54,
      "outputs": []
    },
    {
      "cell_type": "code",
      "source": [
        "linear_model.compile(optimizer=optimizer, loss = weighted_mse)"
      ],
      "metadata": {
        "id": "9mxmbxbetwTc"
      },
      "execution_count": 55,
      "outputs": []
    },
    {
      "cell_type": "code",
      "source": [
        "history = linear_model.fit(X_train_np, y_train_np, validation_split = 0.15, epochs=100)"
      ],
      "metadata": {
        "colab": {
          "base_uri": "https://localhost:8080/"
        },
        "id": "9j2m9pPMuTct",
        "outputId": "9467b359-99a6-4879-8ff9-874afac36a3d"
      },
      "execution_count": 56,
      "outputs": [
        {
          "output_type": "stream",
          "name": "stdout",
          "text": [
            "Epoch 1/100\n",
            "3/3 [==============================] - 1s 194ms/step - loss: 166.8300 - val_loss: 77.3006\n",
            "Epoch 2/100\n",
            "3/3 [==============================] - 0s 24ms/step - loss: 61.0622 - val_loss: 58.9574\n",
            "Epoch 3/100\n",
            "3/3 [==============================] - 0s 26ms/step - loss: 40.8240 - val_loss: 63.5630\n",
            "Epoch 4/100\n",
            "3/3 [==============================] - 0s 28ms/step - loss: 41.5190 - val_loss: 62.7056\n",
            "Epoch 5/100\n",
            "3/3 [==============================] - 0s 30ms/step - loss: 37.3690 - val_loss: 56.4066\n",
            "Epoch 6/100\n",
            "3/3 [==============================] - 0s 22ms/step - loss: 30.1560 - val_loss: 48.5921\n",
            "Epoch 7/100\n",
            "3/3 [==============================] - 0s 51ms/step - loss: 24.6597 - val_loss: 42.5515\n",
            "Epoch 8/100\n",
            "3/3 [==============================] - 0s 58ms/step - loss: 21.3027 - val_loss: 38.4937\n",
            "Epoch 9/100\n",
            "3/3 [==============================] - 0s 21ms/step - loss: 19.1254 - val_loss: 35.7954\n",
            "Epoch 10/100\n",
            "3/3 [==============================] - 0s 51ms/step - loss: 17.8481 - val_loss: 34.4114\n",
            "Epoch 11/100\n",
            "3/3 [==============================] - 0s 24ms/step - loss: 16.6736 - val_loss: 33.7440\n",
            "Epoch 12/100\n",
            "3/3 [==============================] - 0s 24ms/step - loss: 16.0663 - val_loss: 33.6338\n",
            "Epoch 13/100\n",
            "3/3 [==============================] - 0s 34ms/step - loss: 14.8511 - val_loss: 33.3795\n",
            "Epoch 14/100\n",
            "3/3 [==============================] - 0s 27ms/step - loss: 13.8566 - val_loss: 33.3918\n",
            "Epoch 15/100\n",
            "3/3 [==============================] - 0s 27ms/step - loss: 13.4314 - val_loss: 33.5600\n",
            "Epoch 16/100\n",
            "3/3 [==============================] - 0s 28ms/step - loss: 13.1948 - val_loss: 33.2065\n",
            "Epoch 17/100\n",
            "3/3 [==============================] - 0s 25ms/step - loss: 12.8326 - val_loss: 32.4036\n",
            "Epoch 18/100\n",
            "3/3 [==============================] - 0s 25ms/step - loss: 12.4066 - val_loss: 31.8090\n",
            "Epoch 19/100\n",
            "3/3 [==============================] - 0s 24ms/step - loss: 12.0645 - val_loss: 31.1731\n",
            "Epoch 20/100\n",
            "3/3 [==============================] - 0s 30ms/step - loss: 11.7618 - val_loss: 30.3021\n",
            "Epoch 21/100\n",
            "3/3 [==============================] - 0s 41ms/step - loss: 11.5694 - val_loss: 29.1446\n",
            "Epoch 22/100\n",
            "3/3 [==============================] - 0s 26ms/step - loss: 11.3141 - val_loss: 28.3841\n",
            "Epoch 23/100\n",
            "3/3 [==============================] - 0s 28ms/step - loss: 11.0593 - val_loss: 27.7860\n",
            "Epoch 24/100\n",
            "3/3 [==============================] - 0s 20ms/step - loss: 10.9472 - val_loss: 27.2925\n",
            "Epoch 25/100\n",
            "3/3 [==============================] - 0s 48ms/step - loss: 10.7077 - val_loss: 26.9611\n",
            "Epoch 26/100\n",
            "3/3 [==============================] - 0s 37ms/step - loss: 10.6092 - val_loss: 26.5493\n",
            "Epoch 27/100\n",
            "3/3 [==============================] - 0s 33ms/step - loss: 10.4058 - val_loss: 26.0701\n",
            "Epoch 28/100\n",
            "3/3 [==============================] - 0s 30ms/step - loss: 10.3410 - val_loss: 25.5005\n",
            "Epoch 29/100\n",
            "3/3 [==============================] - 0s 21ms/step - loss: 10.2831 - val_loss: 24.5067\n",
            "Epoch 30/100\n",
            "3/3 [==============================] - 0s 22ms/step - loss: 10.0035 - val_loss: 23.7973\n",
            "Epoch 31/100\n",
            "3/3 [==============================] - 0s 24ms/step - loss: 9.8925 - val_loss: 23.6296\n",
            "Epoch 32/100\n",
            "3/3 [==============================] - 0s 36ms/step - loss: 9.8367 - val_loss: 23.8110\n",
            "Epoch 33/100\n",
            "3/3 [==============================] - 0s 36ms/step - loss: 9.6572 - val_loss: 23.5668\n",
            "Epoch 34/100\n",
            "3/3 [==============================] - 0s 43ms/step - loss: 9.4723 - val_loss: 23.1416\n",
            "Epoch 35/100\n",
            "3/3 [==============================] - 0s 23ms/step - loss: 9.3535 - val_loss: 22.8692\n",
            "Epoch 36/100\n",
            "3/3 [==============================] - 0s 20ms/step - loss: 9.2678 - val_loss: 22.6009\n",
            "Epoch 37/100\n",
            "3/3 [==============================] - 0s 21ms/step - loss: 9.2184 - val_loss: 22.1843\n",
            "Epoch 38/100\n",
            "3/3 [==============================] - 0s 29ms/step - loss: 9.0984 - val_loss: 21.4979\n",
            "Epoch 39/100\n",
            "3/3 [==============================] - 0s 17ms/step - loss: 8.9830 - val_loss: 21.1743\n",
            "Epoch 40/100\n",
            "3/3 [==============================] - 0s 35ms/step - loss: 8.8888 - val_loss: 21.5624\n",
            "Epoch 41/100\n",
            "3/3 [==============================] - 0s 36ms/step - loss: 8.8687 - val_loss: 21.4939\n",
            "Epoch 42/100\n",
            "3/3 [==============================] - 0s 34ms/step - loss: 8.7201 - val_loss: 21.0025\n",
            "Epoch 43/100\n",
            "3/3 [==============================] - 0s 47ms/step - loss: 8.6557 - val_loss: 20.5075\n",
            "Epoch 44/100\n",
            "3/3 [==============================] - 0s 21ms/step - loss: 8.5514 - val_loss: 20.2060\n",
            "Epoch 45/100\n",
            "3/3 [==============================] - 0s 22ms/step - loss: 8.4603 - val_loss: 19.7241\n",
            "Epoch 46/100\n",
            "3/3 [==============================] - 0s 15ms/step - loss: 8.5113 - val_loss: 19.4191\n",
            "Epoch 47/100\n",
            "3/3 [==============================] - 0s 14ms/step - loss: 8.4170 - val_loss: 19.4112\n",
            "Epoch 48/100\n",
            "3/3 [==============================] - 0s 14ms/step - loss: 8.4070 - val_loss: 19.3200\n",
            "Epoch 49/100\n",
            "3/3 [==============================] - 0s 14ms/step - loss: 8.3309 - val_loss: 19.0039\n",
            "Epoch 50/100\n",
            "3/3 [==============================] - 0s 15ms/step - loss: 8.2907 - val_loss: 18.3177\n",
            "Epoch 51/100\n",
            "3/3 [==============================] - 0s 12ms/step - loss: 8.1961 - val_loss: 17.9339\n",
            "Epoch 52/100\n",
            "3/3 [==============================] - 0s 12ms/step - loss: 8.0515 - val_loss: 18.1539\n",
            "Epoch 53/100\n",
            "3/3 [==============================] - 0s 12ms/step - loss: 8.0430 - val_loss: 18.4528\n",
            "Epoch 54/100\n",
            "3/3 [==============================] - 0s 20ms/step - loss: 7.9956 - val_loss: 17.7802\n",
            "Epoch 55/100\n",
            "3/3 [==============================] - 0s 15ms/step - loss: 7.9374 - val_loss: 17.4446\n",
            "Epoch 56/100\n",
            "3/3 [==============================] - 0s 13ms/step - loss: 7.8996 - val_loss: 16.6637\n",
            "Epoch 57/100\n",
            "3/3 [==============================] - 0s 12ms/step - loss: 7.7366 - val_loss: 16.2821\n",
            "Epoch 58/100\n",
            "3/3 [==============================] - 0s 14ms/step - loss: 7.9205 - val_loss: 16.3678\n",
            "Epoch 59/100\n",
            "3/3 [==============================] - 0s 12ms/step - loss: 7.8417 - val_loss: 15.9213\n",
            "Epoch 60/100\n",
            "3/3 [==============================] - 0s 14ms/step - loss: 7.6606 - val_loss: 16.1274\n",
            "Epoch 61/100\n",
            "3/3 [==============================] - 0s 15ms/step - loss: 7.8187 - val_loss: 16.2716\n",
            "Epoch 62/100\n",
            "3/3 [==============================] - 0s 13ms/step - loss: 7.6715 - val_loss: 16.1402\n",
            "Epoch 63/100\n",
            "3/3 [==============================] - 0s 17ms/step - loss: 7.6669 - val_loss: 15.7782\n",
            "Epoch 64/100\n",
            "3/3 [==============================] - 0s 14ms/step - loss: 7.5850 - val_loss: 15.0520\n",
            "Epoch 65/100\n",
            "3/3 [==============================] - 0s 17ms/step - loss: 7.6013 - val_loss: 14.7739\n",
            "Epoch 66/100\n",
            "3/3 [==============================] - 0s 14ms/step - loss: 7.6453 - val_loss: 15.2677\n",
            "Epoch 67/100\n",
            "3/3 [==============================] - 0s 13ms/step - loss: 7.5565 - val_loss: 16.1711\n",
            "Epoch 68/100\n",
            "3/3 [==============================] - 0s 19ms/step - loss: 7.6247 - val_loss: 15.9029\n",
            "Epoch 69/100\n",
            "3/3 [==============================] - 0s 18ms/step - loss: 7.4458 - val_loss: 15.4559\n",
            "Epoch 70/100\n",
            "3/3 [==============================] - 0s 18ms/step - loss: 7.7971 - val_loss: 14.8514\n",
            "Epoch 71/100\n",
            "3/3 [==============================] - 0s 15ms/step - loss: 7.4543 - val_loss: 15.6953\n",
            "Epoch 72/100\n",
            "3/3 [==============================] - 0s 18ms/step - loss: 7.5454 - val_loss: 15.5030\n",
            "Epoch 73/100\n",
            "3/3 [==============================] - 0s 17ms/step - loss: 7.4354 - val_loss: 14.3469\n",
            "Epoch 74/100\n",
            "3/3 [==============================] - 0s 16ms/step - loss: 7.4079 - val_loss: 14.3025\n",
            "Epoch 75/100\n",
            "3/3 [==============================] - 0s 17ms/step - loss: 7.3811 - val_loss: 14.5406\n",
            "Epoch 76/100\n",
            "3/3 [==============================] - 0s 17ms/step - loss: 7.2912 - val_loss: 15.1795\n",
            "Epoch 77/100\n",
            "3/3 [==============================] - 0s 18ms/step - loss: 7.4013 - val_loss: 14.4573\n",
            "Epoch 78/100\n",
            "3/3 [==============================] - 0s 15ms/step - loss: 7.3121 - val_loss: 13.3459\n",
            "Epoch 79/100\n",
            "3/3 [==============================] - 0s 16ms/step - loss: 7.3006 - val_loss: 13.6621\n",
            "Epoch 80/100\n",
            "3/3 [==============================] - 0s 15ms/step - loss: 7.3428 - val_loss: 14.5190\n",
            "Epoch 81/100\n",
            "3/3 [==============================] - 0s 16ms/step - loss: 7.2358 - val_loss: 14.3933\n",
            "Epoch 82/100\n",
            "3/3 [==============================] - 0s 17ms/step - loss: 7.2405 - val_loss: 13.6737\n",
            "Epoch 83/100\n",
            "3/3 [==============================] - 0s 20ms/step - loss: 7.3497 - val_loss: 13.4820\n",
            "Epoch 84/100\n",
            "3/3 [==============================] - 0s 26ms/step - loss: 7.2711 - val_loss: 13.5762\n",
            "Epoch 85/100\n",
            "3/3 [==============================] - 0s 33ms/step - loss: 7.1737 - val_loss: 13.4004\n",
            "Epoch 86/100\n",
            "3/3 [==============================] - 0s 15ms/step - loss: 7.2067 - val_loss: 13.0331\n",
            "Epoch 87/100\n",
            "3/3 [==============================] - 0s 18ms/step - loss: 7.1596 - val_loss: 12.8509\n",
            "Epoch 88/100\n",
            "3/3 [==============================] - 0s 18ms/step - loss: 7.1579 - val_loss: 13.0669\n",
            "Epoch 89/100\n",
            "3/3 [==============================] - 0s 15ms/step - loss: 7.2259 - val_loss: 13.3475\n",
            "Epoch 90/100\n",
            "3/3 [==============================] - 0s 13ms/step - loss: 7.1613 - val_loss: 12.6666\n",
            "Epoch 91/100\n",
            "3/3 [==============================] - 0s 13ms/step - loss: 7.1133 - val_loss: 12.4497\n",
            "Epoch 92/100\n",
            "3/3 [==============================] - 0s 13ms/step - loss: 7.1393 - val_loss: 13.2158\n",
            "Epoch 93/100\n",
            "3/3 [==============================] - 0s 14ms/step - loss: 7.1737 - val_loss: 13.7042\n",
            "Epoch 94/100\n",
            "3/3 [==============================] - 0s 13ms/step - loss: 7.1965 - val_loss: 13.3146\n",
            "Epoch 95/100\n",
            "3/3 [==============================] - 0s 14ms/step - loss: 7.1012 - val_loss: 12.6637\n",
            "Epoch 96/100\n",
            "3/3 [==============================] - 0s 14ms/step - loss: 7.1154 - val_loss: 12.6953\n",
            "Epoch 97/100\n",
            "3/3 [==============================] - 0s 13ms/step - loss: 7.1737 - val_loss: 13.0407\n",
            "Epoch 98/100\n",
            "3/3 [==============================] - 0s 15ms/step - loss: 7.0793 - val_loss: 12.9452\n",
            "Epoch 99/100\n",
            "3/3 [==============================] - 0s 13ms/step - loss: 7.1841 - val_loss: 13.0312\n",
            "Epoch 100/100\n",
            "3/3 [==============================] - 0s 13ms/step - loss: 7.1123 - val_loss: 12.5993\n"
          ]
        }
      ]
    },
    {
      "cell_type": "code",
      "source": [
        "plt.plot(history.history['loss'])\n",
        "plt.plot(history.history['val_loss'])\n",
        "plt.title('model loss')\n",
        "plt.ylabel('loss')\n",
        "plt.xlabel('epoch')\n",
        "plt.legend(['train', 'val'], loc='upper left')\n",
        "plt.show()"
      ],
      "metadata": {
        "colab": {
          "base_uri": "https://localhost:8080/",
          "height": 295
        },
        "id": "JLCPYHJEu9BS",
        "outputId": "43217243-4eae-4355-c62a-640074332113"
      },
      "execution_count": 57,
      "outputs": [
        {
          "output_type": "display_data",
          "data": {
            "text/plain": [
              "<Figure size 432x288 with 1 Axes>"
            ],
            "image/png": "[encoded data removed]"
          },
          "metadata": {
            "needs_background": "light"
          }
        }
      ]
    },
    {
      "cell_type": "code",
      "source": [
        "from sklearn.metrics import mean_squared_error as mse\n",
        "mse(linear_model.predict(X_test_np), y_test_np)"
      ],
      "metadata": {
        "colab": {
          "base_uri": "https://localhost:8080/"
        },
        "id": "JKBCzmbRDrj4",
        "outputId": "253f41bd-44de-4c66-ac9e-1ae474e307f6"
      },
      "execution_count": 58,
      "outputs": [
        {
          "output_type": "stream",
          "name": "stdout",
          "text": [
            "1/1 [==============================] - 0s 64ms/step\n"
          ]
        },
        {
          "output_type": "execute_result",
          "data": {
            "text/plain": [
              "3.788543659329511"
            ]
          },
          "metadata": {},
          "execution_count": 58
        }
      ]
    },
    {
      "cell_type": "markdown",
      "source": [
        "#7. Non-Linear Model"
      ],
      "metadata": {
        "id": "L7fzwI-Rlahd"
      }
    },
    {
      "cell_type": "code",
      "source": [
        "non_linear_model = tf.keras.models.Sequential([\n",
        "  tf.keras.layers.InputLayer(input_shape=(8,)),\n",
        "  tf.keras.layers.Dense(30, activation='relu'),\n",
        "  tf.keras.layers.Dense(30, activation='relu'),\n",
        "  tf.keras.layers.Dense(30, activation='linear')\n",
        "])"
      ],
      "metadata": {
        "id": "8_wRI9nKmGdY"
      },
      "execution_count": 97,
      "outputs": []
    },
    {
      "cell_type": "code",
      "source": [
        "non_linear_model.summary()"
      ],
      "metadata": {
        "colab": {
          "base_uri": "https://localhost:8080/"
        },
        "id": "gC61-h6NnM7l",
        "outputId": "fd5c293f-453e-421f-9b42-846b94e9b893"
      },
      "execution_count": 98,
      "outputs": [
        {
          "output_type": "stream",
          "name": "stdout",
          "text": [
            "Model: \"sequential_4\"\n",
            "_________________________________________________________________\n",
            " Layer (type)                Output Shape              Param #   \n",
            "=================================================================\n",
            " dense_10 (Dense)            (None, 30)                270       \n",
            "                                                                 \n",
            " dense_11 (Dense)            (None, 30)                930       \n",
            "                                                                 \n",
            " dense_12 (Dense)            (None, 30)                930       \n",
            "                                                                 \n",
            "=================================================================\n",
            "Total params: 2,130\n",
            "Trainable params: 2,130\n",
            "Non-trainable params: 0\n",
            "_________________________________________________________________\n"
          ]
        }
      ]
    },
    {
      "cell_type": "code",
      "source": [
        "optimizer = tf.keras.optimizers.Adam(learning_rate=.1)"
      ],
      "metadata": {
        "id": "jG-Hop8onUXw"
      },
      "execution_count": 99,
      "outputs": []
    },
    {
      "cell_type": "code",
      "source": [
        "non_linear_model.compile(optimizer=optimizer, loss = weighted_mse)"
      ],
      "metadata": {
        "id": "f6GMt0wfnb3p"
      },
      "execution_count": 100,
      "outputs": []
    },
    {
      "cell_type": "code",
      "source": [
        "history = non_linear_model.fit(X_train_np, y_train_np, validation_split = 0.15, epochs=25)"
      ],
      "metadata": {
        "colab": {
          "base_uri": "https://localhost:8080/"
        },
        "id": "ufx03QSNnisE",
        "outputId": "5842d0be-217e-4709-842b-5507e02db4f1"
      },
      "execution_count": 101,
      "outputs": [
        {
          "output_type": "stream",
          "name": "stdout",
          "text": [
            "Epoch 1/25\n",
            "3/3 [==============================] - 1s 93ms/step - loss: 117.0809 - val_loss: 52.5105\n",
            "Epoch 2/25\n",
            "3/3 [==============================] - 0s 18ms/step - loss: 40.8702 - val_loss: 24.9437\n",
            "Epoch 3/25\n",
            "3/3 [==============================] - 0s 20ms/step - loss: 26.4981 - val_loss: 34.6094\n",
            "Epoch 4/25\n",
            "3/3 [==============================] - 0s 20ms/step - loss: 27.9356 - val_loss: 26.9816\n",
            "Epoch 5/25\n",
            "3/3 [==============================] - 0s 18ms/step - loss: 22.9396 - val_loss: 25.2702\n",
            "Epoch 6/25\n",
            "3/3 [==============================] - 0s 19ms/step - loss: 19.3601 - val_loss: 20.9110\n",
            "Epoch 7/25\n",
            "3/3 [==============================] - 0s 19ms/step - loss: 17.7185 - val_loss: 17.8114\n",
            "Epoch 8/25\n",
            "3/3 [==============================] - 0s 21ms/step - loss: 15.2314 - val_loss: 18.1059\n",
            "Epoch 9/25\n",
            "3/3 [==============================] - 0s 20ms/step - loss: 14.7678 - val_loss: 17.6153\n",
            "Epoch 10/25\n",
            "3/3 [==============================] - 0s 20ms/step - loss: 13.5284 - val_loss: 16.4419\n",
            "Epoch 11/25\n",
            "3/3 [==============================] - 0s 16ms/step - loss: 13.1438 - val_loss: 15.5254\n",
            "Epoch 12/25\n",
            "3/3 [==============================] - 0s 18ms/step - loss: 12.5759 - val_loss: 15.2953\n",
            "Epoch 13/25\n",
            "3/3 [==============================] - 0s 17ms/step - loss: 12.0134 - val_loss: 15.4405\n",
            "Epoch 14/25\n",
            "3/3 [==============================] - 0s 19ms/step - loss: 11.9041 - val_loss: 15.8808\n",
            "Epoch 15/25\n",
            "3/3 [==============================] - 0s 16ms/step - loss: 11.0720 - val_loss: 15.2757\n",
            "Epoch 16/25\n",
            "3/3 [==============================] - 0s 17ms/step - loss: 10.9987 - val_loss: 15.7062\n",
            "Epoch 17/25\n",
            "3/3 [==============================] - 0s 18ms/step - loss: 10.8212 - val_loss: 15.5622\n",
            "Epoch 18/25\n",
            "3/3 [==============================] - 0s 19ms/step - loss: 10.3505 - val_loss: 15.5492\n",
            "Epoch 19/25\n",
            "3/3 [==============================] - 0s 17ms/step - loss: 9.7869 - val_loss: 15.4848\n",
            "Epoch 20/25\n",
            "3/3 [==============================] - 0s 15ms/step - loss: 9.5925 - val_loss: 14.6739\n",
            "Epoch 21/25\n",
            "3/3 [==============================] - 0s 14ms/step - loss: 9.3067 - val_loss: 15.3291\n",
            "Epoch 22/25\n",
            "3/3 [==============================] - 0s 17ms/step - loss: 9.1056 - val_loss: 15.2924\n",
            "Epoch 23/25\n",
            "3/3 [==============================] - 0s 13ms/step - loss: 9.2276 - val_loss: 16.2255\n",
            "Epoch 24/25\n",
            "3/3 [==============================] - 0s 14ms/step - loss: 9.0990 - val_loss: 15.8417\n",
            "Epoch 25/25\n",
            "3/3 [==============================] - 0s 13ms/step - loss: 8.4842 - val_loss: 15.9628\n"
          ]
        }
      ]
    },
    {
      "cell_type": "code",
      "source": [
        "plt.plot(history.history['loss'])\n",
        "plt.plot(history.history['val_loss'])\n",
        "plt.title('model loss')\n",
        "plt.ylabel('loss')\n",
        "plt.xlabel('epoch')\n",
        "plt.legend(['train', 'val'], loc='upper left')\n",
        "plt.show()"
      ],
      "metadata": {
        "colab": {
          "base_uri": "https://localhost:8080/",
          "height": 295
        },
        "id": "0Jp70mL8n6m1",
        "outputId": "e5177904-7cb4-46c0-a75a-e0a69a1b975d"
      },
      "execution_count": 102,
      "outputs": [
        {
          "output_type": "display_data",
          "data": {
            "text/plain": [
              "<Figure size 432x288 with 1 Axes>"
            ],
            "image/png": "[encoded data removed]"
          },
          "metadata": {
            "needs_background": "light"
          }
        }
      ]
    },
    {
      "cell_type": "code",
      "source": [
        "mse(non_linear_model.predict(X_test_np), y_test_np)"
      ],
      "metadata": {
        "colab": {
          "base_uri": "https://localhost:8080/"
        },
        "id": "4oM_vWCso77s",
        "outputId": "0dd9770f-8967-4c13-fc22-42508ff8faf8"
      },
      "execution_count": 103,
      "outputs": [
        {
          "output_type": "stream",
          "name": "stdout",
          "text": [
            "1/1 [==============================] - 0s 55ms/step\n"
          ]
        },
        {
          "output_type": "execute_result",
          "data": {
            "text/plain": [
              "4.980839797919176"
            ]
          },
          "metadata": {},
          "execution_count": 103
        }
      ]
    },
    {
      "cell_type": "markdown",
      "source": [
        "Linear model seems to work better."
      ],
      "metadata": {
        "id": "MJ0LLFEmp6IZ"
      }
    },
    {
      "cell_type": "markdown",
      "source": [
        "#8. Model Predictions"
      ],
      "metadata": {
        "id": "0eOMnwTClgUc"
      }
    },
    {
      "cell_type": "code",
      "source": [
        "def process_input(user_list):\n",
        "\n",
        "  OS_input, Budget_input, Size_input, Camera_Importance_input, Usage_input, Pay_More_For_Performance_input = user_list\n",
        "  processed_input = []\n",
        "\n",
        "  if OS_input == 'Must be Android':\n",
        "    processed_input += [1,0,0]\n",
        "  elif OS_input == 'Must be iPhone':\n",
        "    processed_input += [0,1,0]\n",
        "  else:\n",
        "    processed_input += [0,0,1]\n",
        "\n",
        "  processed_input += [Budget_categories[Budget_input]]\n",
        "  processed_input += [Size_categories[Size_input]]\n",
        "  processed_input += [Camera_Importance_categories[Camera_Importance_input]]\n",
        "  processed_input += [Usage_categories[Usage_input]]\n",
        "  processed_input += [Pay_More_For_Performance_categories[Pay_More_For_Performance_input]]\n",
        "\n",
        "  return processed_input\n"
      ],
      "metadata": {
        "id": "MtXcFeYeZyxS"
      },
      "execution_count": 104,
      "outputs": []
    },
    {
      "cell_type": "code",
      "source": [
        "phones = ['Apple iPhone 11',\n",
        " 'Apple iPhone 12',\n",
        " 'Apple iPhone 12 mini',\n",
        " 'Apple iPhone 13',\n",
        " 'Apple iPhone 13 mini',\n",
        " 'Apple iPhone 13 Pro',\n",
        " 'Apple iPhone 13 Pro Max',\n",
        " 'Apple iPhone SE (2022)',\n",
        " 'Google Pixel 5a',\n",
        " 'Google Pixel 6',\n",
        " 'Google Pixel 6 Pro',\n",
        " 'Motorola Edge (2021)',\n",
        " 'Motorola Edge 30 Pro',\n",
        " 'Motorola Moto G Stylus',\n",
        " 'Motorola Moto G100',\n",
        " 'OnePlus 8T',\n",
        " 'OnePlus 9',\n",
        " 'OnePlus 9 Pro',\n",
        " 'OnePlus Nord N200',\n",
        " 'Samsung Galaxy A13',\n",
        " 'Samsung Galaxy A32',\n",
        " 'Samsung Galaxy A42',\n",
        " 'Samsung Galaxy A53',\n",
        " 'Samsung Galaxy S20 FE',\n",
        " 'Samsung Galaxy S21 FE',\n",
        " 'Samsung Galaxy S22',\n",
        " 'Samsung Galaxy S22 Ultra',\n",
        " 'Samsung Galaxy S22+',\n",
        " 'Sony Xperia 1 III',\n",
        " 'Sony Xperia 5 III']"
      ],
      "metadata": {
        "id": "ErvlrFgHem3T"
      },
      "execution_count": 105,
      "outputs": []
    },
    {
      "cell_type": "code",
      "source": [
        "def predict_top_3_ranking(user_list, model_selection = 'linear'):\n",
        "\n",
        "  processed_input = process_input(user_list)\n",
        "  processed_input = np.reshape(np.array(processed_input).astype(float), (1,8))\n",
        "  \n",
        "  if model_selection == 'non_linear':\n",
        "    third_id, second_id, top_id = np.argsort(non_linear_model.predict(processed_input).flatten())[-3:]\n",
        "  else:\n",
        "    third_id, second_id, top_id = np.argsort(linear_model.predict(processed_input).flatten())[-3:]\n",
        "\n",
        "  return [phones[top_id], phones[second_id], phones[third_id]]"
      ],
      "metadata": {
        "id": "NpkUcDpBUH9u"
      },
      "execution_count": 106,
      "outputs": []
    },
    {
      "cell_type": "code",
      "source": [
        "output = predict_top_3_ranking(['Must be iPhone','$800','Medium','A little','4 - 8','I need speed'], 'linear')\n",
        "print(output)"
      ],
      "metadata": {
        "colab": {
          "base_uri": "https://localhost:8080/"
        },
        "id": "uZX9tQZDWXXc",
        "outputId": "15b8dbb3-9187-4a64-c0f3-c1a354908e0a"
      },
      "execution_count": 107,
      "outputs": [
        {
          "output_type": "stream",
          "name": "stdout",
          "text": [
            "1/1 [==============================] - 0s 19ms/step\n",
            "['Apple iPhone 13 mini', 'Apple iPhone 13 Pro Max', 'Apple iPhone 13']\n"
          ]
        }
      ]
    },
    {
      "cell_type": "code",
      "source": [
        "output = predict_top_3_ranking(['Must be Android','$1000+','Medium','A little','4 - 8','I need speed'], 'non_linear')\n",
        "print(output)"
      ],
      "metadata": {
        "colab": {
          "base_uri": "https://localhost:8080/"
        },
        "id": "UDPePHXSdeYj",
        "outputId": "31b1a2db-2f3e-4970-cfb4-1fed951186ae"
      },
      "execution_count": 108,
      "outputs": [
        {
          "output_type": "stream",
          "name": "stdout",
          "text": [
            "1/1 [==============================] - 0s 19ms/step\n",
            "['Samsung Galaxy S22 Ultra', 'Apple iPhone 13 Pro Max', 'Sony Xperia 1 III']\n"
          ]
        }
      ]
    },
    {
      "cell_type": "code",
      "source": [
        ""
      ],
      "metadata": {
        "id": "WDTU16k9NP1C"
      },
      "execution_count": null,
      "outputs": []
    }
  ]
}